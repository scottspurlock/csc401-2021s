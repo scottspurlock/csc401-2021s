{
  "nbformat": 4,
  "nbformat_minor": 0,
  "metadata": {
    "kernelspec": {
      "display_name": "Python 3",
      "language": "python",
      "name": "python3"
    },
    "language_info": {
      "codemirror_mode": {
        "name": "ipython",
        "version": 3
      },
      "file_extension": ".py",
      "mimetype": "text/x-python",
      "name": "python",
      "nbconvert_exporter": "python",
      "pygments_lexer": "ipython3",
      "version": "3.7.6"
    },
    "colab": {
      "name": "day02_tutorial_numpy_matplotlib.ipynb",
      "provenance": [],
      "include_colab_link": true
    }
  },
  "cells": [
    {
      "cell_type": "markdown",
      "metadata": {
        "id": "view-in-github",
        "colab_type": "text"
      },
      "source": [
        "<a href=\"https://colab.research.google.com/github/scottspurlock/csc401-2021s/blob/main/tutorials/day02_tutorial_numpy_matplotlib.ipynb\" target=\"_parent\"><img src=\"https://colab.research.google.com/assets/colab-badge.svg\" alt=\"Open In Colab\"/></a>"
      ]
    },
    {
      "cell_type": "markdown",
      "metadata": {
        "id": "gRMP-JNx6f0e"
      },
      "source": [
        "# Day 2 Tutorial: Introduction to Numpy and Matplotlib\n",
        "\n",
        "The following tutorial contains examples of using numpy and matplotlib. The notebook is adapted from Mobasher and Tan."
      ]
    },
    {
      "cell_type": "markdown",
      "metadata": {
        "id": "I9GlhbSw6f0j"
      },
      "source": [
        "## 2.1 Numpy"
      ]
    },
    {
      "cell_type": "code",
      "metadata": {
        "id": "cDEYGOTA6f0k"
      },
      "source": [
        "import numpy as np"
      ],
      "execution_count": 1,
      "outputs": []
    },
    {
      "cell_type": "code",
      "metadata": {
        "colab": {
          "base_uri": "https://localhost:8080/"
        },
        "id": "RdXIE3bx6f0k",
        "outputId": "71d61dd6-381d-4f4a-eda3-f113c447d8ec"
      },
      "source": [
        "# Creating a 1-d array\n",
        "\n",
        "A = np.array([1,2,3,4,5])\n",
        "print(A)\n",
        "print(type(A))\n",
        "print(A[0])\n",
        "print(type(A[0]))"
      ],
      "execution_count": 2,
      "outputs": [
        {
          "output_type": "stream",
          "text": [
            "[1 2 3 4 5]\n",
            "<class 'numpy.ndarray'>\n",
            "1\n",
            "<class 'numpy.int64'>\n"
          ],
          "name": "stdout"
        }
      ]
    },
    {
      "cell_type": "code",
      "metadata": {
        "colab": {
          "base_uri": "https://localhost:8080/"
        },
        "id": "CxIx9ABG6f0l",
        "outputId": "389d07e8-a9d3-4174-eb4f-967fdfbb5c6f"
      },
      "source": [
        "# Creating a 1-d array from an existing Python list\n",
        "\n",
        "L = [1, 2, 3, 4, 5, 6]\n",
        "\n",
        "A = np.array(L)\n",
        "A"
      ],
      "execution_count": 3,
      "outputs": [
        {
          "output_type": "execute_result",
          "data": {
            "text/plain": [
              "array([1, 2, 3, 4, 5, 6])"
            ]
          },
          "metadata": {
            "tags": []
          },
          "execution_count": 3
        }
      ]
    },
    {
      "cell_type": "code",
      "metadata": {
        "colab": {
          "base_uri": "https://localhost:8080/"
        },
        "id": "HRFSZe7e6f0m",
        "outputId": "81c07a0b-501f-4240-c512-c5bb2e60edb5"
      },
      "source": [
        "A / 5"
      ],
      "execution_count": 4,
      "outputs": [
        {
          "output_type": "execute_result",
          "data": {
            "text/plain": [
              "array([0.2, 0.4, 0.6, 0.8, 1. , 1.2])"
            ]
          },
          "metadata": {
            "tags": []
          },
          "execution_count": 4
        }
      ]
    },
    {
      "cell_type": "code",
      "metadata": {
        "colab": {
          "base_uri": "https://localhost:8080/"
        },
        "id": "gcqBhGFF6f0m",
        "outputId": "79429dbd-66ad-477c-c25c-25258ad97e86"
      },
      "source": [
        "np.array([1.0,2,3,4,5]) / 5"
      ],
      "execution_count": 5,
      "outputs": [
        {
          "output_type": "execute_result",
          "data": {
            "text/plain": [
              "array([0.2, 0.4, 0.6, 0.8, 1. ])"
            ]
          },
          "metadata": {
            "tags": []
          },
          "execution_count": 5
        }
      ]
    },
    {
      "cell_type": "code",
      "metadata": {
        "colab": {
          "base_uri": "https://localhost:8080/"
        },
        "id": "WRLGAl266f0m",
        "outputId": "c72d961f-8b75-4385-9fc2-d5361bc47ffe"
      },
      "source": [
        "M = np.array([2, 3, 4, 5, 6, 7])\n",
        "\n",
        "P = L * M\n",
        "P"
      ],
      "execution_count": 6,
      "outputs": [
        {
          "output_type": "execute_result",
          "data": {
            "text/plain": [
              "array([ 2,  6, 12, 20, 30, 42])"
            ]
          },
          "metadata": {
            "tags": []
          },
          "execution_count": 6
        }
      ]
    },
    {
      "cell_type": "code",
      "metadata": {
        "colab": {
          "base_uri": "https://localhost:8080/"
        },
        "id": "xyPtFrcP6f0n",
        "outputId": "e7d36378-2590-40cb-a2a3-5af897ec4ed2"
      },
      "source": [
        "P.sum()"
      ],
      "execution_count": 7,
      "outputs": [
        {
          "output_type": "execute_result",
          "data": {
            "text/plain": [
              "112"
            ]
          },
          "metadata": {
            "tags": []
          },
          "execution_count": 7
        }
      ]
    },
    {
      "cell_type": "code",
      "metadata": {
        "colab": {
          "base_uri": "https://localhost:8080/"
        },
        "id": "3-07oWUU6f0n",
        "outputId": "f442014e-304a-4ca7-cb58-81bb799f54d7"
      },
      "source": [
        "P.mean()"
      ],
      "execution_count": 8,
      "outputs": [
        {
          "output_type": "execute_result",
          "data": {
            "text/plain": [
              "18.666666666666668"
            ]
          },
          "metadata": {
            "tags": []
          },
          "execution_count": 8
        }
      ]
    },
    {
      "cell_type": "code",
      "metadata": {
        "colab": {
          "base_uri": "https://localhost:8080/"
        },
        "id": "I3bSTjp26f0n",
        "outputId": "b4ab4cc1-77dd-4f0d-fb7d-00c6805d7b28"
      },
      "source": [
        "print(P.min())\n",
        "print(P.max())\n"
      ],
      "execution_count": 9,
      "outputs": [
        {
          "output_type": "stream",
          "text": [
            "2\n",
            "42\n"
          ],
          "name": "stdout"
        }
      ]
    },
    {
      "cell_type": "code",
      "metadata": {
        "colab": {
          "base_uri": "https://localhost:8080/"
        },
        "id": "Qn2piuep6f0o",
        "outputId": "163f665a-68d2-44b6-c48b-5428eef2de3a"
      },
      "source": [
        "# Creating a 2-d array\n",
        "\n",
        "X = np.array([[1,2,3],[4,5,6],[7,8,9]])\n",
        "print(X)\n",
        "print(X.shape) # No parentheses - shape is not a function\n",
        "print('Rows:', X.shape[0])\n",
        "print('Columns:', X.shape[1])"
      ],
      "execution_count": 10,
      "outputs": [
        {
          "output_type": "stream",
          "text": [
            "[[1 2 3]\n",
            " [4 5 6]\n",
            " [7 8 9]]\n",
            "(3, 3)\n",
            "Rows: 3\n",
            "Columns: 3\n"
          ],
          "name": "stdout"
        }
      ]
    },
    {
      "cell_type": "code",
      "metadata": {
        "colab": {
          "base_uri": "https://localhost:8080/"
        },
        "id": "XbCfmPU16f0o",
        "outputId": "c7a192cd-0b12-423e-966a-94ca9184b1ba"
      },
      "source": [
        "# Transpose a 2-d array\n",
        "\n",
        "X.T"
      ],
      "execution_count": 11,
      "outputs": [
        {
          "output_type": "execute_result",
          "data": {
            "text/plain": [
              "array([[1, 4, 7],\n",
              "       [2, 5, 8],\n",
              "       [3, 6, 9]])"
            ]
          },
          "metadata": {
            "tags": []
          },
          "execution_count": 11
        }
      ]
    },
    {
      "cell_type": "code",
      "metadata": {
        "colab": {
          "base_uri": "https://localhost:8080/"
        },
        "id": "xWm_zhqZ6f0o",
        "outputId": "f2741a4d-90d7-476f-a0dd-ca96da8fe823"
      },
      "source": [
        "# Array slicing\n",
        "\n",
        "X[1,2]"
      ],
      "execution_count": 12,
      "outputs": [
        {
          "output_type": "execute_result",
          "data": {
            "text/plain": [
              "6"
            ]
          },
          "metadata": {
            "tags": []
          },
          "execution_count": 12
        }
      ]
    },
    {
      "cell_type": "code",
      "metadata": {
        "colab": {
          "base_uri": "https://localhost:8080/"
        },
        "id": "8MqWm_oA6f0o",
        "outputId": "6e047eb5-e5ee-44af-c0fc-fe544c92b331"
      },
      "source": [
        "# All the rows, column 1\n",
        "X[:,1]"
      ],
      "execution_count": 13,
      "outputs": [
        {
          "output_type": "execute_result",
          "data": {
            "text/plain": [
              "array([2, 5, 8])"
            ]
          },
          "metadata": {
            "tags": []
          },
          "execution_count": 13
        }
      ]
    },
    {
      "cell_type": "code",
      "metadata": {
        "colab": {
          "base_uri": "https://localhost:8080/"
        },
        "id": "c_7iv20D6f0p",
        "outputId": "81af6f8c-3807-44e3-d641-221f1aff5b53"
      },
      "source": [
        "# Row 0, all the columns\n",
        "X[0,:]"
      ],
      "execution_count": 14,
      "outputs": [
        {
          "output_type": "execute_result",
          "data": {
            "text/plain": [
              "array([1, 2, 3])"
            ]
          },
          "metadata": {
            "tags": []
          },
          "execution_count": 14
        }
      ]
    },
    {
      "cell_type": "code",
      "metadata": {
        "colab": {
          "base_uri": "https://localhost:8080/"
        },
        "id": "unCCJVzl6f0p",
        "outputId": "2b029c77-2abf-4675-a053-a011bd09e4e5"
      },
      "source": [
        "# From Row 1 on, from column 1 on\n",
        "X[1:,1:]"
      ],
      "execution_count": 15,
      "outputs": [
        {
          "output_type": "execute_result",
          "data": {
            "text/plain": [
              "array([[5, 6],\n",
              "       [8, 9]])"
            ]
          },
          "metadata": {
            "tags": []
          },
          "execution_count": 15
        }
      ]
    },
    {
      "cell_type": "code",
      "metadata": {
        "colab": {
          "base_uri": "https://localhost:8080/"
        },
        "id": "538BVs3K6f0p",
        "outputId": "9962c1c9-79fc-4365-a53f-276ef14f3402"
      },
      "source": [
        "# From row 1 on, Column 0 to 1 (end index not inclusive)\n",
        "X[1:,0:2]"
      ],
      "execution_count": 16,
      "outputs": [
        {
          "output_type": "execute_result",
          "data": {
            "text/plain": [
              "array([[4, 5],\n",
              "       [7, 8]])"
            ]
          },
          "metadata": {
            "tags": []
          },
          "execution_count": 16
        }
      ]
    },
    {
      "cell_type": "code",
      "metadata": {
        "colab": {
          "base_uri": "https://localhost:8080/"
        },
        "id": "vir9RtnX6f0p",
        "outputId": "6ac27644-7a1e-4067-ba16-c3995beb37ca"
      },
      "source": [
        "# Using arrays to index into other arrays (e.g., Boolean masks)\n",
        "\n",
        "A = np.array([1, 2, 3, 4, 5, 6])\n",
        "\n",
        "A > 3"
      ],
      "execution_count": 17,
      "outputs": [
        {
          "output_type": "execute_result",
          "data": {
            "text/plain": [
              "array([False, False, False,  True,  True,  True])"
            ]
          },
          "metadata": {
            "tags": []
          },
          "execution_count": 17
        }
      ]
    },
    {
      "cell_type": "code",
      "metadata": {
        "colab": {
          "base_uri": "https://localhost:8080/"
        },
        "id": "WNKuWdQl6f0q",
        "outputId": "720ddac5-6cf8-4d29-a162-ca76ec2b0476"
      },
      "source": [
        "# Keep only elements where A > 3\n",
        "mask = A > 3\n",
        "B = A[mask]\n",
        "B"
      ],
      "execution_count": 18,
      "outputs": [
        {
          "output_type": "execute_result",
          "data": {
            "text/plain": [
              "array([4, 5, 6])"
            ]
          },
          "metadata": {
            "tags": []
          },
          "execution_count": 18
        }
      ]
    },
    {
      "cell_type": "code",
      "metadata": {
        "colab": {
          "base_uri": "https://localhost:8080/"
        },
        "id": "so-oSyqF6f0q",
        "outputId": "1ac598ed-ccc5-4b21-881d-ba3432a2d3fd"
      },
      "source": [
        "B.sum()"
      ],
      "execution_count": 19,
      "outputs": [
        {
          "output_type": "execute_result",
          "data": {
            "text/plain": [
              "15"
            ]
          },
          "metadata": {
            "tags": []
          },
          "execution_count": 19
        }
      ]
    },
    {
      "cell_type": "code",
      "metadata": {
        "colab": {
          "base_uri": "https://localhost:8080/"
        },
        "id": "YfNeEqFQ6f0q",
        "outputId": "f014ece5-3358-4b90-ae3e-ea9bd0771814"
      },
      "source": [
        "# Combine two masks with logical AND to get a range\n",
        "mask = (A > 1) & (A < 6)\n",
        "print(mask)\n",
        "A[mask]"
      ],
      "execution_count": 20,
      "outputs": [
        {
          "output_type": "stream",
          "text": [
            "[False  True  True  True  True False]\n"
          ],
          "name": "stdout"
        },
        {
          "output_type": "execute_result",
          "data": {
            "text/plain": [
              "array([2, 3, 4, 5])"
            ]
          },
          "metadata": {
            "tags": []
          },
          "execution_count": 20
        }
      ]
    },
    {
      "cell_type": "markdown",
      "metadata": {
        "id": "sNta1Yl76f0q"
      },
      "source": [
        "### There are several ways to create numpy arrays."
      ]
    },
    {
      "cell_type": "code",
      "metadata": {
        "colab": {
          "base_uri": "https://localhost:8080/"
        },
        "id": "LhhtRKkk6f0q",
        "outputId": "5be8b7aa-0a4b-48a0-a17f-88e5f81cf2ae"
      },
      "source": [
        "print(np.zeros((2,3)))        # a 2 x 3 matrix of zeros\n",
        "print(np.ones((3,2)))         # a 3 x 2 matrix of ones\n"
      ],
      "execution_count": 21,
      "outputs": [
        {
          "output_type": "stream",
          "text": [
            "[[0. 0. 0.]\n",
            " [0. 0. 0.]]\n",
            "[[1. 1.]\n",
            " [1. 1.]\n",
            " [1. 1.]]\n"
          ],
          "name": "stdout"
        }
      ]
    },
    {
      "cell_type": "code",
      "metadata": {
        "colab": {
          "base_uri": "https://localhost:8080/"
        },
        "id": "Fxs8vaOI6f0r",
        "outputId": "19333946-6008-4c92-d6c8-ea0db54d3a01"
      },
      "source": [
        "print(np.random.rand(5))      # random numbers from a uniform distribution between [0,1]\n",
        "print(np.random.randn(5))     # random numbers from a normal distribution\n",
        "print(np.arange(-10,10,2))    # array of ints from -10 to 8, by 2s\n",
        "print(np.arange(12).reshape(3,4))  # reshape to a matrix\n",
        "print(np.linspace(0,1,10))    # split interval [0,1] into 10 equally separated values"
      ],
      "execution_count": 22,
      "outputs": [
        {
          "output_type": "stream",
          "text": [
            "[0.78658394 0.8304189  0.52661578 0.08495449 0.41042975]\n",
            "[ 1.05041008  1.41688888  1.30559762 -0.08238007 -0.266607  ]\n",
            "[-10  -8  -6  -4  -2   0   2   4   6   8]\n",
            "[[ 0  1  2  3]\n",
            " [ 4  5  6  7]\n",
            " [ 8  9 10 11]]\n",
            "[0.         0.11111111 0.22222222 0.33333333 0.44444444 0.55555556\n",
            " 0.66666667 0.77777778 0.88888889 1.        ]\n"
          ],
          "name": "stdout"
        }
      ]
    },
    {
      "cell_type": "markdown",
      "metadata": {
        "id": "FD9noi8t6f0r"
      },
      "source": [
        "### We can also use numpy to write and read in text files."
      ]
    },
    {
      "cell_type": "code",
      "metadata": {
        "colab": {
          "base_uri": "https://localhost:8080/"
        },
        "id": "9bwWh0zF6f0r",
        "outputId": "127d0dcc-8221-421b-e8f6-6f1ed9d59ac9"
      },
      "source": [
        "# Make some random data\n",
        "A = np.random.rand(4, 2)\n",
        "print(A)\n",
        "\n",
        "# Save the data as a text file (tab-delimited by default)\n",
        "np.savetxt('numbers.txt', A)\n",
        "\n",
        "# We can optionally include a header in the file\n",
        "np.savetxt('numbers.txt', A, header='column1 column2')\n",
        "\n",
        "# For reading in a text file, we can skip the first row if the file has a header line\n",
        "#B = np.loadtxt('numbers.txt')\n",
        "B = np.loadtxt('numbers.txt', skiprows=1)\n",
        "print(B)"
      ],
      "execution_count": 23,
      "outputs": [
        {
          "output_type": "stream",
          "text": [
            "[[0.98500752 0.13250997]\n",
            " [0.1409353  0.20301838]\n",
            " [0.64598365 0.79261865]\n",
            " [0.05213811 0.4450489 ]]\n",
            "[[0.98500752 0.13250997]\n",
            " [0.1409353  0.20301838]\n",
            " [0.64598365 0.79261865]\n",
            " [0.05213811 0.4450489 ]]\n"
          ],
          "name": "stdout"
        }
      ]
    },
    {
      "cell_type": "markdown",
      "metadata": {
        "id": "5rQ33ZU66f0r"
      },
      "source": [
        "## 2.2 Matplotlib"
      ]
    },
    {
      "cell_type": "code",
      "metadata": {
        "id": "WNZjEKX06f0r"
      },
      "source": [
        "import matplotlib.pyplot as plt\n",
        "%matplotlib inline"
      ],
      "execution_count": 24,
      "outputs": []
    },
    {
      "cell_type": "markdown",
      "metadata": {
        "id": "t6FuD2zt6f0s"
      },
      "source": [
        "### Plotting"
      ]
    },
    {
      "cell_type": "code",
      "metadata": {
        "colab": {
          "base_uri": "https://localhost:8080/",
          "height": 295
        },
        "id": "6pS2hi6P6f0s",
        "outputId": "17b56932-b477-449d-b2cb-a6c57a66306c"
      },
      "source": [
        "# Make up some data\n",
        "x = np.arange(5, 50)\n",
        "y1 = np.sin(x/2)\n",
        "y2 = 1.5 * np.cos(x / 2)\n",
        "\n",
        "plt.plot(x, y1, label='y1')\n",
        "plt.plot(x, y2, label='y2')\n",
        "plt.legend( ('y1', 'y2') )\n",
        "plt.ylabel('y')\n",
        "plt.xlabel('x')\n",
        "plt.title('An example plot')\n",
        "plt.show()"
      ],
      "execution_count": 25,
      "outputs": [
        {
          "output_type": "display_data",
          "data": {
            "image/png": "[encoded data removed]",
            "text/plain": [
              "<Figure size 432x288 with 1 Axes>"
            ]
          },
          "metadata": {
            "tags": [],
            "needs_background": "light"
          }
        }
      ]
    },
    {
      "cell_type": "markdown",
      "metadata": {
        "id": "GPXFAgVx6f0s"
      },
      "source": [
        "### Histograms"
      ]
    },
    {
      "cell_type": "code",
      "metadata": {
        "colab": {
          "base_uri": "https://localhost:8080/",
          "height": 295
        },
        "id": "CwfJATb36f0s",
        "outputId": "fd183048-8ee0-4746-c4a4-92ef0bb21c07"
      },
      "source": [
        "plt.hist(y1, bins=8)\n",
        "plt.xlabel('y1')\n",
        "plt.ylabel('Count')\n",
        "plt.title('Histogram of y1')\n",
        "plt.grid(True)\n",
        "plt.show()"
      ],
      "execution_count": 26,
      "outputs": [
        {
          "output_type": "display_data",
          "data": {
            "image/png": "[encoded data removed]",
            "text/plain": [
              "<Figure size 432x288 with 1 Axes>"
            ]
          },
          "metadata": {
            "tags": [],
            "needs_background": "light"
          }
        }
      ]
    },
    {
      "cell_type": "markdown",
      "metadata": {
        "id": "FG4hG4yD6f0s"
      },
      "source": [
        "### Scatter plots"
      ]
    },
    {
      "cell_type": "code",
      "metadata": {
        "colab": {
          "base_uri": "https://localhost:8080/",
          "height": 295
        },
        "id": "4ZRs5eT06f0t",
        "outputId": "a70961e2-2ab0-4642-bd72-3b15342a1c02"
      },
      "source": [
        "x1 = np.random.randn(500)\n",
        "x2 = np.random.randn(500)\n",
        "# alpha controls how \"see-through\" data points are\n",
        "plt.scatter(x1, x2, marker='o', color='b', alpha=0.5)\n",
        "plt.xlabel('x1')\n",
        "plt.ylabel('x2')\n",
        "plt.title('x1 vs x2')\n",
        "plt.show()\n"
      ],
      "execution_count": 27,
      "outputs": [
        {
          "output_type": "display_data",
          "data": {
            "image/png": "[encoded data removed]",
            "text/plain": [
              "<Figure size 432x288 with 1 Axes>"
            ]
          },
          "metadata": {
            "tags": [],
            "needs_background": "light"
          }
        }
      ]
    },
    {
      "cell_type": "markdown",
      "metadata": {
        "id": "6DQS_EuA6f0t"
      },
      "source": [
        "### Bar plots"
      ]
    },
    {
      "cell_type": "code",
      "metadata": {
        "colab": {
          "base_uri": "https://localhost:8080/",
          "height": 295
        },
        "id": "E-0vO3O46f0t",
        "outputId": "a5b1482d-36b1-4dc9-b159-49af977804fd"
      },
      "source": [
        "x = np.arange(10)\n",
        "y = np.random.rand(10)\n",
        "plt.bar(x, y)\n",
        "plt.xlabel('x axis')\n",
        "plt.ylabel('y axis')\n",
        "plt.title('Example Bar Plot')\n",
        "plt.show()\n"
      ],
      "execution_count": 28,
      "outputs": [
        {
          "output_type": "display_data",
          "data": {
            "image/png": "[encoded data removed]",
            "text/plain": [
              "<Figure size 432x288 with 1 Axes>"
            ]
          },
          "metadata": {
            "tags": [],
            "needs_background": "light"
          }
        }
      ]
    },
    {
      "cell_type": "markdown",
      "metadata": {
        "id": "AlHiWcIM6f0t"
      },
      "source": [
        "### Box plots"
      ]
    },
    {
      "cell_type": "code",
      "metadata": {
        "colab": {
          "base_uri": "https://localhost:8080/",
          "height": 295
        },
        "id": "RmvlM18w6f0t",
        "outputId": "479a1971-f1d2-4334-c337-b26ad2b3490a"
      },
      "source": [
        "x1 = np.random.randn(100)\n",
        "x2 = 1.1 * np.random.randn(100) + 0.2\n",
        "x3 = 0.6 * np.random.randn(100) - 0.2\n",
        "plt.boxplot([x1, x2, x3])\n",
        "plt.xlabel('Categories')\n",
        "plt.ylabel('Value')\n",
        "plt.title('Example Boxplot')\n",
        "plt.show()"
      ],
      "execution_count": 29,
      "outputs": [
        {
          "output_type": "display_data",
          "data": {
            "image/png": "[encoded data removed]",
            "text/plain": [
              "<Figure size 432x288 with 1 Axes>"
            ]
          },
          "metadata": {
            "tags": [],
            "needs_background": "light"
          }
        }
      ]
    },
    {
      "cell_type": "code",
      "metadata": {
        "id": "eKR6RA_a6f0t"
      },
      "source": [
        ""
      ],
      "execution_count": 29,
      "outputs": []
    }
  ]
}