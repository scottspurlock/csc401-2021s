{
  "nbformat": 4,
  "nbformat_minor": 0,
  "metadata": {
    "colab": {
      "name": "day06_tutorial_model_validation.ipynb",
      "provenance": [],
      "collapsed_sections": [],
      "authorship_tag": "ABX9TyMCfQBWDC7aU1mCdXQFLHzt",
      "include_colab_link": true
    },
    "kernelspec": {
      "name": "python3",
      "display_name": "Python 3"
    }
  },
  "cells": [
    {
      "cell_type": "markdown",
      "metadata": {
        "id": "view-in-github",
        "colab_type": "text"
      },
      "source": [
        "<a href=\"https://colab.research.google.com/github/scottspurlock/csc401-2021s/blob/main/tutorials/day06_tutorial_model_validation.ipynb\" target=\"_parent\"><img src=\"https://colab.research.google.com/assets/colab-badge.svg\" alt=\"Open In Colab\"/></a>"
      ]
    },
    {
      "cell_type": "markdown",
      "metadata": {
        "id": "6WnXt38x8ZNo"
      },
      "source": [
        "# Day 6 Tutorial\n",
        "- Metrics (accuracy, precision, recall, error)\n",
        "- Cross validation\n",
        "- Grid search (hyperparameters)\n"
      ]
    },
    {
      "cell_type": "code",
      "metadata": {
        "id": "WT8nb5iD9aIZ"
      },
      "source": [
        "import numpy as np\n",
        "import matplotlib.pyplot as plt\n",
        "import pandas as pd\n",
        "\n",
        "import seaborn as sns;\n",
        "from sklearn.model_selection import train_test_split\n",
        "from sklearn.neighbors import KNeighborsClassifier\n",
        "from sklearn.metrics import confusion_matrix\n"
      ],
      "execution_count": 1,
      "outputs": []
    },
    {
      "cell_type": "code",
      "metadata": {
        "colab": {
          "base_uri": "https://localhost:8080/",
          "height": 419
        },
        "id": "2rN7WflWFWy2",
        "outputId": "8363f54b-50f4-489b-b239-0304ca56f456"
      },
      "source": [
        "# This is the classic iris dataset (1936)\n",
        "# Read more: https://archive.ics.uci.edu/ml/datasets/Iris\n",
        "file_link = 'https://drive.google.com/uc?export=download&id=1UZTj2GjSTFiBqAeOXiroTxviy_zLxLpL'\n",
        "df = pd.read_csv(file_link)\n",
        "df"
      ],
      "execution_count": 2,
      "outputs": [
        {
          "output_type": "execute_result",
          "data": {
            "text/html": [
              "<div>\n",
              "<style scoped>\n",
              "    .dataframe tbody tr th:only-of-type {\n",
              "        vertical-align: middle;\n",
              "    }\n",
              "\n",
              "    .dataframe tbody tr th {\n",
              "        vertical-align: top;\n",
              "    }\n",
              "\n",
              "    .dataframe thead th {\n",
              "        text-align: right;\n",
              "    }\n",
              "</style>\n",
              "<table border=\"1\" class=\"dataframe\">\n",
              "  <thead>\n",
              "    <tr style=\"text-align: right;\">\n",
              "      <th></th>\n",
              "      <th>sepal_length</th>\n",
              "      <th>sepal_width</th>\n",
              "      <th>petal_length</th>\n",
              "      <th>petal_width</th>\n",
              "      <th>class</th>\n",
              "    </tr>\n",
              "  </thead>\n",
              "  <tbody>\n",
              "    <tr>\n",
              "      <th>0</th>\n",
              "      <td>5.1</td>\n",
              "      <td>3.5</td>\n",
              "      <td>1.4</td>\n",
              "      <td>0.2</td>\n",
              "      <td>Iris-setosa</td>\n",
              "    </tr>\n",
              "    <tr>\n",
              "      <th>1</th>\n",
              "      <td>4.9</td>\n",
              "      <td>3.0</td>\n",
              "      <td>1.4</td>\n",
              "      <td>0.2</td>\n",
              "      <td>Iris-setosa</td>\n",
              "    </tr>\n",
              "    <tr>\n",
              "      <th>2</th>\n",
              "      <td>4.7</td>\n",
              "      <td>3.2</td>\n",
              "      <td>1.3</td>\n",
              "      <td>0.2</td>\n",
              "      <td>Iris-setosa</td>\n",
              "    </tr>\n",
              "    <tr>\n",
              "      <th>3</th>\n",
              "      <td>4.6</td>\n",
              "      <td>3.1</td>\n",
              "      <td>1.5</td>\n",
              "      <td>0.2</td>\n",
              "      <td>Iris-setosa</td>\n",
              "    </tr>\n",
              "    <tr>\n",
              "      <th>4</th>\n",
              "      <td>5.0</td>\n",
              "      <td>3.6</td>\n",
              "      <td>1.4</td>\n",
              "      <td>0.2</td>\n",
              "      <td>Iris-setosa</td>\n",
              "    </tr>\n",
              "    <tr>\n",
              "      <th>...</th>\n",
              "      <td>...</td>\n",
              "      <td>...</td>\n",
              "      <td>...</td>\n",
              "      <td>...</td>\n",
              "      <td>...</td>\n",
              "    </tr>\n",
              "    <tr>\n",
              "      <th>145</th>\n",
              "      <td>6.7</td>\n",
              "      <td>3.0</td>\n",
              "      <td>5.2</td>\n",
              "      <td>2.3</td>\n",
              "      <td>Iris-virginica</td>\n",
              "    </tr>\n",
              "    <tr>\n",
              "      <th>146</th>\n",
              "      <td>6.3</td>\n",
              "      <td>2.5</td>\n",
              "      <td>5.0</td>\n",
              "      <td>1.9</td>\n",
              "      <td>Iris-virginica</td>\n",
              "    </tr>\n",
              "    <tr>\n",
              "      <th>147</th>\n",
              "      <td>6.5</td>\n",
              "      <td>3.0</td>\n",
              "      <td>5.2</td>\n",
              "      <td>2.0</td>\n",
              "      <td>Iris-virginica</td>\n",
              "    </tr>\n",
              "    <tr>\n",
              "      <th>148</th>\n",
              "      <td>6.2</td>\n",
              "      <td>3.4</td>\n",
              "      <td>5.4</td>\n",
              "      <td>2.3</td>\n",
              "      <td>Iris-virginica</td>\n",
              "    </tr>\n",
              "    <tr>\n",
              "      <th>149</th>\n",
              "      <td>5.9</td>\n",
              "      <td>3.0</td>\n",
              "      <td>5.1</td>\n",
              "      <td>1.8</td>\n",
              "      <td>Iris-virginica</td>\n",
              "    </tr>\n",
              "  </tbody>\n",
              "</table>\n",
              "<p>150 rows × 5 columns</p>\n",
              "</div>"
            ],
            "text/plain": [
              "     sepal_length  sepal_width  petal_length  petal_width           class\n",
              "0             5.1          3.5           1.4          0.2     Iris-setosa\n",
              "1             4.9          3.0           1.4          0.2     Iris-setosa\n",
              "2             4.7          3.2           1.3          0.2     Iris-setosa\n",
              "3             4.6          3.1           1.5          0.2     Iris-setosa\n",
              "4             5.0          3.6           1.4          0.2     Iris-setosa\n",
              "..            ...          ...           ...          ...             ...\n",
              "145           6.7          3.0           5.2          2.3  Iris-virginica\n",
              "146           6.3          2.5           5.0          1.9  Iris-virginica\n",
              "147           6.5          3.0           5.2          2.0  Iris-virginica\n",
              "148           6.2          3.4           5.4          2.3  Iris-virginica\n",
              "149           5.9          3.0           5.1          1.8  Iris-virginica\n",
              "\n",
              "[150 rows x 5 columns]"
            ]
          },
          "metadata": {
            "tags": []
          },
          "execution_count": 2
        }
      ]
    },
    {
      "cell_type": "code",
      "metadata": {
        "colab": {
          "base_uri": "https://localhost:8080/"
        },
        "id": "lQG1Q3CrFZSm",
        "outputId": "9175d996-3b84-48ae-d223-02d78a7d67e6"
      },
      "source": [
        "# Separate out data and labels\n",
        "X = df[['sepal_length', 'sepal_width', 'petal_length', 'petal_width']].values\n",
        "y = df['class'].astype('category').cat.codes.values\n",
        "print('X shape:', X.shape, '   y shape:', y.shape)"
      ],
      "execution_count": 3,
      "outputs": [
        {
          "output_type": "stream",
          "text": [
            "X shape: (150, 4)    y shape: (150,)\n"
          ],
          "name": "stdout"
        }
      ]
    },
    {
      "cell_type": "code",
      "metadata": {
        "id": "lHCgEyokFnX4"
      },
      "source": [
        "# Split into train/test data\n",
        "Xtrain, Xtest, ytrain, ytest = train_test_split(X, y, test_size=0.3, random_state=0)"
      ],
      "execution_count": 4,
      "outputs": []
    },
    {
      "cell_type": "code",
      "metadata": {
        "colab": {
          "base_uri": "https://localhost:8080/"
        },
        "id": "VqwCI9NkGK0d",
        "outputId": "2e846369-836b-4e3d-cc5f-8b66e4deca3f"
      },
      "source": [
        "# Train a model\n",
        "model = KNeighborsClassifier(n_neighbors=1, metric='euclidean')\n",
        "model.fit(Xtrain, ytrain)"
      ],
      "execution_count": 5,
      "outputs": [
        {
          "output_type": "execute_result",
          "data": {
            "text/plain": [
              "KNeighborsClassifier(algorithm='auto', leaf_size=30, metric='euclidean',\n",
              "                     metric_params=None, n_jobs=None, n_neighbors=1, p=2,\n",
              "                     weights='uniform')"
            ]
          },
          "metadata": {
            "tags": []
          },
          "execution_count": 5
        }
      ]
    },
    {
      "cell_type": "code",
      "metadata": {
        "id": "LZa4oIU_GU1e"
      },
      "source": [
        "# Predict test data\n",
        "ypred = model.predict(Xtest)"
      ],
      "execution_count": 6,
      "outputs": []
    },
    {
      "cell_type": "code",
      "metadata": {
        "colab": {
          "base_uri": "https://localhost:8080/",
          "height": 295
        },
        "id": "e-XAjgR2I3Eo",
        "outputId": "761324de-6ab2-4de5-8752-547c27e88b9c"
      },
      "source": [
        "# Display confusion matrix\n",
        "cm = confusion_matrix(ytest, ypred)\n",
        "sns.heatmap(cm, square=True, annot=True, fmt='d', cbar=True, cmap=\"YlGn\",\n",
        "                    xticklabels=model.classes_,\n",
        "                    yticklabels=model.classes_)\n",
        "\n",
        "plt.xlabel('Predicted Label');\n",
        "plt.ylabel('True Label')\n",
        "plt.title('Iris Classification Confusion Matrix')\n",
        "plt.show()"
      ],
      "execution_count": 7,
      "outputs": [
        {
          "output_type": "display_data",
          "data": {
            "image/png": "[encoded data removed]",
            "text/plain": [
              "<Figure size 432x288 with 2 Axes>"
            ]
          },
          "metadata": {
            "tags": [],
            "needs_background": "light"
          }
        }
      ]
    },
    {
      "cell_type": "markdown",
      "metadata": {
        "id": "ZbTkvF9lG4Ir"
      },
      "source": [
        "## Classification Report\n",
        "It is often helpful to have more information than just accuracy to evaluate how well classification is working.\n",
        "- Precision indicates how often the model was correct, when predicting a particular class.\n",
        "- Recall indicates how often the model was correct, when the actual label was a particular class.\n",
        "- f1-score is the harmonic mean of precision and recall.\n",
        "- Support counts how many times a class occurs in the actual labels."
      ]
    },
    {
      "cell_type": "code",
      "metadata": {
        "colab": {
          "base_uri": "https://localhost:8080/"
        },
        "id": "Zer2p1lpGp6I",
        "outputId": "73ba4d6c-c932-4f92-cac0-a55ac7f31af2"
      },
      "source": [
        "from sklearn.metrics import classification_report\n",
        "\n",
        "print(classification_report(ytest, ypred))"
      ],
      "execution_count": 8,
      "outputs": [
        {
          "output_type": "stream",
          "text": [
            "              precision    recall  f1-score   support\n",
            "\n",
            "           0       1.00      1.00      1.00        16\n",
            "           1       1.00      0.94      0.97        18\n",
            "           2       0.92      1.00      0.96        11\n",
            "\n",
            "    accuracy                           0.98        45\n",
            "   macro avg       0.97      0.98      0.98        45\n",
            "weighted avg       0.98      0.98      0.98        45\n",
            "\n"
          ],
          "name": "stdout"
        }
      ]
    },
    {
      "cell_type": "markdown",
      "metadata": {
        "id": "nzsq3VR7SAhs"
      },
      "source": [
        "## Cross Validation\n",
        "To reduce variability due to a particular random sample of train/test data, it's a good idea to run multiple experiments and average the results. A common approach is to use cross validation, where the data is partitioned into K sets (called folds), and K experiments are performed, each time with the Kth set being the test data (sometimes called the validation set), and the rest being the training data.\n",
        "\n",
        "Most commonly, K is selected to be 5, and the testing procedure is called 5-fold cross validation. See figure below."
      ]
    },
    {
      "cell_type": "code",
      "metadata": {
        "colab": {
          "base_uri": "https://localhost:8080/",
          "height": 335
        },
        "id": "RmwkporzKOcn",
        "outputId": "410cc21b-d2a8-46e3-a997-d2d836f00679"
      },
      "source": [
        "# Adapted from VanderPlas\n",
        "def draw_rects(N, ax, textprop={}):\n",
        "    for i in range(N):\n",
        "        ax.add_patch(plt.Rectangle((0, i), 5, 0.7, fc='white', ec='black'))\n",
        "        ax.add_patch(plt.Rectangle((5. * i / N, i), 5. / N, 0.7, fc='lightgray', ec='black'))\n",
        "        ax.text(5. * (i + 0.5) / N, i + 0.35,\n",
        "                \"validation\\nset\", ha='center', va='center', **textprop)\n",
        "        ax.text(0, i + 0.35, \"trial {0}\".format(N - i),\n",
        "                ha='right', va='center', rotation=90, **textprop)\n",
        "    ax.set_xlim(-1, 6)\n",
        "    ax.set_ylim(-0.2, N + 0.2)\n",
        "\n",
        "fig = plt.figure()\n",
        "ax = fig.add_axes([0, 0, 1, 1])\n",
        "ax.axis('off')\n",
        "draw_rects(5, ax, textprop=dict(size=10))\n",
        "plt.title('5-fold Cross Validation')\n",
        "plt.show()"
      ],
      "execution_count": 9,
      "outputs": [
        {
          "output_type": "display_data",
          "data": {
            "image/png": "[encoded data removed]",
            "text/plain": [
              "<Figure size 432x288 with 1 Axes>"
            ]
          },
          "metadata": {
            "tags": [],
            "needs_background": "light"
          }
        }
      ]
    },
    {
      "cell_type": "code",
      "metadata": {
        "colab": {
          "base_uri": "https://localhost:8080/"
        },
        "id": "73uwGbOGTykl",
        "outputId": "767ec614-b990-4958-ce47-3627220b577f"
      },
      "source": [
        "from sklearn.model_selection import cross_val_score\n",
        "results = cross_val_score(model, X, y, cv=5)\n",
        "results"
      ],
      "execution_count": 10,
      "outputs": [
        {
          "output_type": "execute_result",
          "data": {
            "text/plain": [
              "array([0.96666667, 0.96666667, 0.93333333, 0.93333333, 1.        ])"
            ]
          },
          "metadata": {
            "tags": []
          },
          "execution_count": 10
        }
      ]
    },
    {
      "cell_type": "code",
      "metadata": {
        "colab": {
          "base_uri": "https://localhost:8080/"
        },
        "id": "6pbugbV_WJYi",
        "outputId": "48fa304d-b984-4090-a30b-6b2225218088"
      },
      "source": [
        "print('Average accuracy: {:.2f}%'.format(100*results.mean()))"
      ],
      "execution_count": 11,
      "outputs": [
        {
          "output_type": "stream",
          "text": [
            "Average accuracy: 96.00%\n"
          ],
          "name": "stdout"
        }
      ]
    },
    {
      "cell_type": "markdown",
      "metadata": {
        "id": "0qzFrBL-aa-7"
      },
      "source": [
        "## Grid search\n",
        "Most machine learning methods have hyperparameters that must be set. The best values for the hyperparameters depend on the data, and need to be tuned through experimentation. Grid search is the process of trying out different settings. Note that this process can be extremely slow when datasets are large and/or there are many hyperparameters."
      ]
    },
    {
      "cell_type": "code",
      "metadata": {
        "id": "DcQglL0Qbf_y"
      },
      "source": [
        "# For KNN, the main hyperparameter is K, the number of neighbors (in the training set)\n",
        "# to compare a test point to. We can also try different distance metrics, which control\n",
        "# how \"nearest\" is defined. And we can choose whether or not the distance of\n",
        "# the neighbors should affect how much their votes count. \n",
        "model = KNeighborsClassifier(n_neighbors=1, metric='euclidean', weights='uniform')"
      ],
      "execution_count": 12,
      "outputs": []
    },
    {
      "cell_type": "code",
      "metadata": {
        "id": "nGkNiq93bSYD"
      },
      "source": [
        "from sklearn.model_selection import GridSearchCV\n",
        "param_grid = {'n_neighbors': np.arange(1, 51),\n",
        "              'metric': ['euclidean', 'manhattan'],\n",
        "              'weights': ['uniform', 'distance']}\n",
        "\n",
        "# We can incorporate cross-validation into the grid search by specifying cv=5.\n",
        "grid = GridSearchCV(model, param_grid, cv=5, verbose=1)"
      ],
      "execution_count": 13,
      "outputs": []
    },
    {
      "cell_type": "code",
      "metadata": {
        "colab": {
          "base_uri": "https://localhost:8080/"
        },
        "id": "cMatAUlycaEU",
        "outputId": "14bc4170-9a4f-4167-f37e-a083cbcbe881"
      },
      "source": [
        "# We'll use just the training data, so that we can evaluate the best model\n",
        "# against data that was unseen during training.\n",
        "grid.fit(Xtrain, ytrain)"
      ],
      "execution_count": 14,
      "outputs": [
        {
          "output_type": "stream",
          "text": [
            "Fitting 5 folds for each of 200 candidates, totalling 1000 fits\n"
          ],
          "name": "stdout"
        },
        {
          "output_type": "stream",
          "text": [
            "[Parallel(n_jobs=1)]: Using backend SequentialBackend with 1 concurrent workers.\n",
            "[Parallel(n_jobs=1)]: Done 1000 out of 1000 | elapsed:    2.4s finished\n"
          ],
          "name": "stderr"
        },
        {
          "output_type": "execute_result",
          "data": {
            "text/plain": [
              "GridSearchCV(cv=5, error_score=nan,\n",
              "             estimator=KNeighborsClassifier(algorithm='auto', leaf_size=30,\n",
              "                                            metric='euclidean',\n",
              "                                            metric_params=None, n_jobs=None,\n",
              "                                            n_neighbors=1, p=2,\n",
              "                                            weights='uniform'),\n",
              "             iid='deprecated', n_jobs=None,\n",
              "             param_grid={'metric': ['euclidean', 'manhattan'],\n",
              "                         'n_neighbors': array([ 1,  2,  3,  4,  5,  6,  7,  8,  9, 10, 11, 12, 13, 14, 15, 16, 17,\n",
              "       18, 19, 20, 21, 22, 23, 24, 25, 26, 27, 28, 29, 30, 31, 32, 33, 34,\n",
              "       35, 36, 37, 38, 39, 40, 41, 42, 43, 44, 45, 46, 47, 48, 49, 50]),\n",
              "                         'weights': ['uniform', 'distance']},\n",
              "             pre_dispatch='2*n_jobs', refit=True, return_train_score=False,\n",
              "             scoring=None, verbose=1)"
            ]
          },
          "metadata": {
            "tags": []
          },
          "execution_count": 14
        }
      ]
    },
    {
      "cell_type": "code",
      "metadata": {
        "colab": {
          "base_uri": "https://localhost:8080/"
        },
        "id": "H1Te2R7jchaw",
        "outputId": "be50db31-9c98-423a-ca83-7b13a0a28b42"
      },
      "source": [
        "grid.best_params_"
      ],
      "execution_count": 15,
      "outputs": [
        {
          "output_type": "execute_result",
          "data": {
            "text/plain": [
              "{'metric': 'euclidean', 'n_neighbors': 5, 'weights': 'uniform'}"
            ]
          },
          "metadata": {
            "tags": []
          },
          "execution_count": 15
        }
      ]
    },
    {
      "cell_type": "code",
      "metadata": {
        "colab": {
          "base_uri": "https://localhost:8080/"
        },
        "id": "khKh1DG_c0WH",
        "outputId": "e9061e00-d05b-4db1-d042-8a28feae747c"
      },
      "source": [
        "model = grid.best_estimator_\n",
        "model.fit(Xtrain, ytrain)\n",
        "ypred = model.predict(Xtest)\n",
        "print(classification_report(ytest, ypred))\n"
      ],
      "execution_count": 16,
      "outputs": [
        {
          "output_type": "stream",
          "text": [
            "              precision    recall  f1-score   support\n",
            "\n",
            "           0       1.00      1.00      1.00        16\n",
            "           1       1.00      0.94      0.97        18\n",
            "           2       0.92      1.00      0.96        11\n",
            "\n",
            "    accuracy                           0.98        45\n",
            "   macro avg       0.97      0.98      0.98        45\n",
            "weighted avg       0.98      0.98      0.98        45\n",
            "\n"
          ],
          "name": "stdout"
        }
      ]
    },
    {
      "cell_type": "markdown",
      "metadata": {
        "id": "Lg8GS8GukBwS"
      },
      "source": [
        "## Getting to the detailed test results\n",
        "These are hidden inside grid.cv_results_, which is a dictionary with keys for the different hyperparameter settings and the accuracies of the tests."
      ]
    },
    {
      "cell_type": "code",
      "metadata": {
        "colab": {
          "base_uri": "https://localhost:8080/",
          "height": 350
        },
        "id": "KrTzj9p2hoJV",
        "outputId": "cc727dd1-6c1c-4a5e-fd6f-922d24dd1b1c"
      },
      "source": [
        "plt.figure(figsize=(12, 5))\n",
        "\n",
        "mask = (grid.cv_results_['param_weights'] == 'uniform') & (grid.cv_results_['param_metric'] == 'euclidean')\n",
        "k_vals = grid.cv_results_['param_n_neighbors'][mask].data\n",
        "acc_vals = grid.cv_results_['mean_test_score'][mask]\n",
        "plt.plot(k_vals, acc_vals, '.:', label='Uniform Weights, Euclidean Distance')\n",
        "\n",
        "mask = (grid.cv_results_['param_weights'] == 'uniform') & (grid.cv_results_['param_metric'] == 'manhattan')\n",
        "k_vals = grid.cv_results_['param_n_neighbors'][mask].data\n",
        "acc_vals = grid.cv_results_['mean_test_score'][mask]\n",
        "plt.plot(k_vals, acc_vals, 'o-.', label='Uniform Weights, Manhattan Distance')\n",
        "\n",
        "mask = (grid.cv_results_['param_weights'] == 'distance') & (grid.cv_results_['param_metric'] == 'euclidean')\n",
        "k_vals = grid.cv_results_['param_n_neighbors'][mask].data\n",
        "acc_vals = grid.cv_results_['mean_test_score'][mask]\n",
        "plt.plot(k_vals, acc_vals, 'x:', label='Distance Weights, Euclidean Distance')\n",
        "\n",
        "mask = (grid.cv_results_['param_weights'] == 'distance') & (grid.cv_results_['param_metric'] == 'manhattan')\n",
        "k_vals = grid.cv_results_['param_n_neighbors'][mask].data\n",
        "acc_vals = grid.cv_results_['mean_test_score'][mask]\n",
        "plt.plot(k_vals, acc_vals, 's-.', label='Distance Weights, Manhattan Distance')\n",
        "\n",
        "plt.xlabel('K')\n",
        "plt.ylabel('Accuracy')\n",
        "plt.title('KNN Classifier Results')\n",
        "plt.legend()\n",
        "plt.show()"
      ],
      "execution_count": 17,
      "outputs": [
        {
          "output_type": "display_data",
          "data": {
            "image/png": "[encoded data removed]",
            "text/plain": [
              "<Figure size 864x360 with 1 Axes>"
            ]
          },
          "metadata": {
            "tags": [],
            "needs_background": "light"
          }
        }
      ]
    }
  ]
}