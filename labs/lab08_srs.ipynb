{
  "nbformat": 4,
  "nbformat_minor": 0,
  "metadata": {
    "kernelspec": {
      "display_name": "Python 3",
      "language": "python",
      "name": "python3"
    },
    "language_info": {
      "codemirror_mode": {
        "name": "ipython",
        "version": 3
      },
      "file_extension": ".py",
      "mimetype": "text/x-python",
      "name": "python",
      "nbconvert_exporter": "python",
      "pygments_lexer": "ipython3",
      "version": "3.7.6"
    },
    "colab": {
      "name": "lab08_srs.ipynb",
      "provenance": [],
      "include_colab_link": true
    }
  },
  "cells": [
    {
      "cell_type": "markdown",
      "metadata": {
        "id": "view-in-github",
        "colab_type": "text"
      },
      "source": [
        "<a href=\"https://colab.research.google.com/github/scottspurlock/csc401-2021s/blob/main/labs/lab08_srs.ipynb\" target=\"_parent\"><img src=\"https://colab.research.google.com/assets/colab-badge.svg\" alt=\"Open In Colab\"/></a>"
      ]
    },
    {
      "cell_type": "markdown",
      "metadata": {
        "id": "K049j9xO00Rg"
      },
      "source": [
        "# Lab 8: Decision Trees\n"
      ]
    },
    {
      "cell_type": "code",
      "metadata": {
        "id": "Tn7nEvZL00Rm"
      },
      "source": [
        "import numpy as np\n",
        "import pandas as pd\n",
        "import matplotlib.pyplot as plt\n",
        "import seaborn as sns"
      ],
      "execution_count": 1,
      "outputs": []
    },
    {
      "cell_type": "code",
      "metadata": {
        "colab": {
          "base_uri": "https://localhost:8080/"
        },
        "id": "2BbbxU9100Rn",
        "outputId": "66e13042-ee0d-46f2-adbe-cf0218e3c74c"
      },
      "source": [
        "# This dataset shows passengers from the Titanic\n",
        "df = pd.read_csv('https://drive.google.com/uc?export=download&id=1ATf3eoCvAKG_I2luCV2gj_GRDUXoybFR')\n",
        "df.shape"
      ],
      "execution_count": 2,
      "outputs": [
        {
          "output_type": "execute_result",
          "data": {
            "text/plain": [
              "(891, 12)"
            ]
          },
          "metadata": {
            "tags": []
          },
          "execution_count": 2
        }
      ]
    },
    {
      "cell_type": "code",
      "metadata": {
        "scrolled": true,
        "colab": {
          "base_uri": "https://localhost:8080/",
          "height": 359
        },
        "id": "lWQacua800Ro",
        "outputId": "bd6f1a92-0408-4c33-f5f4-a309448a22e1"
      },
      "source": [
        "df.head(10)"
      ],
      "execution_count": 3,
      "outputs": [
        {
          "output_type": "execute_result",
          "data": {
            "text/html": [
              "<div>\n",
              "<style scoped>\n",
              "    .dataframe tbody tr th:only-of-type {\n",
              "        vertical-align: middle;\n",
              "    }\n",
              "\n",
              "    .dataframe tbody tr th {\n",
              "        vertical-align: top;\n",
              "    }\n",
              "\n",
              "    .dataframe thead th {\n",
              "        text-align: right;\n",
              "    }\n",
              "</style>\n",
              "<table border=\"1\" class=\"dataframe\">\n",
              "  <thead>\n",
              "    <tr style=\"text-align: right;\">\n",
              "      <th></th>\n",
              "      <th>PassengerId</th>\n",
              "      <th>Survived</th>\n",
              "      <th>Pclass</th>\n",
              "      <th>Name</th>\n",
              "      <th>Sex</th>\n",
              "      <th>Age</th>\n",
              "      <th>SibSp</th>\n",
              "      <th>Parch</th>\n",
              "      <th>Ticket</th>\n",
              "      <th>Fare</th>\n",
              "      <th>Cabin</th>\n",
              "      <th>Embarked</th>\n",
              "    </tr>\n",
              "  </thead>\n",
              "  <tbody>\n",
              "    <tr>\n",
              "      <th>0</th>\n",
              "      <td>1</td>\n",
              "      <td>0</td>\n",
              "      <td>3</td>\n",
              "      <td>Braund, Mr. Owen Harris</td>\n",
              "      <td>male</td>\n",
              "      <td>22.0</td>\n",
              "      <td>1</td>\n",
              "      <td>0</td>\n",
              "      <td>A/5 21171</td>\n",
              "      <td>7.2500</td>\n",
              "      <td>NaN</td>\n",
              "      <td>S</td>\n",
              "    </tr>\n",
              "    <tr>\n",
              "      <th>1</th>\n",
              "      <td>2</td>\n",
              "      <td>1</td>\n",
              "      <td>1</td>\n",
              "      <td>Cumings, Mrs. John Bradley (Florence Briggs Th...</td>\n",
              "      <td>female</td>\n",
              "      <td>38.0</td>\n",
              "      <td>1</td>\n",
              "      <td>0</td>\n",
              "      <td>PC 17599</td>\n",
              "      <td>71.2833</td>\n",
              "      <td>C85</td>\n",
              "      <td>C</td>\n",
              "    </tr>\n",
              "    <tr>\n",
              "      <th>2</th>\n",
              "      <td>3</td>\n",
              "      <td>1</td>\n",
              "      <td>3</td>\n",
              "      <td>Heikkinen, Miss. Laina</td>\n",
              "      <td>female</td>\n",
              "      <td>26.0</td>\n",
              "      <td>0</td>\n",
              "      <td>0</td>\n",
              "      <td>STON/O2. 3101282</td>\n",
              "      <td>7.9250</td>\n",
              "      <td>NaN</td>\n",
              "      <td>S</td>\n",
              "    </tr>\n",
              "    <tr>\n",
              "      <th>3</th>\n",
              "      <td>4</td>\n",
              "      <td>1</td>\n",
              "      <td>1</td>\n",
              "      <td>Futrelle, Mrs. Jacques Heath (Lily May Peel)</td>\n",
              "      <td>female</td>\n",
              "      <td>35.0</td>\n",
              "      <td>1</td>\n",
              "      <td>0</td>\n",
              "      <td>113803</td>\n",
              "      <td>53.1000</td>\n",
              "      <td>C123</td>\n",
              "      <td>S</td>\n",
              "    </tr>\n",
              "    <tr>\n",
              "      <th>4</th>\n",
              "      <td>5</td>\n",
              "      <td>0</td>\n",
              "      <td>3</td>\n",
              "      <td>Allen, Mr. William Henry</td>\n",
              "      <td>male</td>\n",
              "      <td>35.0</td>\n",
              "      <td>0</td>\n",
              "      <td>0</td>\n",
              "      <td>373450</td>\n",
              "      <td>8.0500</td>\n",
              "      <td>NaN</td>\n",
              "      <td>S</td>\n",
              "    </tr>\n",
              "    <tr>\n",
              "      <th>5</th>\n",
              "      <td>6</td>\n",
              "      <td>0</td>\n",
              "      <td>3</td>\n",
              "      <td>Moran, Mr. James</td>\n",
              "      <td>male</td>\n",
              "      <td>NaN</td>\n",
              "      <td>0</td>\n",
              "      <td>0</td>\n",
              "      <td>330877</td>\n",
              "      <td>8.4583</td>\n",
              "      <td>NaN</td>\n",
              "      <td>Q</td>\n",
              "    </tr>\n",
              "    <tr>\n",
              "      <th>6</th>\n",
              "      <td>7</td>\n",
              "      <td>0</td>\n",
              "      <td>1</td>\n",
              "      <td>McCarthy, Mr. Timothy J</td>\n",
              "      <td>male</td>\n",
              "      <td>54.0</td>\n",
              "      <td>0</td>\n",
              "      <td>0</td>\n",
              "      <td>17463</td>\n",
              "      <td>51.8625</td>\n",
              "      <td>E46</td>\n",
              "      <td>S</td>\n",
              "    </tr>\n",
              "    <tr>\n",
              "      <th>7</th>\n",
              "      <td>8</td>\n",
              "      <td>0</td>\n",
              "      <td>3</td>\n",
              "      <td>Palsson, Master. Gosta Leonard</td>\n",
              "      <td>male</td>\n",
              "      <td>2.0</td>\n",
              "      <td>3</td>\n",
              "      <td>1</td>\n",
              "      <td>349909</td>\n",
              "      <td>21.0750</td>\n",
              "      <td>NaN</td>\n",
              "      <td>S</td>\n",
              "    </tr>\n",
              "    <tr>\n",
              "      <th>8</th>\n",
              "      <td>9</td>\n",
              "      <td>1</td>\n",
              "      <td>3</td>\n",
              "      <td>Johnson, Mrs. Oscar W (Elisabeth Vilhelmina Berg)</td>\n",
              "      <td>female</td>\n",
              "      <td>27.0</td>\n",
              "      <td>0</td>\n",
              "      <td>2</td>\n",
              "      <td>347742</td>\n",
              "      <td>11.1333</td>\n",
              "      <td>NaN</td>\n",
              "      <td>S</td>\n",
              "    </tr>\n",
              "    <tr>\n",
              "      <th>9</th>\n",
              "      <td>10</td>\n",
              "      <td>1</td>\n",
              "      <td>2</td>\n",
              "      <td>Nasser, Mrs. Nicholas (Adele Achem)</td>\n",
              "      <td>female</td>\n",
              "      <td>14.0</td>\n",
              "      <td>1</td>\n",
              "      <td>0</td>\n",
              "      <td>237736</td>\n",
              "      <td>30.0708</td>\n",
              "      <td>NaN</td>\n",
              "      <td>C</td>\n",
              "    </tr>\n",
              "  </tbody>\n",
              "</table>\n",
              "</div>"
            ],
            "text/plain": [
              "   PassengerId  Survived  Pclass  ...     Fare Cabin  Embarked\n",
              "0            1         0       3  ...   7.2500   NaN         S\n",
              "1            2         1       1  ...  71.2833   C85         C\n",
              "2            3         1       3  ...   7.9250   NaN         S\n",
              "3            4         1       1  ...  53.1000  C123         S\n",
              "4            5         0       3  ...   8.0500   NaN         S\n",
              "5            6         0       3  ...   8.4583   NaN         Q\n",
              "6            7         0       1  ...  51.8625   E46         S\n",
              "7            8         0       3  ...  21.0750   NaN         S\n",
              "8            9         1       3  ...  11.1333   NaN         S\n",
              "9           10         1       2  ...  30.0708   NaN         C\n",
              "\n",
              "[10 rows x 12 columns]"
            ]
          },
          "metadata": {
            "tags": []
          },
          "execution_count": 3
        }
      ]
    },
    {
      "cell_type": "code",
      "metadata": {
        "colab": {
          "base_uri": "https://localhost:8080/",
          "height": 204
        },
        "id": "CKowu1WK00Ro",
        "outputId": "e5b9d212-4ddd-4972-d3ee-1f9d859fec69"
      },
      "source": [
        "# Separate out the target and data\n",
        "y = df['Survived']\n",
        "X = df[['Pclass', 'Sex', 'SibSp', 'Parch']]\n",
        "X = pd.get_dummies(X)\n",
        "X.head()"
      ],
      "execution_count": 4,
      "outputs": [
        {
          "output_type": "execute_result",
          "data": {
            "text/html": [
              "<div>\n",
              "<style scoped>\n",
              "    .dataframe tbody tr th:only-of-type {\n",
              "        vertical-align: middle;\n",
              "    }\n",
              "\n",
              "    .dataframe tbody tr th {\n",
              "        vertical-align: top;\n",
              "    }\n",
              "\n",
              "    .dataframe thead th {\n",
              "        text-align: right;\n",
              "    }\n",
              "</style>\n",
              "<table border=\"1\" class=\"dataframe\">\n",
              "  <thead>\n",
              "    <tr style=\"text-align: right;\">\n",
              "      <th></th>\n",
              "      <th>Pclass</th>\n",
              "      <th>SibSp</th>\n",
              "      <th>Parch</th>\n",
              "      <th>Sex_female</th>\n",
              "      <th>Sex_male</th>\n",
              "    </tr>\n",
              "  </thead>\n",
              "  <tbody>\n",
              "    <tr>\n",
              "      <th>0</th>\n",
              "      <td>3</td>\n",
              "      <td>1</td>\n",
              "      <td>0</td>\n",
              "      <td>0</td>\n",
              "      <td>1</td>\n",
              "    </tr>\n",
              "    <tr>\n",
              "      <th>1</th>\n",
              "      <td>1</td>\n",
              "      <td>1</td>\n",
              "      <td>0</td>\n",
              "      <td>1</td>\n",
              "      <td>0</td>\n",
              "    </tr>\n",
              "    <tr>\n",
              "      <th>2</th>\n",
              "      <td>3</td>\n",
              "      <td>0</td>\n",
              "      <td>0</td>\n",
              "      <td>1</td>\n",
              "      <td>0</td>\n",
              "    </tr>\n",
              "    <tr>\n",
              "      <th>3</th>\n",
              "      <td>1</td>\n",
              "      <td>1</td>\n",
              "      <td>0</td>\n",
              "      <td>1</td>\n",
              "      <td>0</td>\n",
              "    </tr>\n",
              "    <tr>\n",
              "      <th>4</th>\n",
              "      <td>3</td>\n",
              "      <td>0</td>\n",
              "      <td>0</td>\n",
              "      <td>0</td>\n",
              "      <td>1</td>\n",
              "    </tr>\n",
              "  </tbody>\n",
              "</table>\n",
              "</div>"
            ],
            "text/plain": [
              "   Pclass  SibSp  Parch  Sex_female  Sex_male\n",
              "0       3      1      0           0         1\n",
              "1       1      1      0           1         0\n",
              "2       3      0      0           1         0\n",
              "3       1      1      0           1         0\n",
              "4       3      0      0           0         1"
            ]
          },
          "metadata": {
            "tags": []
          },
          "execution_count": 4
        }
      ]
    },
    {
      "cell_type": "markdown",
      "metadata": {
        "id": "2OdVu9bz00Rp"
      },
      "source": [
        "### Divide the data into randomized training and test partitions. Use 10% of the data as the test set, keeping 90% for training."
      ]
    },
    {
      "cell_type": "code",
      "metadata": {
        "colab": {
          "base_uri": "https://localhost:8080/",
          "height": 204
        },
        "id": "vkgnML_S00Rp",
        "outputId": "824e6bef-8c67-4e67-a944-5fc64f8c3085"
      },
      "source": [
        "from sklearn.model_selection import train_test_split\n",
        "Xtrain, Xtest, ytrain, ytest = train_test_split(X, y, test_size=0.1, random_state=0)\n",
        "Xtest[0:5]"
      ],
      "execution_count": 5,
      "outputs": [
        {
          "output_type": "execute_result",
          "data": {
            "text/html": [
              "<div>\n",
              "<style scoped>\n",
              "    .dataframe tbody tr th:only-of-type {\n",
              "        vertical-align: middle;\n",
              "    }\n",
              "\n",
              "    .dataframe tbody tr th {\n",
              "        vertical-align: top;\n",
              "    }\n",
              "\n",
              "    .dataframe thead th {\n",
              "        text-align: right;\n",
              "    }\n",
              "</style>\n",
              "<table border=\"1\" class=\"dataframe\">\n",
              "  <thead>\n",
              "    <tr style=\"text-align: right;\">\n",
              "      <th></th>\n",
              "      <th>Pclass</th>\n",
              "      <th>SibSp</th>\n",
              "      <th>Parch</th>\n",
              "      <th>Sex_female</th>\n",
              "      <th>Sex_male</th>\n",
              "    </tr>\n",
              "  </thead>\n",
              "  <tbody>\n",
              "    <tr>\n",
              "      <th>495</th>\n",
              "      <td>3</td>\n",
              "      <td>0</td>\n",
              "      <td>0</td>\n",
              "      <td>0</td>\n",
              "      <td>1</td>\n",
              "    </tr>\n",
              "    <tr>\n",
              "      <th>648</th>\n",
              "      <td>3</td>\n",
              "      <td>0</td>\n",
              "      <td>0</td>\n",
              "      <td>0</td>\n",
              "      <td>1</td>\n",
              "    </tr>\n",
              "    <tr>\n",
              "      <th>278</th>\n",
              "      <td>3</td>\n",
              "      <td>4</td>\n",
              "      <td>1</td>\n",
              "      <td>0</td>\n",
              "      <td>1</td>\n",
              "    </tr>\n",
              "    <tr>\n",
              "      <th>31</th>\n",
              "      <td>1</td>\n",
              "      <td>1</td>\n",
              "      <td>0</td>\n",
              "      <td>1</td>\n",
              "      <td>0</td>\n",
              "    </tr>\n",
              "    <tr>\n",
              "      <th>255</th>\n",
              "      <td>3</td>\n",
              "      <td>0</td>\n",
              "      <td>2</td>\n",
              "      <td>1</td>\n",
              "      <td>0</td>\n",
              "    </tr>\n",
              "  </tbody>\n",
              "</table>\n",
              "</div>"
            ],
            "text/plain": [
              "     Pclass  SibSp  Parch  Sex_female  Sex_male\n",
              "495       3      0      0           0         1\n",
              "648       3      0      0           0         1\n",
              "278       3      4      1           0         1\n",
              "31        1      1      0           1         0\n",
              "255       3      0      2           1         0"
            ]
          },
          "metadata": {
            "tags": []
          },
          "execution_count": 5
        }
      ]
    },
    {
      "cell_type": "markdown",
      "metadata": {
        "id": "3G2eLXcT00Rp"
      },
      "source": [
        "#### Now let's make a decision tree"
      ]
    },
    {
      "cell_type": "code",
      "metadata": {
        "colab": {
          "base_uri": "https://localhost:8080/"
        },
        "id": "8tcTGzyp00Rq",
        "outputId": "9346aac6-4122-41d6-edd4-667f766fb45e"
      },
      "source": [
        "# Import the library\n",
        "from sklearn.tree import DecisionTreeClassifier\n",
        "\n",
        "# Make a tree object\n",
        "clf = DecisionTreeClassifier(criterion='entropy', random_state=0)\n",
        "\n",
        "# Fit a model to the training data\n",
        "clf = clf.fit(Xtrain, ytrain)\n",
        "clf"
      ],
      "execution_count": 6,
      "outputs": [
        {
          "output_type": "execute_result",
          "data": {
            "text/plain": [
              "DecisionTreeClassifier(ccp_alpha=0.0, class_weight=None, criterion='entropy',\n",
              "                       max_depth=None, max_features=None, max_leaf_nodes=None,\n",
              "                       min_impurity_decrease=0.0, min_impurity_split=None,\n",
              "                       min_samples_leaf=1, min_samples_split=2,\n",
              "                       min_weight_fraction_leaf=0.0, presort='deprecated',\n",
              "                       random_state=0, splitter='best')"
            ]
          },
          "metadata": {
            "tags": []
          },
          "execution_count": 6
        }
      ]
    },
    {
      "cell_type": "markdown",
      "metadata": {
        "id": "MbGaoTWD8ydS"
      },
      "source": [
        "Visualize the tree\n"
      ]
    },
    {
      "cell_type": "code",
      "metadata": {
        "id": "L0mQTT8Lfxdi"
      },
      "source": [
        "classes = ['survived_false', 'survived_true']"
      ],
      "execution_count": 7,
      "outputs": []
    },
    {
      "cell_type": "code",
      "metadata": {
        "colab": {
          "base_uri": "https://localhost:8080/",
          "height": 1000
        },
        "id": "iUrOq4w280ym",
        "outputId": "b06a7d9d-3bc4-4947-f020-024e99d6374f"
      },
      "source": [
        "from sklearn.tree import export_graphviz\n",
        "import graphviz\n",
        "\n",
        "vis_data = export_graphviz(clf, out_file=None,\n",
        "                feature_names=Xtrain.columns,\n",
        "                class_names=['survived_false', 'survived_true'],\n",
        "                filled=True)\n",
        "\n",
        "graph = graphviz.Source(vis_data) \n",
        "graph"
      ],
      "execution_count": 8,
      "outputs": [
        {
          "output_type": "execute_result",
          "data": {
            "text/plain": [
              "<graphviz.files.Source at 0x7fbea5fabb50>"
            ],
            "image/svg+xml": "<?xml version=\"1.0\" encoding=\"UTF-8\" standalone=\"no\"?>\n<!DOCTYPE svg PUBLIC \"-//W3C//DTD SVG 1.1//EN\"\n \"http://www.w3.org/Graphics/SVG/1.1/DTD/svg11.dtd\">\n<!-- Generated by graphviz version 2.40.1 (20161225.0304)\n -->\n<!-- Title: Tree Pages: 1 -->\n<svg width=\"4249pt\" height=\"1028pt\"\n viewBox=\"0.00 0.00 4249.00 1028.00\" xmlns=\"http://www.w3.org/2000/svg\" xmlns:xlink=\"http://www.w3.org/1999/xlink\">\n<g id=\"graph0\" class=\"graph\" transform=\"scale(1 1) rotate(0) translate(4 1024)\">\n<title>Tree</title>\n<polygon fill=\"#ffffff\" stroke=\"transparent\" points=\"-4,4 -4,-1024 4245,-1024 4245,4 -4,4\"/>\n<!-- 0 -->\n<g id=\"node1\" class=\"node\">\n<title>0</title>\n<polygon fill=\"#f5ceb1\" stroke=\"#000000\" points=\"2052,-1020 1911,-1020 1911,-937 2052,-937 2052,-1020\"/>\n<text text-anchor=\"middle\" x=\"1981.5\" y=\"-1004.8\" font-family=\"Times,serif\" font-size=\"14.00\" fill=\"#000000\">Sex_male &lt;= 0.5</text>\n<text text-anchor=\"middle\" x=\"1981.5\" y=\"-989.8\" font-family=\"Times,serif\" font-size=\"14.00\" fill=\"#000000\">entropy = 0.957</text>\n<text text-anchor=\"middle\" x=\"1981.5\" y=\"-974.8\" font-family=\"Times,serif\" font-size=\"14.00\" fill=\"#000000\">samples = 801</text>\n<text text-anchor=\"middle\" x=\"1981.5\" y=\"-959.8\" font-family=\"Times,serif\" font-size=\"14.00\" fill=\"#000000\">value = [498, 303]</text>\n<text text-anchor=\"middle\" x=\"1981.5\" y=\"-944.8\" font-family=\"Times,serif\" font-size=\"14.00\" fill=\"#000000\">class = survived_false</text>\n</g>\n<!-- 1 -->\n<g id=\"node2\" class=\"node\">\n<title>1</title>\n<polygon fill=\"#81c1ee\" stroke=\"#000000\" points=\"1653,-901 1516,-901 1516,-818 1653,-818 1653,-901\"/>\n<text text-anchor=\"middle\" x=\"1584.5\" y=\"-885.8\" font-family=\"Times,serif\" font-size=\"14.00\" fill=\"#000000\">Pclass &lt;= 2.5</text>\n<text text-anchor=\"middle\" x=\"1584.5\" y=\"-870.8\" font-family=\"Times,serif\" font-size=\"14.00\" fill=\"#000000\">entropy = 0.837</text>\n<text text-anchor=\"middle\" x=\"1584.5\" y=\"-855.8\" font-family=\"Times,serif\" font-size=\"14.00\" fill=\"#000000\">samples = 281</text>\n<text text-anchor=\"middle\" x=\"1584.5\" y=\"-840.8\" font-family=\"Times,serif\" font-size=\"14.00\" fill=\"#000000\">value = [75, 206]</text>\n<text text-anchor=\"middle\" x=\"1584.5\" y=\"-825.8\" font-family=\"Times,serif\" font-size=\"14.00\" fill=\"#000000\">class = survived_true</text>\n</g>\n<!-- 0&#45;&gt;1 -->\n<g id=\"edge1\" class=\"edge\">\n<title>0&#45;&gt;1</title>\n<path fill=\"none\" stroke=\"#000000\" d=\"M1910.9818,-957.3623C1841.3939,-936.5035 1735.2242,-904.6793 1662.9931,-883.0282\"/>\n<polygon fill=\"#000000\" stroke=\"#000000\" points=\"1663.6175,-879.5615 1653.0336,-880.0428 1661.6076,-886.2668 1663.6175,-879.5615\"/>\n<text text-anchor=\"middle\" x=\"1664.8912\" y=\"-898.3519\" font-family=\"Times,serif\" font-size=\"14.00\" fill=\"#000000\">True</text>\n</g>\n<!-- 50 -->\n<g id=\"node51\" class=\"node\">\n<title>50</title>\n<polygon fill=\"#eb9e66\" stroke=\"#000000\" points=\"2450,-901 2309,-901 2309,-818 2450,-818 2450,-901\"/>\n<text text-anchor=\"middle\" x=\"2379.5\" y=\"-885.8\" font-family=\"Times,serif\" font-size=\"14.00\" fill=\"#000000\">Pclass &lt;= 1.5</text>\n<text text-anchor=\"middle\" x=\"2379.5\" y=\"-870.8\" font-family=\"Times,serif\" font-size=\"14.00\" fill=\"#000000\">entropy = 0.694</text>\n<text text-anchor=\"middle\" x=\"2379.5\" y=\"-855.8\" font-family=\"Times,serif\" font-size=\"14.00\" fill=\"#000000\">samples = 520</text>\n<text text-anchor=\"middle\" x=\"2379.5\" y=\"-840.8\" font-family=\"Times,serif\" font-size=\"14.00\" fill=\"#000000\">value = [423, 97]</text>\n<text text-anchor=\"middle\" x=\"2379.5\" y=\"-825.8\" font-family=\"Times,serif\" font-size=\"14.00\" fill=\"#000000\">class = survived_false</text>\n</g>\n<!-- 0&#45;&gt;50 -->\n<g id=\"edge50\" class=\"edge\">\n<title>0&#45;&gt;50</title>\n<path fill=\"none\" stroke=\"#000000\" d=\"M2052.1958,-957.3623C2121.319,-936.6948 2226.4463,-905.2623 2298.8076,-883.6266\"/>\n<polygon fill=\"#000000\" stroke=\"#000000\" points=\"2300.2152,-886.8589 2308.7935,-880.6409 2298.2099,-880.1523 2300.2152,-886.8589\"/>\n<text text-anchor=\"middle\" x=\"2296.9207\" y=\"-898.9417\" font-family=\"Times,serif\" font-size=\"14.00\" fill=\"#000000\">False</text>\n</g>\n<!-- 2 -->\n<g id=\"node3\" class=\"node\">\n<title>2</title>\n<polygon fill=\"#44a3e6\" stroke=\"#000000\" points=\"853,-782 716,-782 716,-699 853,-699 853,-782\"/>\n<text text-anchor=\"middle\" x=\"784.5\" y=\"-766.8\" font-family=\"Times,serif\" font-size=\"14.00\" fill=\"#000000\">Pclass &lt;= 1.5</text>\n<text text-anchor=\"middle\" x=\"784.5\" y=\"-751.8\" font-family=\"Times,serif\" font-size=\"14.00\" fill=\"#000000\">entropy = 0.305</text>\n<text text-anchor=\"middle\" x=\"784.5\" y=\"-736.8\" font-family=\"Times,serif\" font-size=\"14.00\" fill=\"#000000\">samples = 147</text>\n<text text-anchor=\"middle\" x=\"784.5\" y=\"-721.8\" font-family=\"Times,serif\" font-size=\"14.00\" fill=\"#000000\">value = [8, 139]</text>\n<text text-anchor=\"middle\" x=\"784.5\" y=\"-706.8\" font-family=\"Times,serif\" font-size=\"14.00\" fill=\"#000000\">class = survived_true</text>\n</g>\n<!-- 1&#45;&gt;2 -->\n<g id=\"edge2\" class=\"edge\">\n<title>1&#45;&gt;2</title>\n<path fill=\"none\" stroke=\"#000000\" d=\"M1515.9466,-849.3027C1368.0111,-827.2973 1019.5813,-775.4683 863.0545,-752.185\"/>\n<polygon fill=\"#000000\" stroke=\"#000000\" points=\"863.4322,-748.7027 853.026,-750.6932 862.4022,-755.6265 863.4322,-748.7027\"/>\n</g>\n<!-- 19 -->\n<g id=\"node20\" class=\"node\">\n<title>19</title>\n<polygon fill=\"#ffffff\" stroke=\"#000000\" points=\"1655,-782 1514,-782 1514,-699 1655,-699 1655,-782\"/>\n<text text-anchor=\"middle\" x=\"1584.5\" y=\"-766.8\" font-family=\"Times,serif\" font-size=\"14.00\" fill=\"#000000\">Parch &lt;= 1.5</text>\n<text text-anchor=\"middle\" x=\"1584.5\" y=\"-751.8\" font-family=\"Times,serif\" font-size=\"14.00\" fill=\"#000000\">entropy = 1.0</text>\n<text text-anchor=\"middle\" x=\"1584.5\" y=\"-736.8\" font-family=\"Times,serif\" font-size=\"14.00\" fill=\"#000000\">samples = 134</text>\n<text text-anchor=\"middle\" x=\"1584.5\" y=\"-721.8\" font-family=\"Times,serif\" font-size=\"14.00\" fill=\"#000000\">value = [67, 67]</text>\n<text text-anchor=\"middle\" x=\"1584.5\" y=\"-706.8\" font-family=\"Times,serif\" font-size=\"14.00\" fill=\"#000000\">class = survived_false</text>\n</g>\n<!-- 1&#45;&gt;19 -->\n<g id=\"edge19\" class=\"edge\">\n<title>1&#45;&gt;19</title>\n<path fill=\"none\" stroke=\"#000000\" d=\"M1584.5,-817.8796C1584.5,-809.6838 1584.5,-800.9891 1584.5,-792.5013\"/>\n<polygon fill=\"#000000\" stroke=\"#000000\" points=\"1588.0001,-792.298 1584.5,-782.2981 1581.0001,-792.2981 1588.0001,-792.298\"/>\n</g>\n<!-- 3 -->\n<g id=\"node4\" class=\"node\">\n<title>3</title>\n<polygon fill=\"#41a1e6\" stroke=\"#000000\" points=\"621,-663 484,-663 484,-580 621,-580 621,-663\"/>\n<text text-anchor=\"middle\" x=\"552.5\" y=\"-647.8\" font-family=\"Times,serif\" font-size=\"14.00\" fill=\"#000000\">Parch &lt;= 1.5</text>\n<text text-anchor=\"middle\" x=\"552.5\" y=\"-632.8\" font-family=\"Times,serif\" font-size=\"14.00\" fill=\"#000000\">entropy = 0.229</text>\n<text text-anchor=\"middle\" x=\"552.5\" y=\"-617.8\" font-family=\"Times,serif\" font-size=\"14.00\" fill=\"#000000\">samples = 81</text>\n<text text-anchor=\"middle\" x=\"552.5\" y=\"-602.8\" font-family=\"Times,serif\" font-size=\"14.00\" fill=\"#000000\">value = [3, 78]</text>\n<text text-anchor=\"middle\" x=\"552.5\" y=\"-587.8\" font-family=\"Times,serif\" font-size=\"14.00\" fill=\"#000000\">class = survived_true</text>\n</g>\n<!-- 2&#45;&gt;3 -->\n<g id=\"edge3\" class=\"edge\">\n<title>2&#45;&gt;3</title>\n<path fill=\"none\" stroke=\"#000000\" d=\"M715.834,-705.2791C689.0639,-691.5479 658.2342,-675.7344 630.6213,-661.5708\"/>\n<polygon fill=\"#000000\" stroke=\"#000000\" points=\"631.8859,-658.2859 621.3907,-656.8362 628.6911,-664.5144 631.8859,-658.2859\"/>\n</g>\n<!-- 14 -->\n<g id=\"node15\" class=\"node\">\n<title>14</title>\n<polygon fill=\"#49a5e7\" stroke=\"#000000\" points=\"853,-663 716,-663 716,-580 853,-580 853,-663\"/>\n<text text-anchor=\"middle\" x=\"784.5\" y=\"-647.8\" font-family=\"Times,serif\" font-size=\"14.00\" fill=\"#000000\">Parch &lt;= 0.5</text>\n<text text-anchor=\"middle\" x=\"784.5\" y=\"-632.8\" font-family=\"Times,serif\" font-size=\"14.00\" fill=\"#000000\">entropy = 0.387</text>\n<text text-anchor=\"middle\" x=\"784.5\" y=\"-617.8\" font-family=\"Times,serif\" font-size=\"14.00\" fill=\"#000000\">samples = 66</text>\n<text text-anchor=\"middle\" x=\"784.5\" y=\"-602.8\" font-family=\"Times,serif\" font-size=\"14.00\" fill=\"#000000\">value = [5, 61]</text>\n<text text-anchor=\"middle\" x=\"784.5\" y=\"-587.8\" font-family=\"Times,serif\" font-size=\"14.00\" fill=\"#000000\">class = survived_true</text>\n</g>\n<!-- 2&#45;&gt;14 -->\n<g id=\"edge14\" class=\"edge\">\n<title>2&#45;&gt;14</title>\n<path fill=\"none\" stroke=\"#000000\" d=\"M784.5,-698.8796C784.5,-690.6838 784.5,-681.9891 784.5,-673.5013\"/>\n<polygon fill=\"#000000\" stroke=\"#000000\" points=\"788.0001,-673.298 784.5,-663.2981 781.0001,-673.2981 788.0001,-673.298\"/>\n</g>\n<!-- 4 -->\n<g id=\"node5\" class=\"node\">\n<title>4</title>\n<polygon fill=\"#3c9ee5\" stroke=\"#000000\" points=\"330,-544 193,-544 193,-461 330,-461 330,-544\"/>\n<text text-anchor=\"middle\" x=\"261.5\" y=\"-528.8\" font-family=\"Times,serif\" font-size=\"14.00\" fill=\"#000000\">SibSp &lt;= 0.5</text>\n<text text-anchor=\"middle\" x=\"261.5\" y=\"-513.8\" font-family=\"Times,serif\" font-size=\"14.00\" fill=\"#000000\">entropy = 0.108</text>\n<text text-anchor=\"middle\" x=\"261.5\" y=\"-498.8\" font-family=\"Times,serif\" font-size=\"14.00\" fill=\"#000000\">samples = 70</text>\n<text text-anchor=\"middle\" x=\"261.5\" y=\"-483.8\" font-family=\"Times,serif\" font-size=\"14.00\" fill=\"#000000\">value = [1, 69]</text>\n<text text-anchor=\"middle\" x=\"261.5\" y=\"-468.8\" font-family=\"Times,serif\" font-size=\"14.00\" fill=\"#000000\">class = survived_true</text>\n</g>\n<!-- 3&#45;&gt;4 -->\n<g id=\"edge4\" class=\"edge\">\n<title>3&#45;&gt;4</title>\n<path fill=\"none\" stroke=\"#000000\" d=\"M483.9056,-593.4493C440.6085,-575.7437 384.5612,-552.824 339.5634,-534.4228\"/>\n<polygon fill=\"#000000\" stroke=\"#000000\" points=\"340.7184,-531.1139 330.1376,-530.5683 338.0688,-537.593 340.7184,-531.1139\"/>\n</g>\n<!-- 9 -->\n<g id=\"node10\" class=\"node\">\n<title>9</title>\n<polygon fill=\"#65b3eb\" stroke=\"#000000\" points=\"621,-544 484,-544 484,-461 621,-461 621,-544\"/>\n<text text-anchor=\"middle\" x=\"552.5\" y=\"-528.8\" font-family=\"Times,serif\" font-size=\"14.00\" fill=\"#000000\">SibSp &lt;= 0.5</text>\n<text text-anchor=\"middle\" x=\"552.5\" y=\"-513.8\" font-family=\"Times,serif\" font-size=\"14.00\" fill=\"#000000\">entropy = 0.684</text>\n<text text-anchor=\"middle\" x=\"552.5\" y=\"-498.8\" font-family=\"Times,serif\" font-size=\"14.00\" fill=\"#000000\">samples = 11</text>\n<text text-anchor=\"middle\" x=\"552.5\" y=\"-483.8\" font-family=\"Times,serif\" font-size=\"14.00\" fill=\"#000000\">value = [2, 9]</text>\n<text text-anchor=\"middle\" x=\"552.5\" y=\"-468.8\" font-family=\"Times,serif\" font-size=\"14.00\" fill=\"#000000\">class = survived_true</text>\n</g>\n<!-- 3&#45;&gt;9 -->\n<g id=\"edge9\" class=\"edge\">\n<title>3&#45;&gt;9</title>\n<path fill=\"none\" stroke=\"#000000\" d=\"M552.5,-579.8796C552.5,-571.6838 552.5,-562.9891 552.5,-554.5013\"/>\n<polygon fill=\"#000000\" stroke=\"#000000\" points=\"556.0001,-554.298 552.5,-544.2981 549.0001,-554.2981 556.0001,-554.298\"/>\n</g>\n<!-- 5 -->\n<g id=\"node6\" class=\"node\">\n<title>5</title>\n<polygon fill=\"#3ea0e6\" stroke=\"#000000\" points=\"175,-425 38,-425 38,-342 175,-342 175,-425\"/>\n<text text-anchor=\"middle\" x=\"106.5\" y=\"-409.8\" font-family=\"Times,serif\" font-size=\"14.00\" fill=\"#000000\">Parch &lt;= 0.5</text>\n<text text-anchor=\"middle\" x=\"106.5\" y=\"-394.8\" font-family=\"Times,serif\" font-size=\"14.00\" fill=\"#000000\">entropy = 0.179</text>\n<text text-anchor=\"middle\" x=\"106.5\" y=\"-379.8\" font-family=\"Times,serif\" font-size=\"14.00\" fill=\"#000000\">samples = 37</text>\n<text text-anchor=\"middle\" x=\"106.5\" y=\"-364.8\" font-family=\"Times,serif\" font-size=\"14.00\" fill=\"#000000\">value = [1, 36]</text>\n<text text-anchor=\"middle\" x=\"106.5\" y=\"-349.8\" font-family=\"Times,serif\" font-size=\"14.00\" fill=\"#000000\">class = survived_true</text>\n</g>\n<!-- 4&#45;&gt;5 -->\n<g id=\"edge5\" class=\"edge\">\n<title>4&#45;&gt;5</title>\n<path fill=\"none\" stroke=\"#000000\" d=\"M207.2885,-460.8796C194.8994,-451.368 181.6351,-441.1843 168.9324,-431.432\"/>\n<polygon fill=\"#000000\" stroke=\"#000000\" points=\"170.7442,-428.4105 160.6809,-425.0969 166.4814,-433.9628 170.7442,-428.4105\"/>\n</g>\n<!-- 8 -->\n<g id=\"node9\" class=\"node\">\n<title>8</title>\n<polygon fill=\"#399de5\" stroke=\"#000000\" points=\"330,-417.5 193,-417.5 193,-349.5 330,-349.5 330,-417.5\"/>\n<text text-anchor=\"middle\" x=\"261.5\" y=\"-402.3\" font-family=\"Times,serif\" font-size=\"14.00\" fill=\"#000000\">entropy = 0.0</text>\n<text text-anchor=\"middle\" x=\"261.5\" y=\"-387.3\" font-family=\"Times,serif\" font-size=\"14.00\" fill=\"#000000\">samples = 33</text>\n<text text-anchor=\"middle\" x=\"261.5\" y=\"-372.3\" font-family=\"Times,serif\" font-size=\"14.00\" fill=\"#000000\">value = [0, 33]</text>\n<text text-anchor=\"middle\" x=\"261.5\" y=\"-357.3\" font-family=\"Times,serif\" font-size=\"14.00\" fill=\"#000000\">class = survived_true</text>\n</g>\n<!-- 4&#45;&gt;8 -->\n<g id=\"edge8\" class=\"edge\">\n<title>4&#45;&gt;8</title>\n<path fill=\"none\" stroke=\"#000000\" d=\"M261.5,-460.8796C261.5,-450.2134 261.5,-438.7021 261.5,-427.9015\"/>\n<polygon fill=\"#000000\" stroke=\"#000000\" points=\"265.0001,-427.8149 261.5,-417.8149 258.0001,-427.815 265.0001,-427.8149\"/>\n</g>\n<!-- 6 -->\n<g id=\"node7\" class=\"node\">\n<title>6</title>\n<polygon fill=\"#41a1e6\" stroke=\"#000000\" points=\"137,-298.5 0,-298.5 0,-230.5 137,-230.5 137,-298.5\"/>\n<text text-anchor=\"middle\" x=\"68.5\" y=\"-283.3\" font-family=\"Times,serif\" font-size=\"14.00\" fill=\"#000000\">entropy = 0.229</text>\n<text text-anchor=\"middle\" x=\"68.5\" y=\"-268.3\" font-family=\"Times,serif\" font-size=\"14.00\" fill=\"#000000\">samples = 27</text>\n<text text-anchor=\"middle\" x=\"68.5\" y=\"-253.3\" font-family=\"Times,serif\" font-size=\"14.00\" fill=\"#000000\">value = [1, 26]</text>\n<text text-anchor=\"middle\" x=\"68.5\" y=\"-238.3\" font-family=\"Times,serif\" font-size=\"14.00\" fill=\"#000000\">class = survived_true</text>\n</g>\n<!-- 5&#45;&gt;6 -->\n<g id=\"edge6\" class=\"edge\">\n<title>5&#45;&gt;6</title>\n<path fill=\"none\" stroke=\"#000000\" d=\"M93.2094,-341.8796C89.7683,-331.1034 86.0517,-319.4647 82.5721,-308.5677\"/>\n<polygon fill=\"#000000\" stroke=\"#000000\" points=\"85.8339,-307.2763 79.4577,-298.8149 79.1656,-309.4057 85.8339,-307.2763\"/>\n</g>\n<!-- 7 -->\n<g id=\"node8\" class=\"node\">\n<title>7</title>\n<polygon fill=\"#399de5\" stroke=\"#000000\" points=\"292,-298.5 155,-298.5 155,-230.5 292,-230.5 292,-298.5\"/>\n<text text-anchor=\"middle\" x=\"223.5\" y=\"-283.3\" font-family=\"Times,serif\" font-size=\"14.00\" fill=\"#000000\">entropy = 0.0</text>\n<text text-anchor=\"middle\" x=\"223.5\" y=\"-268.3\" font-family=\"Times,serif\" font-size=\"14.00\" fill=\"#000000\">samples = 10</text>\n<text text-anchor=\"middle\" x=\"223.5\" y=\"-253.3\" font-family=\"Times,serif\" font-size=\"14.00\" fill=\"#000000\">value = [0, 10]</text>\n<text text-anchor=\"middle\" x=\"223.5\" y=\"-238.3\" font-family=\"Times,serif\" font-size=\"14.00\" fill=\"#000000\">class = survived_true</text>\n</g>\n<!-- 5&#45;&gt;7 -->\n<g id=\"edge7\" class=\"edge\">\n<title>5&#45;&gt;7</title>\n<path fill=\"none\" stroke=\"#000000\" d=\"M147.4209,-341.8796C158.7728,-330.3337 171.0982,-317.7976 182.457,-306.2446\"/>\n<polygon fill=\"#000000\" stroke=\"#000000\" points=\"185.2466,-308.3995 189.7618,-298.8149 180.2551,-303.4919 185.2466,-308.3995\"/>\n</g>\n<!-- 10 -->\n<g id=\"node11\" class=\"node\">\n<title>10</title>\n<polygon fill=\"#399de5\" stroke=\"#000000\" points=\"485,-417.5 348,-417.5 348,-349.5 485,-349.5 485,-417.5\"/>\n<text text-anchor=\"middle\" x=\"416.5\" y=\"-402.3\" font-family=\"Times,serif\" font-size=\"14.00\" fill=\"#000000\">entropy = 0.0</text>\n<text text-anchor=\"middle\" x=\"416.5\" y=\"-387.3\" font-family=\"Times,serif\" font-size=\"14.00\" fill=\"#000000\">samples = 4</text>\n<text text-anchor=\"middle\" x=\"416.5\" y=\"-372.3\" font-family=\"Times,serif\" font-size=\"14.00\" fill=\"#000000\">value = [0, 4]</text>\n<text text-anchor=\"middle\" x=\"416.5\" y=\"-357.3\" font-family=\"Times,serif\" font-size=\"14.00\" fill=\"#000000\">class = survived_true</text>\n</g>\n<!-- 9&#45;&gt;10 -->\n<g id=\"edge10\" class=\"edge\">\n<title>9&#45;&gt;10</title>\n<path fill=\"none\" stroke=\"#000000\" d=\"M504.9338,-460.8796C491.4872,-449.1138 476.8653,-436.3197 463.4549,-424.5855\"/>\n<polygon fill=\"#000000\" stroke=\"#000000\" points=\"465.5476,-421.766 455.7171,-417.8149 460.9381,-427.034 465.5476,-421.766\"/>\n</g>\n<!-- 11 -->\n<g id=\"node12\" class=\"node\">\n<title>11</title>\n<polygon fill=\"#88c4ef\" stroke=\"#000000\" points=\"640,-425 503,-425 503,-342 640,-342 640,-425\"/>\n<text text-anchor=\"middle\" x=\"571.5\" y=\"-409.8\" font-family=\"Times,serif\" font-size=\"14.00\" fill=\"#000000\">SibSp &lt;= 1.5</text>\n<text text-anchor=\"middle\" x=\"571.5\" y=\"-394.8\" font-family=\"Times,serif\" font-size=\"14.00\" fill=\"#000000\">entropy = 0.863</text>\n<text text-anchor=\"middle\" x=\"571.5\" y=\"-379.8\" font-family=\"Times,serif\" font-size=\"14.00\" fill=\"#000000\">samples = 7</text>\n<text text-anchor=\"middle\" x=\"571.5\" y=\"-364.8\" font-family=\"Times,serif\" font-size=\"14.00\" fill=\"#000000\">value = [2, 5]</text>\n<text text-anchor=\"middle\" x=\"571.5\" y=\"-349.8\" font-family=\"Times,serif\" font-size=\"14.00\" fill=\"#000000\">class = survived_true</text>\n</g>\n<!-- 9&#45;&gt;11 -->\n<g id=\"edge11\" class=\"edge\">\n<title>9&#45;&gt;11</title>\n<path fill=\"none\" stroke=\"#000000\" d=\"M559.1453,-460.8796C560.4682,-452.5938 561.8726,-443.798 563.2419,-435.2216\"/>\n<polygon fill=\"#000000\" stroke=\"#000000\" points=\"566.7058,-435.7249 564.8264,-425.2981 559.7934,-434.6211 566.7058,-435.7249\"/>\n</g>\n<!-- 12 -->\n<g id=\"node13\" class=\"node\">\n<title>12</title>\n<polygon fill=\"#ffffff\" stroke=\"#000000\" points=\"524,-298.5 383,-298.5 383,-230.5 524,-230.5 524,-298.5\"/>\n<text text-anchor=\"middle\" x=\"453.5\" y=\"-283.3\" font-family=\"Times,serif\" font-size=\"14.00\" fill=\"#000000\">entropy = 1.0</text>\n<text text-anchor=\"middle\" x=\"453.5\" y=\"-268.3\" font-family=\"Times,serif\" font-size=\"14.00\" fill=\"#000000\">samples = 4</text>\n<text text-anchor=\"middle\" x=\"453.5\" y=\"-253.3\" font-family=\"Times,serif\" font-size=\"14.00\" fill=\"#000000\">value = [2, 2]</text>\n<text text-anchor=\"middle\" x=\"453.5\" y=\"-238.3\" font-family=\"Times,serif\" font-size=\"14.00\" fill=\"#000000\">class = survived_false</text>\n</g>\n<!-- 11&#45;&gt;12 -->\n<g id=\"edge12\" class=\"edge\">\n<title>11&#45;&gt;12</title>\n<path fill=\"none\" stroke=\"#000000\" d=\"M530.2293,-341.8796C518.7805,-330.3337 506.3497,-317.7976 494.8938,-306.2446\"/>\n<polygon fill=\"#000000\" stroke=\"#000000\" points=\"497.0531,-303.4514 487.5266,-298.8149 492.0825,-308.3802 497.0531,-303.4514\"/>\n</g>\n<!-- 13 -->\n<g id=\"node14\" class=\"node\">\n<title>13</title>\n<polygon fill=\"#399de5\" stroke=\"#000000\" points=\"679,-298.5 542,-298.5 542,-230.5 679,-230.5 679,-298.5\"/>\n<text text-anchor=\"middle\" x=\"610.5\" y=\"-283.3\" font-family=\"Times,serif\" font-size=\"14.00\" fill=\"#000000\">entropy = 0.0</text>\n<text text-anchor=\"middle\" x=\"610.5\" y=\"-268.3\" font-family=\"Times,serif\" font-size=\"14.00\" fill=\"#000000\">samples = 3</text>\n<text text-anchor=\"middle\" x=\"610.5\" y=\"-253.3\" font-family=\"Times,serif\" font-size=\"14.00\" fill=\"#000000\">value = [0, 3]</text>\n<text text-anchor=\"middle\" x=\"610.5\" y=\"-238.3\" font-family=\"Times,serif\" font-size=\"14.00\" fill=\"#000000\">class = survived_true</text>\n</g>\n<!-- 11&#45;&gt;13 -->\n<g id=\"edge13\" class=\"edge\">\n<title>11&#45;&gt;13</title>\n<path fill=\"none\" stroke=\"#000000\" d=\"M585.1403,-341.8796C588.672,-331.1034 592.4864,-319.4647 596.0576,-308.5677\"/>\n<polygon fill=\"#000000\" stroke=\"#000000\" points=\"599.4655,-309.4077 599.2539,-298.8149 592.8136,-307.2276 599.4655,-309.4077\"/>\n</g>\n<!-- 15 -->\n<g id=\"node16\" class=\"node\">\n<title>15</title>\n<polygon fill=\"#55abe9\" stroke=\"#000000\" points=\"814,-544 677,-544 677,-461 814,-461 814,-544\"/>\n<text text-anchor=\"middle\" x=\"745.5\" y=\"-528.8\" font-family=\"Times,serif\" font-size=\"14.00\" fill=\"#000000\">SibSp &lt;= 0.5</text>\n<text text-anchor=\"middle\" x=\"745.5\" y=\"-513.8\" font-family=\"Times,serif\" font-size=\"14.00\" fill=\"#000000\">entropy = 0.544</text>\n<text text-anchor=\"middle\" x=\"745.5\" y=\"-498.8\" font-family=\"Times,serif\" font-size=\"14.00\" fill=\"#000000\">samples = 40</text>\n<text text-anchor=\"middle\" x=\"745.5\" y=\"-483.8\" font-family=\"Times,serif\" font-size=\"14.00\" fill=\"#000000\">value = [5, 35]</text>\n<text text-anchor=\"middle\" x=\"745.5\" y=\"-468.8\" font-family=\"Times,serif\" font-size=\"14.00\" fill=\"#000000\">class = survived_true</text>\n</g>\n<!-- 14&#45;&gt;15 -->\n<g id=\"edge15\" class=\"edge\">\n<title>14&#45;&gt;15</title>\n<path fill=\"none\" stroke=\"#000000\" d=\"M770.8597,-579.8796C768.1147,-571.5037 765.1988,-562.6067 762.3591,-553.942\"/>\n<polygon fill=\"#000000\" stroke=\"#000000\" points=\"765.6389,-552.7107 759.1985,-544.2981 758.987,-554.8908 765.6389,-552.7107\"/>\n</g>\n<!-- 18 -->\n<g id=\"node19\" class=\"node\">\n<title>18</title>\n<polygon fill=\"#399de5\" stroke=\"#000000\" points=\"969,-536.5 832,-536.5 832,-468.5 969,-468.5 969,-536.5\"/>\n<text text-anchor=\"middle\" x=\"900.5\" y=\"-521.3\" font-family=\"Times,serif\" font-size=\"14.00\" fill=\"#000000\">entropy = 0.0</text>\n<text text-anchor=\"middle\" x=\"900.5\" y=\"-506.3\" font-family=\"Times,serif\" font-size=\"14.00\" fill=\"#000000\">samples = 26</text>\n<text text-anchor=\"middle\" x=\"900.5\" y=\"-491.3\" font-family=\"Times,serif\" font-size=\"14.00\" fill=\"#000000\">value = [0, 26]</text>\n<text text-anchor=\"middle\" x=\"900.5\" y=\"-476.3\" font-family=\"Times,serif\" font-size=\"14.00\" fill=\"#000000\">class = survived_true</text>\n</g>\n<!-- 14&#45;&gt;18 -->\n<g id=\"edge18\" class=\"edge\">\n<title>14&#45;&gt;18</title>\n<path fill=\"none\" stroke=\"#000000\" d=\"M825.0712,-579.8796C836.326,-568.3337 848.5461,-555.7976 859.8078,-544.2446\"/>\n<polygon fill=\"#000000\" stroke=\"#000000\" points=\"862.5762,-546.4188 867.0501,-536.8149 857.5636,-541.5326 862.5762,-546.4188\"/>\n</g>\n<!-- 16 -->\n<g id=\"node17\" class=\"node\">\n<title>16</title>\n<polygon fill=\"#50a8e8\" stroke=\"#000000\" points=\"795,-417.5 658,-417.5 658,-349.5 795,-349.5 795,-417.5\"/>\n<text text-anchor=\"middle\" x=\"726.5\" y=\"-402.3\" font-family=\"Times,serif\" font-size=\"14.00\" fill=\"#000000\">entropy = 0.48</text>\n<text text-anchor=\"middle\" x=\"726.5\" y=\"-387.3\" font-family=\"Times,serif\" font-size=\"14.00\" fill=\"#000000\">samples = 29</text>\n<text text-anchor=\"middle\" x=\"726.5\" y=\"-372.3\" font-family=\"Times,serif\" font-size=\"14.00\" fill=\"#000000\">value = [3, 26]</text>\n<text text-anchor=\"middle\" x=\"726.5\" y=\"-357.3\" font-family=\"Times,serif\" font-size=\"14.00\" fill=\"#000000\">class = survived_true</text>\n</g>\n<!-- 15&#45;&gt;16 -->\n<g id=\"edge16\" class=\"edge\">\n<title>15&#45;&gt;16</title>\n<path fill=\"none\" stroke=\"#000000\" d=\"M738.8547,-460.8796C737.1517,-450.2134 735.3138,-438.7021 733.5893,-427.9015\"/>\n<polygon fill=\"#000000\" stroke=\"#000000\" points=\"737.0118,-427.138 731.9789,-417.8149 730.0994,-428.2417 737.0118,-427.138\"/>\n</g>\n<!-- 17 -->\n<g id=\"node18\" class=\"node\">\n<title>17</title>\n<polygon fill=\"#65b3eb\" stroke=\"#000000\" points=\"950,-417.5 813,-417.5 813,-349.5 950,-349.5 950,-417.5\"/>\n<text text-anchor=\"middle\" x=\"881.5\" y=\"-402.3\" font-family=\"Times,serif\" font-size=\"14.00\" fill=\"#000000\">entropy = 0.684</text>\n<text text-anchor=\"middle\" x=\"881.5\" y=\"-387.3\" font-family=\"Times,serif\" font-size=\"14.00\" fill=\"#000000\">samples = 11</text>\n<text text-anchor=\"middle\" x=\"881.5\" y=\"-372.3\" font-family=\"Times,serif\" font-size=\"14.00\" fill=\"#000000\">value = [2, 9]</text>\n<text text-anchor=\"middle\" x=\"881.5\" y=\"-357.3\" font-family=\"Times,serif\" font-size=\"14.00\" fill=\"#000000\">class = survived_true</text>\n</g>\n<!-- 15&#45;&gt;17 -->\n<g id=\"edge17\" class=\"edge\">\n<title>15&#45;&gt;17</title>\n<path fill=\"none\" stroke=\"#000000\" d=\"M793.0662,-460.8796C806.5128,-449.1138 821.1347,-436.3197 834.5451,-424.5855\"/>\n<polygon fill=\"#000000\" stroke=\"#000000\" points=\"837.0619,-427.034 842.2829,-417.8149 832.4524,-421.766 837.0619,-427.034\"/>\n</g>\n<!-- 20 -->\n<g id=\"node21\" class=\"node\">\n<title>20</title>\n<polygon fill=\"#d3e9f9\" stroke=\"#000000\" points=\"1496,-663 1359,-663 1359,-580 1496,-580 1496,-663\"/>\n<text text-anchor=\"middle\" x=\"1427.5\" y=\"-647.8\" font-family=\"Times,serif\" font-size=\"14.00\" fill=\"#000000\">SibSp &lt;= 2.5</text>\n<text text-anchor=\"middle\" x=\"1427.5\" y=\"-632.8\" font-family=\"Times,serif\" font-size=\"14.00\" fill=\"#000000\">entropy = 0.989</text>\n<text text-anchor=\"middle\" x=\"1427.5\" y=\"-617.8\" font-family=\"Times,serif\" font-size=\"14.00\" fill=\"#000000\">samples = 105</text>\n<text text-anchor=\"middle\" x=\"1427.5\" y=\"-602.8\" font-family=\"Times,serif\" font-size=\"14.00\" fill=\"#000000\">value = [46, 59]</text>\n<text text-anchor=\"middle\" x=\"1427.5\" y=\"-587.8\" font-family=\"Times,serif\" font-size=\"14.00\" fill=\"#000000\">class = survived_true</text>\n</g>\n<!-- 19&#45;&gt;20 -->\n<g id=\"edge20\" class=\"edge\">\n<title>19&#45;&gt;20</title>\n<path fill=\"none\" stroke=\"#000000\" d=\"M1529.589,-698.8796C1516.9206,-689.2774 1503.3485,-678.9903 1490.3705,-669.1534\"/>\n<polygon fill=\"#000000\" stroke=\"#000000\" points=\"1492.4636,-666.3482 1482.38,-663.0969 1488.2352,-671.9268 1492.4636,-666.3482\"/>\n</g>\n<!-- 35 -->\n<g id=\"node36\" class=\"node\">\n<title>35</title>\n<polygon fill=\"#efb184\" stroke=\"#000000\" points=\"1734,-663 1593,-663 1593,-580 1734,-580 1734,-663\"/>\n<text text-anchor=\"middle\" x=\"1663.5\" y=\"-647.8\" font-family=\"Times,serif\" font-size=\"14.00\" fill=\"#000000\">SibSp &lt;= 4.5</text>\n<text text-anchor=\"middle\" x=\"1663.5\" y=\"-632.8\" font-family=\"Times,serif\" font-size=\"14.00\" fill=\"#000000\">entropy = 0.85</text>\n<text text-anchor=\"middle\" x=\"1663.5\" y=\"-617.8\" font-family=\"Times,serif\" font-size=\"14.00\" fill=\"#000000\">samples = 29</text>\n<text text-anchor=\"middle\" x=\"1663.5\" y=\"-602.8\" font-family=\"Times,serif\" font-size=\"14.00\" fill=\"#000000\">value = [21, 8]</text>\n<text text-anchor=\"middle\" x=\"1663.5\" y=\"-587.8\" font-family=\"Times,serif\" font-size=\"14.00\" fill=\"#000000\">class = survived_false</text>\n</g>\n<!-- 19&#45;&gt;35 -->\n<g id=\"edge35\" class=\"edge\">\n<title>19&#45;&gt;35</title>\n<path fill=\"none\" stroke=\"#000000\" d=\"M1612.1304,-698.8796C1617.93,-690.1434 1624.1059,-680.8404 1630.0908,-671.8253\"/>\n<polygon fill=\"#000000\" stroke=\"#000000\" points=\"1633.1368,-673.5652 1635.7517,-663.2981 1627.3049,-669.6935 1633.1368,-673.5652\"/>\n</g>\n<!-- 21 -->\n<g id=\"node22\" class=\"node\">\n<title>21</title>\n<polygon fill=\"#c5e2f7\" stroke=\"#000000\" points=\"1261,-544 1124,-544 1124,-461 1261,-461 1261,-544\"/>\n<text text-anchor=\"middle\" x=\"1192.5\" y=\"-528.8\" font-family=\"Times,serif\" font-size=\"14.00\" fill=\"#000000\">SibSp &lt;= 1.5</text>\n<text text-anchor=\"middle\" x=\"1192.5\" y=\"-513.8\" font-family=\"Times,serif\" font-size=\"14.00\" fill=\"#000000\">entropy = 0.979</text>\n<text text-anchor=\"middle\" x=\"1192.5\" y=\"-498.8\" font-family=\"Times,serif\" font-size=\"14.00\" fill=\"#000000\">samples = 99</text>\n<text text-anchor=\"middle\" x=\"1192.5\" y=\"-483.8\" font-family=\"Times,serif\" font-size=\"14.00\" fill=\"#000000\">value = [41, 58]</text>\n<text text-anchor=\"middle\" x=\"1192.5\" y=\"-468.8\" font-family=\"Times,serif\" font-size=\"14.00\" fill=\"#000000\">class = survived_true</text>\n</g>\n<!-- 20&#45;&gt;21 -->\n<g id=\"edge21\" class=\"edge\">\n<title>20&#45;&gt;21</title>\n<path fill=\"none\" stroke=\"#000000\" d=\"M1358.8965,-586.7604C1331.1468,-572.7084 1298.9686,-556.4139 1270.3465,-541.9201\"/>\n<polygon fill=\"#000000\" stroke=\"#000000\" points=\"1271.6913,-538.678 1261.1887,-537.2828 1268.5289,-544.923 1271.6913,-538.678\"/>\n</g>\n<!-- 32 -->\n<g id=\"node33\" class=\"node\">\n<title>32</title>\n<polygon fill=\"#ea9a61\" stroke=\"#000000\" points=\"1498,-544 1357,-544 1357,-461 1498,-461 1498,-544\"/>\n<text text-anchor=\"middle\" x=\"1427.5\" y=\"-528.8\" font-family=\"Times,serif\" font-size=\"14.00\" fill=\"#000000\">Parch &lt;= 0.5</text>\n<text text-anchor=\"middle\" x=\"1427.5\" y=\"-513.8\" font-family=\"Times,serif\" font-size=\"14.00\" fill=\"#000000\">entropy = 0.65</text>\n<text text-anchor=\"middle\" x=\"1427.5\" y=\"-498.8\" font-family=\"Times,serif\" font-size=\"14.00\" fill=\"#000000\">samples = 6</text>\n<text text-anchor=\"middle\" x=\"1427.5\" y=\"-483.8\" font-family=\"Times,serif\" font-size=\"14.00\" fill=\"#000000\">value = [5, 1]</text>\n<text text-anchor=\"middle\" x=\"1427.5\" y=\"-468.8\" font-family=\"Times,serif\" font-size=\"14.00\" fill=\"#000000\">class = survived_false</text>\n</g>\n<!-- 20&#45;&gt;32 -->\n<g id=\"edge32\" class=\"edge\">\n<title>20&#45;&gt;32</title>\n<path fill=\"none\" stroke=\"#000000\" d=\"M1427.5,-579.8796C1427.5,-571.6838 1427.5,-562.9891 1427.5,-554.5013\"/>\n<polygon fill=\"#000000\" stroke=\"#000000\" points=\"1431.0001,-554.298 1427.5,-544.2981 1424.0001,-554.2981 1431.0001,-554.298\"/>\n</g>\n<!-- 22 -->\n<g id=\"node23\" class=\"node\">\n<title>22</title>\n<polygon fill=\"#cce6f8\" stroke=\"#000000\" points=\"1105,-425 968,-425 968,-342 1105,-342 1105,-425\"/>\n<text text-anchor=\"middle\" x=\"1036.5\" y=\"-409.8\" font-family=\"Times,serif\" font-size=\"14.00\" fill=\"#000000\">SibSp &lt;= 0.5</text>\n<text text-anchor=\"middle\" x=\"1036.5\" y=\"-394.8\" font-family=\"Times,serif\" font-size=\"14.00\" fill=\"#000000\">entropy = 0.984</text>\n<text text-anchor=\"middle\" x=\"1036.5\" y=\"-379.8\" font-family=\"Times,serif\" font-size=\"14.00\" fill=\"#000000\">samples = 94</text>\n<text text-anchor=\"middle\" x=\"1036.5\" y=\"-364.8\" font-family=\"Times,serif\" font-size=\"14.00\" fill=\"#000000\">value = [40, 54]</text>\n<text text-anchor=\"middle\" x=\"1036.5\" y=\"-349.8\" font-family=\"Times,serif\" font-size=\"14.00\" fill=\"#000000\">class = survived_true</text>\n</g>\n<!-- 21&#45;&gt;22 -->\n<g id=\"edge22\" class=\"edge\">\n<title>21&#45;&gt;22</title>\n<path fill=\"none\" stroke=\"#000000\" d=\"M1137.9388,-460.8796C1125.4698,-451.368 1112.1198,-441.1843 1099.3352,-431.432\"/>\n<polygon fill=\"#000000\" stroke=\"#000000\" points=\"1101.104,-428.3792 1091.0304,-425.0969 1096.8585,-433.9448 1101.104,-428.3792\"/>\n</g>\n<!-- 29 -->\n<g id=\"node30\" class=\"node\">\n<title>29</title>\n<polygon fill=\"#6ab6ec\" stroke=\"#000000\" points=\"1261,-425 1124,-425 1124,-342 1261,-342 1261,-425\"/>\n<text text-anchor=\"middle\" x=\"1192.5\" y=\"-409.8\" font-family=\"Times,serif\" font-size=\"14.00\" fill=\"#000000\">Parch &lt;= 0.5</text>\n<text text-anchor=\"middle\" x=\"1192.5\" y=\"-394.8\" font-family=\"Times,serif\" font-size=\"14.00\" fill=\"#000000\">entropy = 0.722</text>\n<text text-anchor=\"middle\" x=\"1192.5\" y=\"-379.8\" font-family=\"Times,serif\" font-size=\"14.00\" fill=\"#000000\">samples = 5</text>\n<text text-anchor=\"middle\" x=\"1192.5\" y=\"-364.8\" font-family=\"Times,serif\" font-size=\"14.00\" fill=\"#000000\">value = [1, 4]</text>\n<text text-anchor=\"middle\" x=\"1192.5\" y=\"-349.8\" font-family=\"Times,serif\" font-size=\"14.00\" fill=\"#000000\">class = survived_true</text>\n</g>\n<!-- 21&#45;&gt;29 -->\n<g id=\"edge29\" class=\"edge\">\n<title>21&#45;&gt;29</title>\n<path fill=\"none\" stroke=\"#000000\" d=\"M1192.5,-460.8796C1192.5,-452.6838 1192.5,-443.9891 1192.5,-435.5013\"/>\n<polygon fill=\"#000000\" stroke=\"#000000\" points=\"1196.0001,-435.298 1192.5,-425.2981 1189.0001,-435.2981 1196.0001,-435.298\"/>\n</g>\n<!-- 23 -->\n<g id=\"node24\" class=\"node\">\n<title>23</title>\n<polygon fill=\"#b6dbf5\" stroke=\"#000000\" points=\"946,-306 809,-306 809,-223 946,-223 946,-306\"/>\n<text text-anchor=\"middle\" x=\"877.5\" y=\"-290.8\" font-family=\"Times,serif\" font-size=\"14.00\" fill=\"#000000\">Parch &lt;= 0.5</text>\n<text text-anchor=\"middle\" x=\"877.5\" y=\"-275.8\" font-family=\"Times,serif\" font-size=\"14.00\" fill=\"#000000\">entropy = 0.963</text>\n<text text-anchor=\"middle\" x=\"877.5\" y=\"-260.8\" font-family=\"Times,serif\" font-size=\"14.00\" fill=\"#000000\">samples = 62</text>\n<text text-anchor=\"middle\" x=\"877.5\" y=\"-245.8\" font-family=\"Times,serif\" font-size=\"14.00\" fill=\"#000000\">value = [24, 38]</text>\n<text text-anchor=\"middle\" x=\"877.5\" y=\"-230.8\" font-family=\"Times,serif\" font-size=\"14.00\" fill=\"#000000\">class = survived_true</text>\n</g>\n<!-- 22&#45;&gt;23 -->\n<g id=\"edge23\" class=\"edge\">\n<title>22&#45;&gt;23</title>\n<path fill=\"none\" stroke=\"#000000\" d=\"M980.8895,-341.8796C968.0597,-332.2774 954.3148,-321.9903 941.1714,-312.1534\"/>\n<polygon fill=\"#000000\" stroke=\"#000000\" points=\"943.1823,-309.2868 933.0791,-306.0969 938.9879,-314.891 943.1823,-309.2868\"/>\n</g>\n<!-- 26 -->\n<g id=\"node27\" class=\"node\">\n<title>26</title>\n<polygon fill=\"#ffffff\" stroke=\"#000000\" points=\"1105,-306 964,-306 964,-223 1105,-223 1105,-306\"/>\n<text text-anchor=\"middle\" x=\"1034.5\" y=\"-290.8\" font-family=\"Times,serif\" font-size=\"14.00\" fill=\"#000000\">Parch &lt;= 0.5</text>\n<text text-anchor=\"middle\" x=\"1034.5\" y=\"-275.8\" font-family=\"Times,serif\" font-size=\"14.00\" fill=\"#000000\">entropy = 1.0</text>\n<text text-anchor=\"middle\" x=\"1034.5\" y=\"-260.8\" font-family=\"Times,serif\" font-size=\"14.00\" fill=\"#000000\">samples = 32</text>\n<text text-anchor=\"middle\" x=\"1034.5\" y=\"-245.8\" font-family=\"Times,serif\" font-size=\"14.00\" fill=\"#000000\">value = [16, 16]</text>\n<text text-anchor=\"middle\" x=\"1034.5\" y=\"-230.8\" font-family=\"Times,serif\" font-size=\"14.00\" fill=\"#000000\">class = survived_false</text>\n</g>\n<!-- 22&#45;&gt;26 -->\n<g id=\"edge26\" class=\"edge\">\n<title>22&#45;&gt;26</title>\n<path fill=\"none\" stroke=\"#000000\" d=\"M1035.8005,-341.8796C1035.6628,-333.6838 1035.5166,-324.9891 1035.374,-316.5013\"/>\n<polygon fill=\"#000000\" stroke=\"#000000\" points=\"1038.8701,-316.2378 1035.2025,-306.2981 1031.8711,-316.3555 1038.8701,-316.2378\"/>\n</g>\n<!-- 24 -->\n<g id=\"node25\" class=\"node\">\n<title>24</title>\n<polygon fill=\"#b3daf5\" stroke=\"#000000\" points=\"791,-179.5 654,-179.5 654,-111.5 791,-111.5 791,-179.5\"/>\n<text text-anchor=\"middle\" x=\"722.5\" y=\"-164.3\" font-family=\"Times,serif\" font-size=\"14.00\" fill=\"#000000\">entropy = 0.959</text>\n<text text-anchor=\"middle\" x=\"722.5\" y=\"-149.3\" font-family=\"Times,serif\" font-size=\"14.00\" fill=\"#000000\">samples = 55</text>\n<text text-anchor=\"middle\" x=\"722.5\" y=\"-134.3\" font-family=\"Times,serif\" font-size=\"14.00\" fill=\"#000000\">value = [21, 34]</text>\n<text text-anchor=\"middle\" x=\"722.5\" y=\"-119.3\" font-family=\"Times,serif\" font-size=\"14.00\" fill=\"#000000\">class = survived_true</text>\n</g>\n<!-- 23&#45;&gt;24 -->\n<g id=\"edge24\" class=\"edge\">\n<title>23&#45;&gt;24</title>\n<path fill=\"none\" stroke=\"#000000\" d=\"M823.2885,-222.8796C807.6769,-210.8938 790.6753,-197.841 775.1592,-185.9287\"/>\n<polygon fill=\"#000000\" stroke=\"#000000\" points=\"777.2593,-183.1285 767.1959,-179.8149 772.9965,-188.6808 777.2593,-183.1285\"/>\n</g>\n<!-- 25 -->\n<g id=\"node26\" class=\"node\">\n<title>25</title>\n<polygon fill=\"#cee6f8\" stroke=\"#000000\" points=\"946,-179.5 809,-179.5 809,-111.5 946,-111.5 946,-179.5\"/>\n<text text-anchor=\"middle\" x=\"877.5\" y=\"-164.3\" font-family=\"Times,serif\" font-size=\"14.00\" fill=\"#000000\">entropy = 0.985</text>\n<text text-anchor=\"middle\" x=\"877.5\" y=\"-149.3\" font-family=\"Times,serif\" font-size=\"14.00\" fill=\"#000000\">samples = 7</text>\n<text text-anchor=\"middle\" x=\"877.5\" y=\"-134.3\" font-family=\"Times,serif\" font-size=\"14.00\" fill=\"#000000\">value = [3, 4]</text>\n<text text-anchor=\"middle\" x=\"877.5\" y=\"-119.3\" font-family=\"Times,serif\" font-size=\"14.00\" fill=\"#000000\">class = survived_true</text>\n</g>\n<!-- 23&#45;&gt;25 -->\n<g id=\"edge25\" class=\"edge\">\n<title>23&#45;&gt;25</title>\n<path fill=\"none\" stroke=\"#000000\" d=\"M877.5,-222.8796C877.5,-212.2134 877.5,-200.7021 877.5,-189.9015\"/>\n<polygon fill=\"#000000\" stroke=\"#000000\" points=\"881.0001,-189.8149 877.5,-179.8149 874.0001,-189.815 881.0001,-189.8149\"/>\n</g>\n<!-- 27 -->\n<g id=\"node28\" class=\"node\">\n<title>27</title>\n<polygon fill=\"#ffffff\" stroke=\"#000000\" points=\"1105,-179.5 964,-179.5 964,-111.5 1105,-111.5 1105,-179.5\"/>\n<text text-anchor=\"middle\" x=\"1034.5\" y=\"-164.3\" font-family=\"Times,serif\" font-size=\"14.00\" fill=\"#000000\">entropy = 1.0</text>\n<text text-anchor=\"middle\" x=\"1034.5\" y=\"-149.3\" font-family=\"Times,serif\" font-size=\"14.00\" fill=\"#000000\">samples = 22</text>\n<text text-anchor=\"middle\" x=\"1034.5\" y=\"-134.3\" font-family=\"Times,serif\" font-size=\"14.00\" fill=\"#000000\">value = [11, 11]</text>\n<text text-anchor=\"middle\" x=\"1034.5\" y=\"-119.3\" font-family=\"Times,serif\" font-size=\"14.00\" fill=\"#000000\">class = survived_false</text>\n</g>\n<!-- 26&#45;&gt;27 -->\n<g id=\"edge27\" class=\"edge\">\n<title>26&#45;&gt;27</title>\n<path fill=\"none\" stroke=\"#000000\" d=\"M1034.5,-222.8796C1034.5,-212.2134 1034.5,-200.7021 1034.5,-189.9015\"/>\n<polygon fill=\"#000000\" stroke=\"#000000\" points=\"1038.0001,-189.8149 1034.5,-179.8149 1031.0001,-189.815 1038.0001,-189.8149\"/>\n</g>\n<!-- 28 -->\n<g id=\"node29\" class=\"node\">\n<title>28</title>\n<polygon fill=\"#ffffff\" stroke=\"#000000\" points=\"1264,-179.5 1123,-179.5 1123,-111.5 1264,-111.5 1264,-179.5\"/>\n<text text-anchor=\"middle\" x=\"1193.5\" y=\"-164.3\" font-family=\"Times,serif\" font-size=\"14.00\" fill=\"#000000\">entropy = 1.0</text>\n<text text-anchor=\"middle\" x=\"1193.5\" y=\"-149.3\" font-family=\"Times,serif\" font-size=\"14.00\" fill=\"#000000\">samples = 10</text>\n<text text-anchor=\"middle\" x=\"1193.5\" y=\"-134.3\" font-family=\"Times,serif\" font-size=\"14.00\" fill=\"#000000\">value = [5, 5]</text>\n<text text-anchor=\"middle\" x=\"1193.5\" y=\"-119.3\" font-family=\"Times,serif\" font-size=\"14.00\" fill=\"#000000\">class = survived_false</text>\n</g>\n<!-- 26&#45;&gt;28 -->\n<g id=\"edge28\" class=\"edge\">\n<title>26&#45;&gt;28</title>\n<path fill=\"none\" stroke=\"#000000\" d=\"M1090.1105,-222.8796C1106.2013,-210.8368 1123.7315,-197.7167 1139.7091,-185.7586\"/>\n<polygon fill=\"#000000\" stroke=\"#000000\" points=\"1141.9982,-188.4171 1147.907,-179.623 1137.8038,-182.8129 1141.9982,-188.4171\"/>\n</g>\n<!-- 30 -->\n<g id=\"node31\" class=\"node\">\n<title>30</title>\n<polygon fill=\"#ffffff\" stroke=\"#000000\" points=\"1264,-298.5 1123,-298.5 1123,-230.5 1264,-230.5 1264,-298.5\"/>\n<text text-anchor=\"middle\" x=\"1193.5\" y=\"-283.3\" font-family=\"Times,serif\" font-size=\"14.00\" fill=\"#000000\">entropy = 1.0</text>\n<text text-anchor=\"middle\" x=\"1193.5\" y=\"-268.3\" font-family=\"Times,serif\" font-size=\"14.00\" fill=\"#000000\">samples = 2</text>\n<text text-anchor=\"middle\" x=\"1193.5\" y=\"-253.3\" font-family=\"Times,serif\" font-size=\"14.00\" fill=\"#000000\">value = [1, 1]</text>\n<text text-anchor=\"middle\" x=\"1193.5\" y=\"-238.3\" font-family=\"Times,serif\" font-size=\"14.00\" fill=\"#000000\">class = survived_false</text>\n</g>\n<!-- 29&#45;&gt;30 -->\n<g id=\"edge30\" class=\"edge\">\n<title>29&#45;&gt;30</title>\n<path fill=\"none\" stroke=\"#000000\" d=\"M1192.8498,-341.8796C1192.9394,-331.2134 1193.0361,-319.7021 1193.1269,-308.9015\"/>\n<polygon fill=\"#000000\" stroke=\"#000000\" points=\"1196.6274,-308.844 1193.2116,-298.8149 1189.6276,-308.7851 1196.6274,-308.844\"/>\n</g>\n<!-- 31 -->\n<g id=\"node32\" class=\"node\">\n<title>31</title>\n<polygon fill=\"#399de5\" stroke=\"#000000\" points=\"1419,-298.5 1282,-298.5 1282,-230.5 1419,-230.5 1419,-298.5\"/>\n<text text-anchor=\"middle\" x=\"1350.5\" y=\"-283.3\" font-family=\"Times,serif\" font-size=\"14.00\" fill=\"#000000\">entropy = 0.0</text>\n<text text-anchor=\"middle\" x=\"1350.5\" y=\"-268.3\" font-family=\"Times,serif\" font-size=\"14.00\" fill=\"#000000\">samples = 3</text>\n<text text-anchor=\"middle\" x=\"1350.5\" y=\"-253.3\" font-family=\"Times,serif\" font-size=\"14.00\" fill=\"#000000\">value = [0, 3]</text>\n<text text-anchor=\"middle\" x=\"1350.5\" y=\"-238.3\" font-family=\"Times,serif\" font-size=\"14.00\" fill=\"#000000\">class = survived_true</text>\n</g>\n<!-- 29&#45;&gt;31 -->\n<g id=\"edge31\" class=\"edge\">\n<title>29&#45;&gt;31</title>\n<path fill=\"none\" stroke=\"#000000\" d=\"M1247.7607,-341.8796C1263.7503,-329.8368 1281.1703,-316.7167 1297.0474,-304.7586\"/>\n<polygon fill=\"#000000\" stroke=\"#000000\" points=\"1299.3116,-307.435 1305.1938,-298.623 1295.1002,-301.8435 1299.3116,-307.435\"/>\n</g>\n<!-- 33 -->\n<g id=\"node34\" class=\"node\">\n<title>33</title>\n<polygon fill=\"#399de5\" stroke=\"#000000\" points=\"1416,-417.5 1279,-417.5 1279,-349.5 1416,-349.5 1416,-417.5\"/>\n<text text-anchor=\"middle\" x=\"1347.5\" y=\"-402.3\" font-family=\"Times,serif\" font-size=\"14.00\" fill=\"#000000\">entropy = 0.0</text>\n<text text-anchor=\"middle\" x=\"1347.5\" y=\"-387.3\" font-family=\"Times,serif\" font-size=\"14.00\" fill=\"#000000\">samples = 1</text>\n<text text-anchor=\"middle\" x=\"1347.5\" y=\"-372.3\" font-family=\"Times,serif\" font-size=\"14.00\" fill=\"#000000\">value = [0, 1]</text>\n<text text-anchor=\"middle\" x=\"1347.5\" y=\"-357.3\" font-family=\"Times,serif\" font-size=\"14.00\" fill=\"#000000\">class = survived_true</text>\n</g>\n<!-- 32&#45;&gt;33 -->\n<g id=\"edge33\" class=\"edge\">\n<title>32&#45;&gt;33</title>\n<path fill=\"none\" stroke=\"#000000\" d=\"M1399.5199,-460.8796C1391.9797,-449.6636 1383.8113,-437.5131 1376.2309,-426.2372\"/>\n<polygon fill=\"#000000\" stroke=\"#000000\" points=\"1379.0527,-424.1612 1370.5689,-417.8149 1373.2434,-428.0667 1379.0527,-424.1612\"/>\n</g>\n<!-- 34 -->\n<g id=\"node35\" class=\"node\">\n<title>34</title>\n<polygon fill=\"#e58139\" stroke=\"#000000\" points=\"1575,-417.5 1434,-417.5 1434,-349.5 1575,-349.5 1575,-417.5\"/>\n<text text-anchor=\"middle\" x=\"1504.5\" y=\"-402.3\" font-family=\"Times,serif\" font-size=\"14.00\" fill=\"#000000\">entropy = 0.0</text>\n<text text-anchor=\"middle\" x=\"1504.5\" y=\"-387.3\" font-family=\"Times,serif\" font-size=\"14.00\" fill=\"#000000\">samples = 5</text>\n<text text-anchor=\"middle\" x=\"1504.5\" y=\"-372.3\" font-family=\"Times,serif\" font-size=\"14.00\" fill=\"#000000\">value = [5, 0]</text>\n<text text-anchor=\"middle\" x=\"1504.5\" y=\"-357.3\" font-family=\"Times,serif\" font-size=\"14.00\" fill=\"#000000\">class = survived_false</text>\n</g>\n<!-- 32&#45;&gt;34 -->\n<g id=\"edge34\" class=\"edge\">\n<title>32&#45;&gt;34</title>\n<path fill=\"none\" stroke=\"#000000\" d=\"M1454.4309,-460.8796C1461.6883,-449.6636 1469.5503,-437.5131 1476.8465,-426.2372\"/>\n<polygon fill=\"#000000\" stroke=\"#000000\" points=\"1479.8022,-428.112 1482.2962,-417.8149 1473.9252,-424.3093 1479.8022,-428.112\"/>\n</g>\n<!-- 36 -->\n<g id=\"node37\" class=\"node\">\n<title>36</title>\n<polygon fill=\"#f1bc96\" stroke=\"#000000\" points=\"1734,-544 1593,-544 1593,-461 1734,-461 1734,-544\"/>\n<text text-anchor=\"middle\" x=\"1663.5\" y=\"-528.8\" font-family=\"Times,serif\" font-size=\"14.00\" fill=\"#000000\">SibSp &lt;= 0.5</text>\n<text text-anchor=\"middle\" x=\"1663.5\" y=\"-513.8\" font-family=\"Times,serif\" font-size=\"14.00\" fill=\"#000000\">entropy = 0.904</text>\n<text text-anchor=\"middle\" x=\"1663.5\" y=\"-498.8\" font-family=\"Times,serif\" font-size=\"14.00\" fill=\"#000000\">samples = 25</text>\n<text text-anchor=\"middle\" x=\"1663.5\" y=\"-483.8\" font-family=\"Times,serif\" font-size=\"14.00\" fill=\"#000000\">value = [17, 8]</text>\n<text text-anchor=\"middle\" x=\"1663.5\" y=\"-468.8\" font-family=\"Times,serif\" font-size=\"14.00\" fill=\"#000000\">class = survived_false</text>\n</g>\n<!-- 35&#45;&gt;36 -->\n<g id=\"edge36\" class=\"edge\">\n<title>35&#45;&gt;36</title>\n<path fill=\"none\" stroke=\"#000000\" d=\"M1663.5,-579.8796C1663.5,-571.6838 1663.5,-562.9891 1663.5,-554.5013\"/>\n<polygon fill=\"#000000\" stroke=\"#000000\" points=\"1667.0001,-554.298 1663.5,-544.2981 1660.0001,-554.2981 1667.0001,-554.298\"/>\n</g>\n<!-- 49 -->\n<g id=\"node50\" class=\"node\">\n<title>49</title>\n<polygon fill=\"#e58139\" stroke=\"#000000\" points=\"1893,-536.5 1752,-536.5 1752,-468.5 1893,-468.5 1893,-536.5\"/>\n<text text-anchor=\"middle\" x=\"1822.5\" y=\"-521.3\" font-family=\"Times,serif\" font-size=\"14.00\" fill=\"#000000\">entropy = 0.0</text>\n<text text-anchor=\"middle\" x=\"1822.5\" y=\"-506.3\" font-family=\"Times,serif\" font-size=\"14.00\" fill=\"#000000\">samples = 4</text>\n<text text-anchor=\"middle\" x=\"1822.5\" y=\"-491.3\" font-family=\"Times,serif\" font-size=\"14.00\" fill=\"#000000\">value = [4, 0]</text>\n<text text-anchor=\"middle\" x=\"1822.5\" y=\"-476.3\" font-family=\"Times,serif\" font-size=\"14.00\" fill=\"#000000\">class = survived_false</text>\n</g>\n<!-- 35&#45;&gt;49 -->\n<g id=\"edge49\" class=\"edge\">\n<title>35&#45;&gt;49</title>\n<path fill=\"none\" stroke=\"#000000\" d=\"M1719.1105,-579.8796C1735.2013,-567.8368 1752.7315,-554.7167 1768.7091,-542.7586\"/>\n<polygon fill=\"#000000\" stroke=\"#000000\" points=\"1770.9982,-545.4171 1776.907,-536.623 1766.8038,-539.8129 1770.9982,-545.4171\"/>\n</g>\n<!-- 37 -->\n<g id=\"node38\" class=\"node\">\n<title>37</title>\n<polygon fill=\"#fbeade\" stroke=\"#000000\" points=\"1734,-425 1593,-425 1593,-342 1734,-342 1734,-425\"/>\n<text text-anchor=\"middle\" x=\"1663.5\" y=\"-409.8\" font-family=\"Times,serif\" font-size=\"14.00\" fill=\"#000000\">Parch &lt;= 4.0</text>\n<text text-anchor=\"middle\" x=\"1663.5\" y=\"-394.8\" font-family=\"Times,serif\" font-size=\"14.00\" fill=\"#000000\">entropy = 0.994</text>\n<text text-anchor=\"middle\" x=\"1663.5\" y=\"-379.8\" font-family=\"Times,serif\" font-size=\"14.00\" fill=\"#000000\">samples = 11</text>\n<text text-anchor=\"middle\" x=\"1663.5\" y=\"-364.8\" font-family=\"Times,serif\" font-size=\"14.00\" fill=\"#000000\">value = [6, 5]</text>\n<text text-anchor=\"middle\" x=\"1663.5\" y=\"-349.8\" font-family=\"Times,serif\" font-size=\"14.00\" fill=\"#000000\">class = survived_false</text>\n</g>\n<!-- 36&#45;&gt;37 -->\n<g id=\"edge37\" class=\"edge\">\n<title>36&#45;&gt;37</title>\n<path fill=\"none\" stroke=\"#000000\" d=\"M1663.5,-460.8796C1663.5,-452.6838 1663.5,-443.9891 1663.5,-435.5013\"/>\n<polygon fill=\"#000000\" stroke=\"#000000\" points=\"1667.0001,-435.298 1663.5,-425.2981 1660.0001,-435.2981 1667.0001,-435.298\"/>\n</g>\n<!-- 42 -->\n<g id=\"node43\" class=\"node\">\n<title>42</title>\n<polygon fill=\"#eca36f\" stroke=\"#000000\" points=\"1893,-425 1752,-425 1752,-342 1893,-342 1893,-425\"/>\n<text text-anchor=\"middle\" x=\"1822.5\" y=\"-409.8\" font-family=\"Times,serif\" font-size=\"14.00\" fill=\"#000000\">SibSp &lt;= 3.5</text>\n<text text-anchor=\"middle\" x=\"1822.5\" y=\"-394.8\" font-family=\"Times,serif\" font-size=\"14.00\" fill=\"#000000\">entropy = 0.75</text>\n<text text-anchor=\"middle\" x=\"1822.5\" y=\"-379.8\" font-family=\"Times,serif\" font-size=\"14.00\" fill=\"#000000\">samples = 14</text>\n<text text-anchor=\"middle\" x=\"1822.5\" y=\"-364.8\" font-family=\"Times,serif\" font-size=\"14.00\" fill=\"#000000\">value = [11, 3]</text>\n<text text-anchor=\"middle\" x=\"1822.5\" y=\"-349.8\" font-family=\"Times,serif\" font-size=\"14.00\" fill=\"#000000\">class = survived_false</text>\n</g>\n<!-- 36&#45;&gt;42 -->\n<g id=\"edge42\" class=\"edge\">\n<title>36&#45;&gt;42</title>\n<path fill=\"none\" stroke=\"#000000\" d=\"M1719.1105,-460.8796C1731.9403,-451.2774 1745.6852,-440.9903 1758.8286,-431.1534\"/>\n<polygon fill=\"#000000\" stroke=\"#000000\" points=\"1761.0121,-433.891 1766.9209,-425.0969 1756.8177,-428.2868 1761.0121,-433.891\"/>\n</g>\n<!-- 38 -->\n<g id=\"node39\" class=\"node\">\n<title>38</title>\n<polygon fill=\"#d7ebfa\" stroke=\"#000000\" points=\"1575,-306 1438,-306 1438,-223 1575,-223 1575,-306\"/>\n<text text-anchor=\"middle\" x=\"1506.5\" y=\"-290.8\" font-family=\"Times,serif\" font-size=\"14.00\" fill=\"#000000\">Parch &lt;= 2.5</text>\n<text text-anchor=\"middle\" x=\"1506.5\" y=\"-275.8\" font-family=\"Times,serif\" font-size=\"14.00\" fill=\"#000000\">entropy = 0.991</text>\n<text text-anchor=\"middle\" x=\"1506.5\" y=\"-260.8\" font-family=\"Times,serif\" font-size=\"14.00\" fill=\"#000000\">samples = 9</text>\n<text text-anchor=\"middle\" x=\"1506.5\" y=\"-245.8\" font-family=\"Times,serif\" font-size=\"14.00\" fill=\"#000000\">value = [4, 5]</text>\n<text text-anchor=\"middle\" x=\"1506.5\" y=\"-230.8\" font-family=\"Times,serif\" font-size=\"14.00\" fill=\"#000000\">class = survived_true</text>\n</g>\n<!-- 37&#45;&gt;38 -->\n<g id=\"edge38\" class=\"edge\">\n<title>37&#45;&gt;38</title>\n<path fill=\"none\" stroke=\"#000000\" d=\"M1608.589,-341.8796C1595.9206,-332.2774 1582.3485,-321.9903 1569.3705,-312.1534\"/>\n<polygon fill=\"#000000\" stroke=\"#000000\" points=\"1571.4636,-309.3482 1561.38,-306.0969 1567.2352,-314.9268 1571.4636,-309.3482\"/>\n</g>\n<!-- 41 -->\n<g id=\"node42\" class=\"node\">\n<title>41</title>\n<polygon fill=\"#e58139\" stroke=\"#000000\" points=\"1734,-298.5 1593,-298.5 1593,-230.5 1734,-230.5 1734,-298.5\"/>\n<text text-anchor=\"middle\" x=\"1663.5\" y=\"-283.3\" font-family=\"Times,serif\" font-size=\"14.00\" fill=\"#000000\">entropy = 0.0</text>\n<text text-anchor=\"middle\" x=\"1663.5\" y=\"-268.3\" font-family=\"Times,serif\" font-size=\"14.00\" fill=\"#000000\">samples = 2</text>\n<text text-anchor=\"middle\" x=\"1663.5\" y=\"-253.3\" font-family=\"Times,serif\" font-size=\"14.00\" fill=\"#000000\">value = [2, 0]</text>\n<text text-anchor=\"middle\" x=\"1663.5\" y=\"-238.3\" font-family=\"Times,serif\" font-size=\"14.00\" fill=\"#000000\">class = survived_false</text>\n</g>\n<!-- 37&#45;&gt;41 -->\n<g id=\"edge41\" class=\"edge\">\n<title>37&#45;&gt;41</title>\n<path fill=\"none\" stroke=\"#000000\" d=\"M1663.5,-341.8796C1663.5,-331.2134 1663.5,-319.7021 1663.5,-308.9015\"/>\n<polygon fill=\"#000000\" stroke=\"#000000\" points=\"1667.0001,-308.8149 1663.5,-298.8149 1660.0001,-308.815 1667.0001,-308.8149\"/>\n</g>\n<!-- 39 -->\n<g id=\"node40\" class=\"node\">\n<title>39</title>\n<polygon fill=\"#ffffff\" stroke=\"#000000\" points=\"1462,-179.5 1321,-179.5 1321,-111.5 1462,-111.5 1462,-179.5\"/>\n<text text-anchor=\"middle\" x=\"1391.5\" y=\"-164.3\" font-family=\"Times,serif\" font-size=\"14.00\" fill=\"#000000\">entropy = 1.0</text>\n<text text-anchor=\"middle\" x=\"1391.5\" y=\"-149.3\" font-family=\"Times,serif\" font-size=\"14.00\" fill=\"#000000\">samples = 8</text>\n<text text-anchor=\"middle\" x=\"1391.5\" y=\"-134.3\" font-family=\"Times,serif\" font-size=\"14.00\" fill=\"#000000\">value = [4, 4]</text>\n<text text-anchor=\"middle\" x=\"1391.5\" y=\"-119.3\" font-family=\"Times,serif\" font-size=\"14.00\" fill=\"#000000\">class = survived_false</text>\n</g>\n<!-- 38&#45;&gt;39 -->\n<g id=\"edge39\" class=\"edge\">\n<title>38&#45;&gt;39</title>\n<path fill=\"none\" stroke=\"#000000\" d=\"M1466.2786,-222.8796C1455.1208,-211.3337 1443.0061,-198.7976 1431.8414,-187.2446\"/>\n<polygon fill=\"#000000\" stroke=\"#000000\" points=\"1434.1275,-184.5736 1424.6615,-179.8149 1429.0939,-189.4381 1434.1275,-184.5736\"/>\n</g>\n<!-- 40 -->\n<g id=\"node41\" class=\"node\">\n<title>40</title>\n<polygon fill=\"#399de5\" stroke=\"#000000\" points=\"1617,-179.5 1480,-179.5 1480,-111.5 1617,-111.5 1617,-179.5\"/>\n<text text-anchor=\"middle\" x=\"1548.5\" y=\"-164.3\" font-family=\"Times,serif\" font-size=\"14.00\" fill=\"#000000\">entropy = 0.0</text>\n<text text-anchor=\"middle\" x=\"1548.5\" y=\"-149.3\" font-family=\"Times,serif\" font-size=\"14.00\" fill=\"#000000\">samples = 1</text>\n<text text-anchor=\"middle\" x=\"1548.5\" y=\"-134.3\" font-family=\"Times,serif\" font-size=\"14.00\" fill=\"#000000\">value = [0, 1]</text>\n<text text-anchor=\"middle\" x=\"1548.5\" y=\"-119.3\" font-family=\"Times,serif\" font-size=\"14.00\" fill=\"#000000\">class = survived_true</text>\n</g>\n<!-- 38&#45;&gt;40 -->\n<g id=\"edge40\" class=\"edge\">\n<title>38&#45;&gt;40</title>\n<path fill=\"none\" stroke=\"#000000\" d=\"M1521.1896,-222.8796C1524.9929,-212.1034 1529.1007,-200.4647 1532.9467,-189.5677\"/>\n<polygon fill=\"#000000\" stroke=\"#000000\" points=\"1536.361,-190.4097 1536.3888,-179.8149 1529.7601,-188.08 1536.361,-190.4097\"/>\n</g>\n<!-- 43 -->\n<g id=\"node44\" class=\"node\">\n<title>43</title>\n<polygon fill=\"#e89152\" stroke=\"#000000\" points=\"1893,-306 1752,-306 1752,-223 1893,-223 1893,-306\"/>\n<text text-anchor=\"middle\" x=\"1822.5\" y=\"-290.8\" font-family=\"Times,serif\" font-size=\"14.00\" fill=\"#000000\">Parch &lt;= 4.5</text>\n<text text-anchor=\"middle\" x=\"1822.5\" y=\"-275.8\" font-family=\"Times,serif\" font-size=\"14.00\" fill=\"#000000\">entropy = 0.503</text>\n<text text-anchor=\"middle\" x=\"1822.5\" y=\"-260.8\" font-family=\"Times,serif\" font-size=\"14.00\" fill=\"#000000\">samples = 9</text>\n<text text-anchor=\"middle\" x=\"1822.5\" y=\"-245.8\" font-family=\"Times,serif\" font-size=\"14.00\" fill=\"#000000\">value = [8, 1]</text>\n<text text-anchor=\"middle\" x=\"1822.5\" y=\"-230.8\" font-family=\"Times,serif\" font-size=\"14.00\" fill=\"#000000\">class = survived_false</text>\n</g>\n<!-- 42&#45;&gt;43 -->\n<g id=\"edge43\" class=\"edge\">\n<title>42&#45;&gt;43</title>\n<path fill=\"none\" stroke=\"#000000\" d=\"M1822.5,-341.8796C1822.5,-333.6838 1822.5,-324.9891 1822.5,-316.5013\"/>\n<polygon fill=\"#000000\" stroke=\"#000000\" points=\"1826.0001,-316.298 1822.5,-306.2981 1819.0001,-316.2981 1826.0001,-316.298\"/>\n</g>\n<!-- 48 -->\n<g id=\"node49\" class=\"node\">\n<title>48</title>\n<polygon fill=\"#f6d5bd\" stroke=\"#000000\" points=\"2052,-298.5 1911,-298.5 1911,-230.5 2052,-230.5 2052,-298.5\"/>\n<text text-anchor=\"middle\" x=\"1981.5\" y=\"-283.3\" font-family=\"Times,serif\" font-size=\"14.00\" fill=\"#000000\">entropy = 0.971</text>\n<text text-anchor=\"middle\" x=\"1981.5\" y=\"-268.3\" font-family=\"Times,serif\" font-size=\"14.00\" fill=\"#000000\">samples = 5</text>\n<text text-anchor=\"middle\" x=\"1981.5\" y=\"-253.3\" font-family=\"Times,serif\" font-size=\"14.00\" fill=\"#000000\">value = [3, 2]</text>\n<text text-anchor=\"middle\" x=\"1981.5\" y=\"-238.3\" font-family=\"Times,serif\" font-size=\"14.00\" fill=\"#000000\">class = survived_false</text>\n</g>\n<!-- 42&#45;&gt;48 -->\n<g id=\"edge48\" class=\"edge\">\n<title>42&#45;&gt;48</title>\n<path fill=\"none\" stroke=\"#000000\" d=\"M1878.1105,-341.8796C1894.2013,-329.8368 1911.7315,-316.7167 1927.7091,-304.7586\"/>\n<polygon fill=\"#000000\" stroke=\"#000000\" points=\"1929.9982,-307.4171 1935.907,-298.623 1925.8038,-301.8129 1929.9982,-307.4171\"/>\n</g>\n<!-- 44 -->\n<g id=\"node45\" class=\"node\">\n<title>44</title>\n<polygon fill=\"#e58139\" stroke=\"#000000\" points=\"1853,-179.5 1712,-179.5 1712,-111.5 1853,-111.5 1853,-179.5\"/>\n<text text-anchor=\"middle\" x=\"1782.5\" y=\"-164.3\" font-family=\"Times,serif\" font-size=\"14.00\" fill=\"#000000\">entropy = 0.0</text>\n<text text-anchor=\"middle\" x=\"1782.5\" y=\"-149.3\" font-family=\"Times,serif\" font-size=\"14.00\" fill=\"#000000\">samples = 6</text>\n<text text-anchor=\"middle\" x=\"1782.5\" y=\"-134.3\" font-family=\"Times,serif\" font-size=\"14.00\" fill=\"#000000\">value = [6, 0]</text>\n<text text-anchor=\"middle\" x=\"1782.5\" y=\"-119.3\" font-family=\"Times,serif\" font-size=\"14.00\" fill=\"#000000\">class = survived_false</text>\n</g>\n<!-- 43&#45;&gt;44 -->\n<g id=\"edge44\" class=\"edge\">\n<title>43&#45;&gt;44</title>\n<path fill=\"none\" stroke=\"#000000\" d=\"M1808.5099,-222.8796C1804.8877,-212.1034 1800.9755,-200.4647 1797.3127,-189.5677\"/>\n<polygon fill=\"#000000\" stroke=\"#000000\" points=\"1800.5383,-188.1786 1794.0344,-179.8149 1793.9031,-190.409 1800.5383,-188.1786\"/>\n</g>\n<!-- 45 -->\n<g id=\"node46\" class=\"node\">\n<title>45</title>\n<polygon fill=\"#f2c09c\" stroke=\"#000000\" points=\"2012,-187 1871,-187 1871,-104 2012,-104 2012,-187\"/>\n<text text-anchor=\"middle\" x=\"1941.5\" y=\"-171.8\" font-family=\"Times,serif\" font-size=\"14.00\" fill=\"#000000\">Parch &lt;= 5.5</text>\n<text text-anchor=\"middle\" x=\"1941.5\" y=\"-156.8\" font-family=\"Times,serif\" font-size=\"14.00\" fill=\"#000000\">entropy = 0.918</text>\n<text text-anchor=\"middle\" x=\"1941.5\" y=\"-141.8\" font-family=\"Times,serif\" font-size=\"14.00\" fill=\"#000000\">samples = 3</text>\n<text text-anchor=\"middle\" x=\"1941.5\" y=\"-126.8\" font-family=\"Times,serif\" font-size=\"14.00\" fill=\"#000000\">value = [2, 1]</text>\n<text text-anchor=\"middle\" x=\"1941.5\" y=\"-111.8\" font-family=\"Times,serif\" font-size=\"14.00\" fill=\"#000000\">class = survived_false</text>\n</g>\n<!-- 43&#45;&gt;45 -->\n<g id=\"edge45\" class=\"edge\">\n<title>43&#45;&gt;45</title>\n<path fill=\"none\" stroke=\"#000000\" d=\"M1864.1204,-222.8796C1873.3069,-213.6931 1883.1202,-203.8798 1892.5664,-194.4336\"/>\n<polygon fill=\"#000000\" stroke=\"#000000\" points=\"1895.1057,-196.8441 1899.7019,-187.2981 1890.1559,-191.8943 1895.1057,-196.8441\"/>\n</g>\n<!-- 46 -->\n<g id=\"node47\" class=\"node\">\n<title>46</title>\n<polygon fill=\"#ffffff\" stroke=\"#000000\" points=\"1932,-68 1791,-68 1791,0 1932,0 1932,-68\"/>\n<text text-anchor=\"middle\" x=\"1861.5\" y=\"-52.8\" font-family=\"Times,serif\" font-size=\"14.00\" fill=\"#000000\">entropy = 1.0</text>\n<text text-anchor=\"middle\" x=\"1861.5\" y=\"-37.8\" font-family=\"Times,serif\" font-size=\"14.00\" fill=\"#000000\">samples = 2</text>\n<text text-anchor=\"middle\" x=\"1861.5\" y=\"-22.8\" font-family=\"Times,serif\" font-size=\"14.00\" fill=\"#000000\">value = [1, 1]</text>\n<text text-anchor=\"middle\" x=\"1861.5\" y=\"-7.8\" font-family=\"Times,serif\" font-size=\"14.00\" fill=\"#000000\">class = survived_false</text>\n</g>\n<!-- 45&#45;&gt;46 -->\n<g id=\"edge46\" class=\"edge\">\n<title>45&#45;&gt;46</title>\n<path fill=\"none\" stroke=\"#000000\" d=\"M1911.711,-103.9815C1905.2486,-94.9747 1898.4052,-85.4367 1891.919,-76.3965\"/>\n<polygon fill=\"#000000\" stroke=\"#000000\" points=\"1894.7572,-74.3483 1886.0838,-68.2637 1889.0697,-78.4291 1894.7572,-74.3483\"/>\n</g>\n<!-- 47 -->\n<g id=\"node48\" class=\"node\">\n<title>47</title>\n<polygon fill=\"#e58139\" stroke=\"#000000\" points=\"2091,-68 1950,-68 1950,0 2091,0 2091,-68\"/>\n<text text-anchor=\"middle\" x=\"2020.5\" y=\"-52.8\" font-family=\"Times,serif\" font-size=\"14.00\" fill=\"#000000\">entropy = 0.0</text>\n<text text-anchor=\"middle\" x=\"2020.5\" y=\"-37.8\" font-family=\"Times,serif\" font-size=\"14.00\" fill=\"#000000\">samples = 1</text>\n<text text-anchor=\"middle\" x=\"2020.5\" y=\"-22.8\" font-family=\"Times,serif\" font-size=\"14.00\" fill=\"#000000\">value = [1, 0]</text>\n<text text-anchor=\"middle\" x=\"2020.5\" y=\"-7.8\" font-family=\"Times,serif\" font-size=\"14.00\" fill=\"#000000\">class = survived_false</text>\n</g>\n<!-- 45&#45;&gt;47 -->\n<g id=\"edge47\" class=\"edge\">\n<title>45&#45;&gt;47</title>\n<path fill=\"none\" stroke=\"#000000\" d=\"M1970.9167,-103.9815C1977.2331,-95.0666 1983.9182,-85.6313 1990.2651,-76.6734\"/>\n<polygon fill=\"#000000\" stroke=\"#000000\" points=\"1993.2981,-78.4466 1996.2235,-68.2637 1987.5864,-74.3998 1993.2981,-78.4466\"/>\n</g>\n<!-- 51 -->\n<g id=\"node52\" class=\"node\">\n<title>51</title>\n<polygon fill=\"#f3c3a0\" stroke=\"#000000\" points=\"2450,-782 2309,-782 2309,-699 2450,-699 2450,-782\"/>\n<text text-anchor=\"middle\" x=\"2379.5\" y=\"-766.8\" font-family=\"Times,serif\" font-size=\"14.00\" fill=\"#000000\">SibSp &lt;= 0.5</text>\n<text text-anchor=\"middle\" x=\"2379.5\" y=\"-751.8\" font-family=\"Times,serif\" font-size=\"14.00\" fill=\"#000000\">entropy = 0.928</text>\n<text text-anchor=\"middle\" x=\"2379.5\" y=\"-736.8\" font-family=\"Times,serif\" font-size=\"14.00\" fill=\"#000000\">samples = 105</text>\n<text text-anchor=\"middle\" x=\"2379.5\" y=\"-721.8\" font-family=\"Times,serif\" font-size=\"14.00\" fill=\"#000000\">value = [69, 36]</text>\n<text text-anchor=\"middle\" x=\"2379.5\" y=\"-706.8\" font-family=\"Times,serif\" font-size=\"14.00\" fill=\"#000000\">class = survived_false</text>\n</g>\n<!-- 50&#45;&gt;51 -->\n<g id=\"edge51\" class=\"edge\">\n<title>50&#45;&gt;51</title>\n<path fill=\"none\" stroke=\"#000000\" d=\"M2379.5,-817.8796C2379.5,-809.6838 2379.5,-800.9891 2379.5,-792.5013\"/>\n<polygon fill=\"#000000\" stroke=\"#000000\" points=\"2383.0001,-792.298 2379.5,-782.2981 2376.0001,-792.2981 2383.0001,-792.298\"/>\n</g>\n<!-- 66 -->\n<g id=\"node67\" class=\"node\">\n<title>66</title>\n<polygon fill=\"#e9975b\" stroke=\"#000000\" points=\"3160,-782 3019,-782 3019,-699 3160,-699 3160,-782\"/>\n<text text-anchor=\"middle\" x=\"3089.5\" y=\"-766.8\" font-family=\"Times,serif\" font-size=\"14.00\" fill=\"#000000\">Parch &lt;= 0.5</text>\n<text text-anchor=\"middle\" x=\"3089.5\" y=\"-751.8\" font-family=\"Times,serif\" font-size=\"14.00\" fill=\"#000000\">entropy = 0.602</text>\n<text text-anchor=\"middle\" x=\"3089.5\" y=\"-736.8\" font-family=\"Times,serif\" font-size=\"14.00\" fill=\"#000000\">samples = 415</text>\n<text text-anchor=\"middle\" x=\"3089.5\" y=\"-721.8\" font-family=\"Times,serif\" font-size=\"14.00\" fill=\"#000000\">value = [354, 61]</text>\n<text text-anchor=\"middle\" x=\"3089.5\" y=\"-706.8\" font-family=\"Times,serif\" font-size=\"14.00\" fill=\"#000000\">class = survived_false</text>\n</g>\n<!-- 50&#45;&gt;66 -->\n<g id=\"edge66\" class=\"edge\">\n<title>50&#45;&gt;66</title>\n<path fill=\"none\" stroke=\"#000000\" d=\"M2450.1732,-847.6548C2582.8578,-825.4161 2868.4721,-777.5455 3008.6071,-754.0581\"/>\n<polygon fill=\"#000000\" stroke=\"#000000\" points=\"3009.5659,-757.4463 3018.8498,-752.3414 3008.4087,-750.5426 3009.5659,-757.4463\"/>\n</g>\n<!-- 52 -->\n<g id=\"node53\" class=\"node\">\n<title>52</title>\n<polygon fill=\"#f0b68c\" stroke=\"#000000\" points=\"2370,-663 2229,-663 2229,-580 2370,-580 2370,-663\"/>\n<text text-anchor=\"middle\" x=\"2299.5\" y=\"-647.8\" font-family=\"Times,serif\" font-size=\"14.00\" fill=\"#000000\">Parch &lt;= 1.5</text>\n<text text-anchor=\"middle\" x=\"2299.5\" y=\"-632.8\" font-family=\"Times,serif\" font-size=\"14.00\" fill=\"#000000\">entropy = 0.875</text>\n<text text-anchor=\"middle\" x=\"2299.5\" y=\"-617.8\" font-family=\"Times,serif\" font-size=\"14.00\" fill=\"#000000\">samples = 78</text>\n<text text-anchor=\"middle\" x=\"2299.5\" y=\"-602.8\" font-family=\"Times,serif\" font-size=\"14.00\" fill=\"#000000\">value = [55, 23]</text>\n<text text-anchor=\"middle\" x=\"2299.5\" y=\"-587.8\" font-family=\"Times,serif\" font-size=\"14.00\" fill=\"#000000\">class = survived_false</text>\n</g>\n<!-- 51&#45;&gt;52 -->\n<g id=\"edge52\" class=\"edge\">\n<title>51&#45;&gt;52</title>\n<path fill=\"none\" stroke=\"#000000\" d=\"M2351.5199,-698.8796C2345.6469,-690.1434 2339.3927,-680.8404 2333.3321,-671.8253\"/>\n<polygon fill=\"#000000\" stroke=\"#000000\" points=\"2336.0834,-669.6444 2327.5995,-663.2981 2330.2741,-673.5498 2336.0834,-669.6444\"/>\n</g>\n<!-- 57 -->\n<g id=\"node58\" class=\"node\">\n<title>57</title>\n<polygon fill=\"#fdf6f1\" stroke=\"#000000\" points=\"2529,-663 2388,-663 2388,-580 2529,-580 2529,-663\"/>\n<text text-anchor=\"middle\" x=\"2458.5\" y=\"-647.8\" font-family=\"Times,serif\" font-size=\"14.00\" fill=\"#000000\">Parch &lt;= 1.5</text>\n<text text-anchor=\"middle\" x=\"2458.5\" y=\"-632.8\" font-family=\"Times,serif\" font-size=\"14.00\" fill=\"#000000\">entropy = 0.999</text>\n<text text-anchor=\"middle\" x=\"2458.5\" y=\"-617.8\" font-family=\"Times,serif\" font-size=\"14.00\" fill=\"#000000\">samples = 27</text>\n<text text-anchor=\"middle\" x=\"2458.5\" y=\"-602.8\" font-family=\"Times,serif\" font-size=\"14.00\" fill=\"#000000\">value = [14, 13]</text>\n<text text-anchor=\"middle\" x=\"2458.5\" y=\"-587.8\" font-family=\"Times,serif\" font-size=\"14.00\" fill=\"#000000\">class = survived_false</text>\n</g>\n<!-- 51&#45;&gt;57 -->\n<g id=\"edge57\" class=\"edge\">\n<title>51&#45;&gt;57</title>\n<path fill=\"none\" stroke=\"#000000\" d=\"M2407.1304,-698.8796C2412.93,-690.1434 2419.1059,-680.8404 2425.0908,-671.8253\"/>\n<polygon fill=\"#000000\" stroke=\"#000000\" points=\"2428.1368,-673.5652 2430.7517,-663.2981 2422.3049,-669.6935 2428.1368,-673.5652\"/>\n</g>\n<!-- 53 -->\n<g id=\"node54\" class=\"node\">\n<title>53</title>\n<polygon fill=\"#efb387\" stroke=\"#000000\" points=\"2211,-544 2070,-544 2070,-461 2211,-461 2211,-544\"/>\n<text text-anchor=\"middle\" x=\"2140.5\" y=\"-528.8\" font-family=\"Times,serif\" font-size=\"14.00\" fill=\"#000000\">Parch &lt;= 0.5</text>\n<text text-anchor=\"middle\" x=\"2140.5\" y=\"-513.8\" font-family=\"Times,serif\" font-size=\"14.00\" fill=\"#000000\">entropy = 0.861</text>\n<text text-anchor=\"middle\" x=\"2140.5\" y=\"-498.8\" font-family=\"Times,serif\" font-size=\"14.00\" fill=\"#000000\">samples = 74</text>\n<text text-anchor=\"middle\" x=\"2140.5\" y=\"-483.8\" font-family=\"Times,serif\" font-size=\"14.00\" fill=\"#000000\">value = [53, 21]</text>\n<text text-anchor=\"middle\" x=\"2140.5\" y=\"-468.8\" font-family=\"Times,serif\" font-size=\"14.00\" fill=\"#000000\">class = survived_false</text>\n</g>\n<!-- 52&#45;&gt;53 -->\n<g id=\"edge53\" class=\"edge\">\n<title>52&#45;&gt;53</title>\n<path fill=\"none\" stroke=\"#000000\" d=\"M2243.8895,-579.8796C2231.0597,-570.2774 2217.3148,-559.9903 2204.1714,-550.1534\"/>\n<polygon fill=\"#000000\" stroke=\"#000000\" points=\"2206.1823,-547.2868 2196.0791,-544.0969 2201.9879,-552.891 2206.1823,-547.2868\"/>\n</g>\n<!-- 56 -->\n<g id=\"node57\" class=\"node\">\n<title>56</title>\n<polygon fill=\"#ffffff\" stroke=\"#000000\" points=\"2370,-536.5 2229,-536.5 2229,-468.5 2370,-468.5 2370,-536.5\"/>\n<text text-anchor=\"middle\" x=\"2299.5\" y=\"-521.3\" font-family=\"Times,serif\" font-size=\"14.00\" fill=\"#000000\">entropy = 1.0</text>\n<text text-anchor=\"middle\" x=\"2299.5\" y=\"-506.3\" font-family=\"Times,serif\" font-size=\"14.00\" fill=\"#000000\">samples = 4</text>\n<text text-anchor=\"middle\" x=\"2299.5\" y=\"-491.3\" font-family=\"Times,serif\" font-size=\"14.00\" fill=\"#000000\">value = [2, 2]</text>\n<text text-anchor=\"middle\" x=\"2299.5\" y=\"-476.3\" font-family=\"Times,serif\" font-size=\"14.00\" fill=\"#000000\">class = survived_false</text>\n</g>\n<!-- 52&#45;&gt;56 -->\n<g id=\"edge56\" class=\"edge\">\n<title>52&#45;&gt;56</title>\n<path fill=\"none\" stroke=\"#000000\" d=\"M2299.5,-579.8796C2299.5,-569.2134 2299.5,-557.7021 2299.5,-546.9015\"/>\n<polygon fill=\"#000000\" stroke=\"#000000\" points=\"2303.0001,-546.8149 2299.5,-536.8149 2296.0001,-546.815 2303.0001,-546.8149\"/>\n</g>\n<!-- 54 -->\n<g id=\"node55\" class=\"node\">\n<title>54</title>\n<polygon fill=\"#f0b88f\" stroke=\"#000000\" points=\"2052,-417.5 1911,-417.5 1911,-349.5 2052,-349.5 2052,-417.5\"/>\n<text text-anchor=\"middle\" x=\"1981.5\" y=\"-402.3\" font-family=\"Times,serif\" font-size=\"14.00\" fill=\"#000000\">entropy = 0.885</text>\n<text text-anchor=\"middle\" x=\"1981.5\" y=\"-387.3\" font-family=\"Times,serif\" font-size=\"14.00\" fill=\"#000000\">samples = 66</text>\n<text text-anchor=\"middle\" x=\"1981.5\" y=\"-372.3\" font-family=\"Times,serif\" font-size=\"14.00\" fill=\"#000000\">value = [46, 20]</text>\n<text text-anchor=\"middle\" x=\"1981.5\" y=\"-357.3\" font-family=\"Times,serif\" font-size=\"14.00\" fill=\"#000000\">class = survived_false</text>\n</g>\n<!-- 53&#45;&gt;54 -->\n<g id=\"edge54\" class=\"edge\">\n<title>53&#45;&gt;54</title>\n<path fill=\"none\" stroke=\"#000000\" d=\"M2084.8895,-460.8796C2068.7987,-448.8368 2051.2685,-435.7167 2035.2909,-423.7586\"/>\n<polygon fill=\"#000000\" stroke=\"#000000\" points=\"2037.1962,-420.8129 2027.093,-417.623 2033.0018,-426.4171 2037.1962,-420.8129\"/>\n</g>\n<!-- 55 -->\n<g id=\"node56\" class=\"node\">\n<title>55</title>\n<polygon fill=\"#e99355\" stroke=\"#000000\" points=\"2211,-417.5 2070,-417.5 2070,-349.5 2211,-349.5 2211,-417.5\"/>\n<text text-anchor=\"middle\" x=\"2140.5\" y=\"-402.3\" font-family=\"Times,serif\" font-size=\"14.00\" fill=\"#000000\">entropy = 0.544</text>\n<text text-anchor=\"middle\" x=\"2140.5\" y=\"-387.3\" font-family=\"Times,serif\" font-size=\"14.00\" fill=\"#000000\">samples = 8</text>\n<text text-anchor=\"middle\" x=\"2140.5\" y=\"-372.3\" font-family=\"Times,serif\" font-size=\"14.00\" fill=\"#000000\">value = [7, 1]</text>\n<text text-anchor=\"middle\" x=\"2140.5\" y=\"-357.3\" font-family=\"Times,serif\" font-size=\"14.00\" fill=\"#000000\">class = survived_false</text>\n</g>\n<!-- 53&#45;&gt;55 -->\n<g id=\"edge55\" class=\"edge\">\n<title>53&#45;&gt;55</title>\n<path fill=\"none\" stroke=\"#000000\" d=\"M2140.5,-460.8796C2140.5,-450.2134 2140.5,-438.7021 2140.5,-427.9015\"/>\n<polygon fill=\"#000000\" stroke=\"#000000\" points=\"2144.0001,-427.8149 2140.5,-417.8149 2137.0001,-427.815 2144.0001,-427.8149\"/>\n</g>\n<!-- 58 -->\n<g id=\"node59\" class=\"node\">\n<title>58</title>\n<polygon fill=\"#f9e2d1\" stroke=\"#000000\" points=\"2529,-544 2388,-544 2388,-461 2529,-461 2529,-544\"/>\n<text text-anchor=\"middle\" x=\"2458.5\" y=\"-528.8\" font-family=\"Times,serif\" font-size=\"14.00\" fill=\"#000000\">Parch &lt;= 0.5</text>\n<text text-anchor=\"middle\" x=\"2458.5\" y=\"-513.8\" font-family=\"Times,serif\" font-size=\"14.00\" fill=\"#000000\">entropy = 0.988</text>\n<text text-anchor=\"middle\" x=\"2458.5\" y=\"-498.8\" font-family=\"Times,serif\" font-size=\"14.00\" fill=\"#000000\">samples = 23</text>\n<text text-anchor=\"middle\" x=\"2458.5\" y=\"-483.8\" font-family=\"Times,serif\" font-size=\"14.00\" fill=\"#000000\">value = [13, 10]</text>\n<text text-anchor=\"middle\" x=\"2458.5\" y=\"-468.8\" font-family=\"Times,serif\" font-size=\"14.00\" fill=\"#000000\">class = survived_false</text>\n</g>\n<!-- 57&#45;&gt;58 -->\n<g id=\"edge58\" class=\"edge\">\n<title>57&#45;&gt;58</title>\n<path fill=\"none\" stroke=\"#000000\" d=\"M2458.5,-579.8796C2458.5,-571.6838 2458.5,-562.9891 2458.5,-554.5013\"/>\n<polygon fill=\"#000000\" stroke=\"#000000\" points=\"2462.0001,-554.298 2458.5,-544.2981 2455.0001,-554.2981 2462.0001,-554.298\"/>\n</g>\n<!-- 63 -->\n<g id=\"node64\" class=\"node\">\n<title>63</title>\n<polygon fill=\"#7bbeee\" stroke=\"#000000\" points=\"2684,-544 2547,-544 2547,-461 2684,-461 2684,-544\"/>\n<text text-anchor=\"middle\" x=\"2615.5\" y=\"-528.8\" font-family=\"Times,serif\" font-size=\"14.00\" fill=\"#000000\">Parch &lt;= 3.0</text>\n<text text-anchor=\"middle\" x=\"2615.5\" y=\"-513.8\" font-family=\"Times,serif\" font-size=\"14.00\" fill=\"#000000\">entropy = 0.811</text>\n<text text-anchor=\"middle\" x=\"2615.5\" y=\"-498.8\" font-family=\"Times,serif\" font-size=\"14.00\" fill=\"#000000\">samples = 4</text>\n<text text-anchor=\"middle\" x=\"2615.5\" y=\"-483.8\" font-family=\"Times,serif\" font-size=\"14.00\" fill=\"#000000\">value = [1, 3]</text>\n<text text-anchor=\"middle\" x=\"2615.5\" y=\"-468.8\" font-family=\"Times,serif\" font-size=\"14.00\" fill=\"#000000\">class = survived_true</text>\n</g>\n<!-- 57&#45;&gt;63 -->\n<g id=\"edge63\" class=\"edge\">\n<title>57&#45;&gt;63</title>\n<path fill=\"none\" stroke=\"#000000\" d=\"M2513.411,-579.8796C2526.0794,-570.2774 2539.6515,-559.9903 2552.6295,-550.1534\"/>\n<polygon fill=\"#000000\" stroke=\"#000000\" points=\"2554.7648,-552.9268 2560.62,-544.0969 2550.5364,-547.3482 2554.7648,-552.9268\"/>\n</g>\n<!-- 59 -->\n<g id=\"node60\" class=\"node\">\n<title>59</title>\n<polygon fill=\"#fae8db\" stroke=\"#000000\" points=\"2370,-425 2229,-425 2229,-342 2370,-342 2370,-425\"/>\n<text text-anchor=\"middle\" x=\"2299.5\" y=\"-409.8\" font-family=\"Times,serif\" font-size=\"14.00\" fill=\"#000000\">SibSp &lt;= 1.5</text>\n<text text-anchor=\"middle\" x=\"2299.5\" y=\"-394.8\" font-family=\"Times,serif\" font-size=\"14.00\" fill=\"#000000\">entropy = 0.993</text>\n<text text-anchor=\"middle\" x=\"2299.5\" y=\"-379.8\" font-family=\"Times,serif\" font-size=\"14.00\" fill=\"#000000\">samples = 20</text>\n<text text-anchor=\"middle\" x=\"2299.5\" y=\"-364.8\" font-family=\"Times,serif\" font-size=\"14.00\" fill=\"#000000\">value = [11, 9]</text>\n<text text-anchor=\"middle\" x=\"2299.5\" y=\"-349.8\" font-family=\"Times,serif\" font-size=\"14.00\" fill=\"#000000\">class = survived_false</text>\n</g>\n<!-- 58&#45;&gt;59 -->\n<g id=\"edge59\" class=\"edge\">\n<title>58&#45;&gt;59</title>\n<path fill=\"none\" stroke=\"#000000\" d=\"M2402.8895,-460.8796C2390.0597,-451.2774 2376.3148,-440.9903 2363.1714,-431.1534\"/>\n<polygon fill=\"#000000\" stroke=\"#000000\" points=\"2365.1823,-428.2868 2355.0791,-425.0969 2360.9879,-433.891 2365.1823,-428.2868\"/>\n</g>\n<!-- 62 -->\n<g id=\"node63\" class=\"node\">\n<title>62</title>\n<polygon fill=\"#f2c09c\" stroke=\"#000000\" points=\"2529,-417.5 2388,-417.5 2388,-349.5 2529,-349.5 2529,-417.5\"/>\n<text text-anchor=\"middle\" x=\"2458.5\" y=\"-402.3\" font-family=\"Times,serif\" font-size=\"14.00\" fill=\"#000000\">entropy = 0.918</text>\n<text text-anchor=\"middle\" x=\"2458.5\" y=\"-387.3\" font-family=\"Times,serif\" font-size=\"14.00\" fill=\"#000000\">samples = 3</text>\n<text text-anchor=\"middle\" x=\"2458.5\" y=\"-372.3\" font-family=\"Times,serif\" font-size=\"14.00\" fill=\"#000000\">value = [2, 1]</text>\n<text text-anchor=\"middle\" x=\"2458.5\" y=\"-357.3\" font-family=\"Times,serif\" font-size=\"14.00\" fill=\"#000000\">class = survived_false</text>\n</g>\n<!-- 58&#45;&gt;62 -->\n<g id=\"edge62\" class=\"edge\">\n<title>58&#45;&gt;62</title>\n<path fill=\"none\" stroke=\"#000000\" d=\"M2458.5,-460.8796C2458.5,-450.2134 2458.5,-438.7021 2458.5,-427.9015\"/>\n<polygon fill=\"#000000\" stroke=\"#000000\" points=\"2462.0001,-427.8149 2458.5,-417.8149 2455.0001,-427.815 2462.0001,-427.8149\"/>\n</g>\n<!-- 60 -->\n<g id=\"node61\" class=\"node\">\n<title>60</title>\n<polygon fill=\"#fae6d7\" stroke=\"#000000\" points=\"2290,-298.5 2149,-298.5 2149,-230.5 2290,-230.5 2290,-298.5\"/>\n<text text-anchor=\"middle\" x=\"2219.5\" y=\"-283.3\" font-family=\"Times,serif\" font-size=\"14.00\" fill=\"#000000\">entropy = 0.991</text>\n<text text-anchor=\"middle\" x=\"2219.5\" y=\"-268.3\" font-family=\"Times,serif\" font-size=\"14.00\" fill=\"#000000\">samples = 18</text>\n<text text-anchor=\"middle\" x=\"2219.5\" y=\"-253.3\" font-family=\"Times,serif\" font-size=\"14.00\" fill=\"#000000\">value = [10, 8]</text>\n<text text-anchor=\"middle\" x=\"2219.5\" y=\"-238.3\" font-family=\"Times,serif\" font-size=\"14.00\" fill=\"#000000\">class = survived_false</text>\n</g>\n<!-- 59&#45;&gt;60 -->\n<g id=\"edge60\" class=\"edge\">\n<title>59&#45;&gt;60</title>\n<path fill=\"none\" stroke=\"#000000\" d=\"M2271.5199,-341.8796C2263.9797,-330.6636 2255.8113,-318.5131 2248.2309,-307.2372\"/>\n<polygon fill=\"#000000\" stroke=\"#000000\" points=\"2251.0527,-305.1612 2242.5689,-298.8149 2245.2434,-309.0667 2251.0527,-305.1612\"/>\n</g>\n<!-- 61 -->\n<g id=\"node62\" class=\"node\">\n<title>61</title>\n<polygon fill=\"#ffffff\" stroke=\"#000000\" points=\"2449,-298.5 2308,-298.5 2308,-230.5 2449,-230.5 2449,-298.5\"/>\n<text text-anchor=\"middle\" x=\"2378.5\" y=\"-283.3\" font-family=\"Times,serif\" font-size=\"14.00\" fill=\"#000000\">entropy = 1.0</text>\n<text text-anchor=\"middle\" x=\"2378.5\" y=\"-268.3\" font-family=\"Times,serif\" font-size=\"14.00\" fill=\"#000000\">samples = 2</text>\n<text text-anchor=\"middle\" x=\"2378.5\" y=\"-253.3\" font-family=\"Times,serif\" font-size=\"14.00\" fill=\"#000000\">value = [1, 1]</text>\n<text text-anchor=\"middle\" x=\"2378.5\" y=\"-238.3\" font-family=\"Times,serif\" font-size=\"14.00\" fill=\"#000000\">class = survived_false</text>\n</g>\n<!-- 59&#45;&gt;61 -->\n<g id=\"edge61\" class=\"edge\">\n<title>59&#45;&gt;61</title>\n<path fill=\"none\" stroke=\"#000000\" d=\"M2327.1304,-341.8796C2334.5763,-330.6636 2342.6425,-318.5131 2350.1282,-307.2372\"/>\n<polygon fill=\"#000000\" stroke=\"#000000\" points=\"2353.1046,-309.082 2355.7195,-298.8149 2347.2727,-305.2104 2353.1046,-309.082\"/>\n</g>\n<!-- 64 -->\n<g id=\"node65\" class=\"node\">\n<title>64</title>\n<polygon fill=\"#399de5\" stroke=\"#000000\" points=\"2684,-417.5 2547,-417.5 2547,-349.5 2684,-349.5 2684,-417.5\"/>\n<text text-anchor=\"middle\" x=\"2615.5\" y=\"-402.3\" font-family=\"Times,serif\" font-size=\"14.00\" fill=\"#000000\">entropy = 0.0</text>\n<text text-anchor=\"middle\" x=\"2615.5\" y=\"-387.3\" font-family=\"Times,serif\" font-size=\"14.00\" fill=\"#000000\">samples = 3</text>\n<text text-anchor=\"middle\" x=\"2615.5\" y=\"-372.3\" font-family=\"Times,serif\" font-size=\"14.00\" fill=\"#000000\">value = [0, 3]</text>\n<text text-anchor=\"middle\" x=\"2615.5\" y=\"-357.3\" font-family=\"Times,serif\" font-size=\"14.00\" fill=\"#000000\">class = survived_true</text>\n</g>\n<!-- 63&#45;&gt;64 -->\n<g id=\"edge64\" class=\"edge\">\n<title>63&#45;&gt;64</title>\n<path fill=\"none\" stroke=\"#000000\" d=\"M2615.5,-460.8796C2615.5,-450.2134 2615.5,-438.7021 2615.5,-427.9015\"/>\n<polygon fill=\"#000000\" stroke=\"#000000\" points=\"2619.0001,-427.8149 2615.5,-417.8149 2612.0001,-427.815 2619.0001,-427.8149\"/>\n</g>\n<!-- 65 -->\n<g id=\"node66\" class=\"node\">\n<title>65</title>\n<polygon fill=\"#e58139\" stroke=\"#000000\" points=\"2843,-417.5 2702,-417.5 2702,-349.5 2843,-349.5 2843,-417.5\"/>\n<text text-anchor=\"middle\" x=\"2772.5\" y=\"-402.3\" font-family=\"Times,serif\" font-size=\"14.00\" fill=\"#000000\">entropy = 0.0</text>\n<text text-anchor=\"middle\" x=\"2772.5\" y=\"-387.3\" font-family=\"Times,serif\" font-size=\"14.00\" fill=\"#000000\">samples = 1</text>\n<text text-anchor=\"middle\" x=\"2772.5\" y=\"-372.3\" font-family=\"Times,serif\" font-size=\"14.00\" fill=\"#000000\">value = [1, 0]</text>\n<text text-anchor=\"middle\" x=\"2772.5\" y=\"-357.3\" font-family=\"Times,serif\" font-size=\"14.00\" fill=\"#000000\">class = survived_false</text>\n</g>\n<!-- 63&#45;&gt;65 -->\n<g id=\"edge65\" class=\"edge\">\n<title>63&#45;&gt;65</title>\n<path fill=\"none\" stroke=\"#000000\" d=\"M2670.411,-460.8796C2686.2994,-448.8368 2703.6091,-435.7167 2719.3857,-423.7586\"/>\n<polygon fill=\"#000000\" stroke=\"#000000\" points=\"2721.6253,-426.4529 2727.4805,-417.623 2717.3969,-420.8743 2721.6253,-426.4529\"/>\n</g>\n<!-- 67 -->\n<g id=\"node68\" class=\"node\">\n<title>67</title>\n<polygon fill=\"#e99355\" stroke=\"#000000\" points=\"3160,-663 3019,-663 3019,-580 3160,-580 3160,-663\"/>\n<text text-anchor=\"middle\" x=\"3089.5\" y=\"-647.8\" font-family=\"Times,serif\" font-size=\"14.00\" fill=\"#000000\">SibSp &lt;= 1.5</text>\n<text text-anchor=\"middle\" x=\"3089.5\" y=\"-632.8\" font-family=\"Times,serif\" font-size=\"14.00\" fill=\"#000000\">entropy = 0.536</text>\n<text text-anchor=\"middle\" x=\"3089.5\" y=\"-617.8\" font-family=\"Times,serif\" font-size=\"14.00\" fill=\"#000000\">samples = 352</text>\n<text text-anchor=\"middle\" x=\"3089.5\" y=\"-602.8\" font-family=\"Times,serif\" font-size=\"14.00\" fill=\"#000000\">value = [309, 43]</text>\n<text text-anchor=\"middle\" x=\"3089.5\" y=\"-587.8\" font-family=\"Times,serif\" font-size=\"14.00\" fill=\"#000000\">class = survived_false</text>\n</g>\n<!-- 66&#45;&gt;67 -->\n<g id=\"edge67\" class=\"edge\">\n<title>66&#45;&gt;67</title>\n<path fill=\"none\" stroke=\"#000000\" d=\"M3089.5,-698.8796C3089.5,-690.6838 3089.5,-681.9891 3089.5,-673.5013\"/>\n<polygon fill=\"#000000\" stroke=\"#000000\" points=\"3093.0001,-673.298 3089.5,-663.2981 3086.0001,-673.2981 3093.0001,-673.298\"/>\n</g>\n<!-- 76 -->\n<g id=\"node77\" class=\"node\">\n<title>76</title>\n<polygon fill=\"#efb388\" stroke=\"#000000\" points=\"3626,-663 3485,-663 3485,-580 3626,-580 3626,-663\"/>\n<text text-anchor=\"middle\" x=\"3555.5\" y=\"-647.8\" font-family=\"Times,serif\" font-size=\"14.00\" fill=\"#000000\">SibSp &lt;= 2.5</text>\n<text text-anchor=\"middle\" x=\"3555.5\" y=\"-632.8\" font-family=\"Times,serif\" font-size=\"14.00\" fill=\"#000000\">entropy = 0.863</text>\n<text text-anchor=\"middle\" x=\"3555.5\" y=\"-617.8\" font-family=\"Times,serif\" font-size=\"14.00\" fill=\"#000000\">samples = 63</text>\n<text text-anchor=\"middle\" x=\"3555.5\" y=\"-602.8\" font-family=\"Times,serif\" font-size=\"14.00\" fill=\"#000000\">value = [45, 18]</text>\n<text text-anchor=\"middle\" x=\"3555.5\" y=\"-587.8\" font-family=\"Times,serif\" font-size=\"14.00\" fill=\"#000000\">class = survived_false</text>\n</g>\n<!-- 66&#45;&gt;76 -->\n<g id=\"edge76\" class=\"edge\">\n<title>66&#45;&gt;76</title>\n<path fill=\"none\" stroke=\"#000000\" d=\"M3160.0222,-722.4911C3244.6314,-700.8849 3386.159,-664.7437 3474.98,-642.062\"/>\n<polygon fill=\"#000000\" stroke=\"#000000\" points=\"3475.9179,-645.4349 3484.741,-639.5694 3474.1859,-638.6525 3475.9179,-645.4349\"/>\n</g>\n<!-- 68 -->\n<g id=\"node69\" class=\"node\">\n<title>68</title>\n<polygon fill=\"#e99355\" stroke=\"#000000\" points=\"3081,-544 2940,-544 2940,-461 3081,-461 3081,-544\"/>\n<text text-anchor=\"middle\" x=\"3010.5\" y=\"-528.8\" font-family=\"Times,serif\" font-size=\"14.00\" fill=\"#000000\">Pclass &lt;= 2.5</text>\n<text text-anchor=\"middle\" x=\"3010.5\" y=\"-513.8\" font-family=\"Times,serif\" font-size=\"14.00\" fill=\"#000000\">entropy = 0.545</text>\n<text text-anchor=\"middle\" x=\"3010.5\" y=\"-498.8\" font-family=\"Times,serif\" font-size=\"14.00\" fill=\"#000000\">samples = 343</text>\n<text text-anchor=\"middle\" x=\"3010.5\" y=\"-483.8\" font-family=\"Times,serif\" font-size=\"14.00\" fill=\"#000000\">value = [300, 43]</text>\n<text text-anchor=\"middle\" x=\"3010.5\" y=\"-468.8\" font-family=\"Times,serif\" font-size=\"14.00\" fill=\"#000000\">class = survived_false</text>\n</g>\n<!-- 67&#45;&gt;68 -->\n<g id=\"edge68\" class=\"edge\">\n<title>67&#45;&gt;68</title>\n<path fill=\"none\" stroke=\"#000000\" d=\"M3061.8696,-579.8796C3056.07,-571.1434 3049.8941,-561.8404 3043.9092,-552.8253\"/>\n<polygon fill=\"#000000\" stroke=\"#000000\" points=\"3046.6951,-550.6935 3038.2483,-544.2981 3040.8632,-554.5652 3046.6951,-550.6935\"/>\n</g>\n<!-- 75 -->\n<g id=\"node76\" class=\"node\">\n<title>75</title>\n<polygon fill=\"#e58139\" stroke=\"#000000\" points=\"3240,-536.5 3099,-536.5 3099,-468.5 3240,-468.5 3240,-536.5\"/>\n<text text-anchor=\"middle\" x=\"3169.5\" y=\"-521.3\" font-family=\"Times,serif\" font-size=\"14.00\" fill=\"#000000\">entropy = 0.0</text>\n<text text-anchor=\"middle\" x=\"3169.5\" y=\"-506.3\" font-family=\"Times,serif\" font-size=\"14.00\" fill=\"#000000\">samples = 9</text>\n<text text-anchor=\"middle\" x=\"3169.5\" y=\"-491.3\" font-family=\"Times,serif\" font-size=\"14.00\" fill=\"#000000\">value = [9, 0]</text>\n<text text-anchor=\"middle\" x=\"3169.5\" y=\"-476.3\" font-family=\"Times,serif\" font-size=\"14.00\" fill=\"#000000\">class = survived_false</text>\n</g>\n<!-- 67&#45;&gt;75 -->\n<g id=\"edge75\" class=\"edge\">\n<title>67&#45;&gt;75</title>\n<path fill=\"none\" stroke=\"#000000\" d=\"M3117.4801,-579.8796C3125.0203,-568.6636 3133.1887,-556.5131 3140.7691,-545.2372\"/>\n<polygon fill=\"#000000\" stroke=\"#000000\" points=\"3143.7566,-547.0667 3146.4311,-536.8149 3137.9473,-543.1612 3143.7566,-547.0667\"/>\n</g>\n<!-- 69 -->\n<g id=\"node70\" class=\"node\">\n<title>69</title>\n<polygon fill=\"#e88f4f\" stroke=\"#000000\" points=\"3002,-425 2861,-425 2861,-342 3002,-342 3002,-425\"/>\n<text text-anchor=\"middle\" x=\"2931.5\" y=\"-409.8\" font-family=\"Times,serif\" font-size=\"14.00\" fill=\"#000000\">SibSp &lt;= 0.5</text>\n<text text-anchor=\"middle\" x=\"2931.5\" y=\"-394.8\" font-family=\"Times,serif\" font-size=\"14.00\" fill=\"#000000\">entropy = 0.473</text>\n<text text-anchor=\"middle\" x=\"2931.5\" y=\"-379.8\" font-family=\"Times,serif\" font-size=\"14.00\" fill=\"#000000\">samples = 79</text>\n<text text-anchor=\"middle\" x=\"2931.5\" y=\"-364.8\" font-family=\"Times,serif\" font-size=\"14.00\" fill=\"#000000\">value = [71, 8]</text>\n<text text-anchor=\"middle\" x=\"2931.5\" y=\"-349.8\" font-family=\"Times,serif\" font-size=\"14.00\" fill=\"#000000\">class = survived_false</text>\n</g>\n<!-- 68&#45;&gt;69 -->\n<g id=\"edge69\" class=\"edge\">\n<title>68&#45;&gt;69</title>\n<path fill=\"none\" stroke=\"#000000\" d=\"M2982.8696,-460.8796C2977.07,-452.1434 2970.8941,-442.8404 2964.9092,-433.8253\"/>\n<polygon fill=\"#000000\" stroke=\"#000000\" points=\"2967.6951,-431.6935 2959.2483,-425.2981 2961.8632,-435.5652 2967.6951,-431.6935\"/>\n</g>\n<!-- 72 -->\n<g id=\"node73\" class=\"node\">\n<title>72</title>\n<polygon fill=\"#e99457\" stroke=\"#000000\" points=\"3161,-425 3020,-425 3020,-342 3161,-342 3161,-425\"/>\n<text text-anchor=\"middle\" x=\"3090.5\" y=\"-409.8\" font-family=\"Times,serif\" font-size=\"14.00\" fill=\"#000000\">SibSp &lt;= 0.5</text>\n<text text-anchor=\"middle\" x=\"3090.5\" y=\"-394.8\" font-family=\"Times,serif\" font-size=\"14.00\" fill=\"#000000\">entropy = 0.564</text>\n<text text-anchor=\"middle\" x=\"3090.5\" y=\"-379.8\" font-family=\"Times,serif\" font-size=\"14.00\" fill=\"#000000\">samples = 264</text>\n<text text-anchor=\"middle\" x=\"3090.5\" y=\"-364.8\" font-family=\"Times,serif\" font-size=\"14.00\" fill=\"#000000\">value = [229, 35]</text>\n<text text-anchor=\"middle\" x=\"3090.5\" y=\"-349.8\" font-family=\"Times,serif\" font-size=\"14.00\" fill=\"#000000\">class = survived_false</text>\n</g>\n<!-- 68&#45;&gt;72 -->\n<g id=\"edge72\" class=\"edge\">\n<title>68&#45;&gt;72</title>\n<path fill=\"none\" stroke=\"#000000\" d=\"M3038.4801,-460.8796C3044.3531,-452.1434 3050.6073,-442.8404 3056.6679,-433.8253\"/>\n<polygon fill=\"#000000\" stroke=\"#000000\" points=\"3059.7259,-435.5498 3062.4005,-425.2981 3053.9166,-431.6444 3059.7259,-435.5498\"/>\n</g>\n<!-- 70 -->\n<g id=\"node71\" class=\"node\">\n<title>70</title>\n<polygon fill=\"#e89051\" stroke=\"#000000\" points=\"2843,-298.5 2702,-298.5 2702,-230.5 2843,-230.5 2843,-298.5\"/>\n<text text-anchor=\"middle\" x=\"2772.5\" y=\"-283.3\" font-family=\"Times,serif\" font-size=\"14.00\" fill=\"#000000\">entropy = 0.493</text>\n<text text-anchor=\"middle\" x=\"2772.5\" y=\"-268.3\" font-family=\"Times,serif\" font-size=\"14.00\" fill=\"#000000\">samples = 65</text>\n<text text-anchor=\"middle\" x=\"2772.5\" y=\"-253.3\" font-family=\"Times,serif\" font-size=\"14.00\" fill=\"#000000\">value = [58, 7]</text>\n<text text-anchor=\"middle\" x=\"2772.5\" y=\"-238.3\" font-family=\"Times,serif\" font-size=\"14.00\" fill=\"#000000\">class = survived_false</text>\n</g>\n<!-- 69&#45;&gt;70 -->\n<g id=\"edge70\" class=\"edge\">\n<title>69&#45;&gt;70</title>\n<path fill=\"none\" stroke=\"#000000\" d=\"M2875.8895,-341.8796C2859.7987,-329.8368 2842.2685,-316.7167 2826.2909,-304.7586\"/>\n<polygon fill=\"#000000\" stroke=\"#000000\" points=\"2828.1962,-301.8129 2818.093,-298.623 2824.0018,-307.4171 2828.1962,-301.8129\"/>\n</g>\n<!-- 71 -->\n<g id=\"node72\" class=\"node\">\n<title>71</title>\n<polygon fill=\"#e78b48\" stroke=\"#000000\" points=\"3002,-298.5 2861,-298.5 2861,-230.5 3002,-230.5 3002,-298.5\"/>\n<text text-anchor=\"middle\" x=\"2931.5\" y=\"-283.3\" font-family=\"Times,serif\" font-size=\"14.00\" fill=\"#000000\">entropy = 0.371</text>\n<text text-anchor=\"middle\" x=\"2931.5\" y=\"-268.3\" font-family=\"Times,serif\" font-size=\"14.00\" fill=\"#000000\">samples = 14</text>\n<text text-anchor=\"middle\" x=\"2931.5\" y=\"-253.3\" font-family=\"Times,serif\" font-size=\"14.00\" fill=\"#000000\">value = [13, 1]</text>\n<text text-anchor=\"middle\" x=\"2931.5\" y=\"-238.3\" font-family=\"Times,serif\" font-size=\"14.00\" fill=\"#000000\">class = survived_false</text>\n</g>\n<!-- 69&#45;&gt;71 -->\n<g id=\"edge71\" class=\"edge\">\n<title>69&#45;&gt;71</title>\n<path fill=\"none\" stroke=\"#000000\" d=\"M2931.5,-341.8796C2931.5,-331.2134 2931.5,-319.7021 2931.5,-308.9015\"/>\n<polygon fill=\"#000000\" stroke=\"#000000\" points=\"2935.0001,-308.8149 2931.5,-298.8149 2928.0001,-308.815 2935.0001,-308.8149\"/>\n</g>\n<!-- 73 -->\n<g id=\"node74\" class=\"node\">\n<title>73</title>\n<polygon fill=\"#e99457\" stroke=\"#000000\" points=\"3161,-298.5 3020,-298.5 3020,-230.5 3161,-230.5 3161,-298.5\"/>\n<text text-anchor=\"middle\" x=\"3090.5\" y=\"-283.3\" font-family=\"Times,serif\" font-size=\"14.00\" fill=\"#000000\">entropy = 0.562</text>\n<text text-anchor=\"middle\" x=\"3090.5\" y=\"-268.3\" font-family=\"Times,serif\" font-size=\"14.00\" fill=\"#000000\">samples = 243</text>\n<text text-anchor=\"middle\" x=\"3090.5\" y=\"-253.3\" font-family=\"Times,serif\" font-size=\"14.00\" fill=\"#000000\">value = [211, 32]</text>\n<text text-anchor=\"middle\" x=\"3090.5\" y=\"-238.3\" font-family=\"Times,serif\" font-size=\"14.00\" fill=\"#000000\">class = survived_false</text>\n</g>\n<!-- 72&#45;&gt;73 -->\n<g id=\"edge73\" class=\"edge\">\n<title>72&#45;&gt;73</title>\n<path fill=\"none\" stroke=\"#000000\" d=\"M3090.5,-341.8796C3090.5,-331.2134 3090.5,-319.7021 3090.5,-308.9015\"/>\n<polygon fill=\"#000000\" stroke=\"#000000\" points=\"3094.0001,-308.8149 3090.5,-298.8149 3087.0001,-308.815 3094.0001,-308.8149\"/>\n</g>\n<!-- 74 -->\n<g id=\"node75\" class=\"node\">\n<title>74</title>\n<polygon fill=\"#e9965a\" stroke=\"#000000\" points=\"3320,-298.5 3179,-298.5 3179,-230.5 3320,-230.5 3320,-298.5\"/>\n<text text-anchor=\"middle\" x=\"3249.5\" y=\"-283.3\" font-family=\"Times,serif\" font-size=\"14.00\" fill=\"#000000\">entropy = 0.592</text>\n<text text-anchor=\"middle\" x=\"3249.5\" y=\"-268.3\" font-family=\"Times,serif\" font-size=\"14.00\" fill=\"#000000\">samples = 21</text>\n<text text-anchor=\"middle\" x=\"3249.5\" y=\"-253.3\" font-family=\"Times,serif\" font-size=\"14.00\" fill=\"#000000\">value = [18, 3]</text>\n<text text-anchor=\"middle\" x=\"3249.5\" y=\"-238.3\" font-family=\"Times,serif\" font-size=\"14.00\" fill=\"#000000\">class = survived_false</text>\n</g>\n<!-- 72&#45;&gt;74 -->\n<g id=\"edge74\" class=\"edge\">\n<title>72&#45;&gt;74</title>\n<path fill=\"none\" stroke=\"#000000\" d=\"M3146.1105,-341.8796C3162.2013,-329.8368 3179.7315,-316.7167 3195.7091,-304.7586\"/>\n<polygon fill=\"#000000\" stroke=\"#000000\" points=\"3197.9982,-307.4171 3203.907,-298.623 3193.8038,-301.8129 3197.9982,-307.4171\"/>\n</g>\n<!-- 77 -->\n<g id=\"node78\" class=\"node\">\n<title>77</title>\n<polygon fill=\"#f7d7c0\" stroke=\"#000000\" points=\"3626,-544 3485,-544 3485,-461 3626,-461 3626,-544\"/>\n<text text-anchor=\"middle\" x=\"3555.5\" y=\"-528.8\" font-family=\"Times,serif\" font-size=\"14.00\" fill=\"#000000\">Parch &lt;= 2.5</text>\n<text text-anchor=\"middle\" x=\"3555.5\" y=\"-513.8\" font-family=\"Times,serif\" font-size=\"14.00\" fill=\"#000000\">entropy = 0.974</text>\n<text text-anchor=\"middle\" x=\"3555.5\" y=\"-498.8\" font-family=\"Times,serif\" font-size=\"14.00\" fill=\"#000000\">samples = 42</text>\n<text text-anchor=\"middle\" x=\"3555.5\" y=\"-483.8\" font-family=\"Times,serif\" font-size=\"14.00\" fill=\"#000000\">value = [25, 17]</text>\n<text text-anchor=\"middle\" x=\"3555.5\" y=\"-468.8\" font-family=\"Times,serif\" font-size=\"14.00\" fill=\"#000000\">class = survived_false</text>\n</g>\n<!-- 76&#45;&gt;77 -->\n<g id=\"edge77\" class=\"edge\">\n<title>76&#45;&gt;77</title>\n<path fill=\"none\" stroke=\"#000000\" d=\"M3555.5,-579.8796C3555.5,-571.6838 3555.5,-562.9891 3555.5,-554.5013\"/>\n<polygon fill=\"#000000\" stroke=\"#000000\" points=\"3559.0001,-554.298 3555.5,-544.2981 3552.0001,-554.2981 3559.0001,-554.298\"/>\n</g>\n<!-- 94 -->\n<g id=\"node95\" class=\"node\">\n<title>94</title>\n<polygon fill=\"#e68743\" stroke=\"#000000\" points=\"3864,-544 3723,-544 3723,-461 3864,-461 3864,-544\"/>\n<text text-anchor=\"middle\" x=\"3793.5\" y=\"-528.8\" font-family=\"Times,serif\" font-size=\"14.00\" fill=\"#000000\">Parch &lt;= 1.5</text>\n<text text-anchor=\"middle\" x=\"3793.5\" y=\"-513.8\" font-family=\"Times,serif\" font-size=\"14.00\" fill=\"#000000\">entropy = 0.276</text>\n<text text-anchor=\"middle\" x=\"3793.5\" y=\"-498.8\" font-family=\"Times,serif\" font-size=\"14.00\" fill=\"#000000\">samples = 21</text>\n<text text-anchor=\"middle\" x=\"3793.5\" y=\"-483.8\" font-family=\"Times,serif\" font-size=\"14.00\" fill=\"#000000\">value = [20, 1]</text>\n<text text-anchor=\"middle\" x=\"3793.5\" y=\"-468.8\" font-family=\"Times,serif\" font-size=\"14.00\" fill=\"#000000\">class = survived_false</text>\n</g>\n<!-- 76&#45;&gt;94 -->\n<g id=\"edge94\" class=\"edge\">\n<title>76&#45;&gt;94</title>\n<path fill=\"none\" stroke=\"#000000\" d=\"M3626.2635,-586.1183C3653.712,-572.394 3685.2821,-556.6089 3713.5469,-542.4766\"/>\n<polygon fill=\"#000000\" stroke=\"#000000\" points=\"3715.2192,-545.5536 3722.5982,-537.9509 3712.0887,-539.2926 3715.2192,-545.5536\"/>\n</g>\n<!-- 78 -->\n<g id=\"node79\" class=\"node\">\n<title>78</title>\n<polygon fill=\"#f9e2d2\" stroke=\"#000000\" points=\"3507,-425 3366,-425 3366,-342 3507,-342 3507,-425\"/>\n<text text-anchor=\"middle\" x=\"3436.5\" y=\"-409.8\" font-family=\"Times,serif\" font-size=\"14.00\" fill=\"#000000\">Pclass &lt;= 2.5</text>\n<text text-anchor=\"middle\" x=\"3436.5\" y=\"-394.8\" font-family=\"Times,serif\" font-size=\"14.00\" fill=\"#000000\">entropy = 0.988</text>\n<text text-anchor=\"middle\" x=\"3436.5\" y=\"-379.8\" font-family=\"Times,serif\" font-size=\"14.00\" fill=\"#000000\">samples = 39</text>\n<text text-anchor=\"middle\" x=\"3436.5\" y=\"-364.8\" font-family=\"Times,serif\" font-size=\"14.00\" fill=\"#000000\">value = [22, 17]</text>\n<text text-anchor=\"middle\" x=\"3436.5\" y=\"-349.8\" font-family=\"Times,serif\" font-size=\"14.00\" fill=\"#000000\">class = survived_false</text>\n</g>\n<!-- 77&#45;&gt;78 -->\n<g id=\"edge78\" class=\"edge\">\n<title>77&#45;&gt;78</title>\n<path fill=\"none\" stroke=\"#000000\" d=\"M3513.8796,-460.8796C3504.6931,-451.6931 3494.8798,-441.8798 3485.4336,-432.4336\"/>\n<polygon fill=\"#000000\" stroke=\"#000000\" points=\"3487.8441,-429.8943 3478.2981,-425.2981 3482.8943,-434.8441 3487.8441,-429.8943\"/>\n</g>\n<!-- 93 -->\n<g id=\"node94\" class=\"node\">\n<title>93</title>\n<polygon fill=\"#e58139\" stroke=\"#000000\" points=\"3666,-417.5 3525,-417.5 3525,-349.5 3666,-349.5 3666,-417.5\"/>\n<text text-anchor=\"middle\" x=\"3595.5\" y=\"-402.3\" font-family=\"Times,serif\" font-size=\"14.00\" fill=\"#000000\">entropy = 0.0</text>\n<text text-anchor=\"middle\" x=\"3595.5\" y=\"-387.3\" font-family=\"Times,serif\" font-size=\"14.00\" fill=\"#000000\">samples = 3</text>\n<text text-anchor=\"middle\" x=\"3595.5\" y=\"-372.3\" font-family=\"Times,serif\" font-size=\"14.00\" fill=\"#000000\">value = [3, 0]</text>\n<text text-anchor=\"middle\" x=\"3595.5\" y=\"-357.3\" font-family=\"Times,serif\" font-size=\"14.00\" fill=\"#000000\">class = survived_false</text>\n</g>\n<!-- 77&#45;&gt;93 -->\n<g id=\"edge93\" class=\"edge\">\n<title>77&#45;&gt;93</title>\n<path fill=\"none\" stroke=\"#000000\" d=\"M3569.4901,-460.8796C3573.1123,-450.1034 3577.0245,-438.4647 3580.6873,-427.5677\"/>\n<polygon fill=\"#000000\" stroke=\"#000000\" points=\"3584.0969,-428.409 3583.9656,-417.8149 3577.4617,-426.1786 3584.0969,-428.409\"/>\n</g>\n<!-- 79 -->\n<g id=\"node80\" class=\"node\">\n<title>79</title>\n<polygon fill=\"#e9f4fc\" stroke=\"#000000\" points=\"3475,-306 3338,-306 3338,-223 3475,-223 3475,-306\"/>\n<text text-anchor=\"middle\" x=\"3406.5\" y=\"-290.8\" font-family=\"Times,serif\" font-size=\"14.00\" fill=\"#000000\">Parch &lt;= 1.5</text>\n<text text-anchor=\"middle\" x=\"3406.5\" y=\"-275.8\" font-family=\"Times,serif\" font-size=\"14.00\" fill=\"#000000\">entropy = 0.998</text>\n<text text-anchor=\"middle\" x=\"3406.5\" y=\"-260.8\" font-family=\"Times,serif\" font-size=\"14.00\" fill=\"#000000\">samples = 17</text>\n<text text-anchor=\"middle\" x=\"3406.5\" y=\"-245.8\" font-family=\"Times,serif\" font-size=\"14.00\" fill=\"#000000\">value = [8, 9]</text>\n<text text-anchor=\"middle\" x=\"3406.5\" y=\"-230.8\" font-family=\"Times,serif\" font-size=\"14.00\" fill=\"#000000\">class = survived_true</text>\n</g>\n<!-- 78&#45;&gt;79 -->\n<g id=\"edge79\" class=\"edge\">\n<title>78&#45;&gt;79</title>\n<path fill=\"none\" stroke=\"#000000\" d=\"M3426.0075,-341.8796C3423.9186,-333.5938 3421.7012,-324.798 3419.5391,-316.2216\"/>\n<polygon fill=\"#000000\" stroke=\"#000000\" points=\"3422.8757,-315.1391 3417.0373,-306.2981 3416.0881,-316.8503 3422.8757,-315.1391\"/>\n</g>\n<!-- 86 -->\n<g id=\"node87\" class=\"node\">\n<title>86</title>\n<polygon fill=\"#f4c9aa\" stroke=\"#000000\" points=\"3635,-306 3494,-306 3494,-223 3635,-223 3635,-306\"/>\n<text text-anchor=\"middle\" x=\"3564.5\" y=\"-290.8\" font-family=\"Times,serif\" font-size=\"14.00\" fill=\"#000000\">Parch &lt;= 1.5</text>\n<text text-anchor=\"middle\" x=\"3564.5\" y=\"-275.8\" font-family=\"Times,serif\" font-size=\"14.00\" fill=\"#000000\">entropy = 0.946</text>\n<text text-anchor=\"middle\" x=\"3564.5\" y=\"-260.8\" font-family=\"Times,serif\" font-size=\"14.00\" fill=\"#000000\">samples = 22</text>\n<text text-anchor=\"middle\" x=\"3564.5\" y=\"-245.8\" font-family=\"Times,serif\" font-size=\"14.00\" fill=\"#000000\">value = [14, 8]</text>\n<text text-anchor=\"middle\" x=\"3564.5\" y=\"-230.8\" font-family=\"Times,serif\" font-size=\"14.00\" fill=\"#000000\">class = survived_false</text>\n</g>\n<!-- 78&#45;&gt;86 -->\n<g id=\"edge86\" class=\"edge\">\n<title>78&#45;&gt;86</title>\n<path fill=\"none\" stroke=\"#000000\" d=\"M3481.2682,-341.8796C3491.2463,-332.6031 3501.9119,-322.6874 3512.1642,-313.1559\"/>\n<polygon fill=\"#000000\" stroke=\"#000000\" points=\"3514.6,-315.6704 3519.5407,-306.2981 3509.8337,-310.5436 3514.6,-315.6704\"/>\n</g>\n<!-- 80 -->\n<g id=\"node81\" class=\"node\">\n<title>80</title>\n<polygon fill=\"#c6e3f8\" stroke=\"#000000\" points=\"3145,-187 3008,-187 3008,-104 3145,-104 3145,-187\"/>\n<text text-anchor=\"middle\" x=\"3076.5\" y=\"-171.8\" font-family=\"Times,serif\" font-size=\"14.00\" fill=\"#000000\">SibSp &lt;= 1.5</text>\n<text text-anchor=\"middle\" x=\"3076.5\" y=\"-156.8\" font-family=\"Times,serif\" font-size=\"14.00\" fill=\"#000000\">entropy = 0.98</text>\n<text text-anchor=\"middle\" x=\"3076.5\" y=\"-141.8\" font-family=\"Times,serif\" font-size=\"14.00\" fill=\"#000000\">samples = 12</text>\n<text text-anchor=\"middle\" x=\"3076.5\" y=\"-126.8\" font-family=\"Times,serif\" font-size=\"14.00\" fill=\"#000000\">value = [5, 7]</text>\n<text text-anchor=\"middle\" x=\"3076.5\" y=\"-111.8\" font-family=\"Times,serif\" font-size=\"14.00\" fill=\"#000000\">class = survived_true</text>\n</g>\n<!-- 79&#45;&gt;80 -->\n<g id=\"edge80\" class=\"edge\">\n<title>79&#45;&gt;80</title>\n<path fill=\"none\" stroke=\"#000000\" d=\"M3337.9814,-226.7057C3335.1369,-225.4122 3332.3024,-224.171 3329.5,-223 3272.5758,-199.2149 3205.75,-179.0568 3155.077,-165.266\"/>\n<polygon fill=\"#000000\" stroke=\"#000000\" points=\"3155.7318,-161.8177 3145.1654,-162.5936 3153.9094,-168.5763 3155.7318,-161.8177\"/>\n</g>\n<!-- 83 -->\n<g id=\"node84\" class=\"node\">\n<title>83</title>\n<polygon fill=\"#f6d5bd\" stroke=\"#000000\" points=\"3461,-187 3320,-187 3320,-104 3461,-104 3461,-187\"/>\n<text text-anchor=\"middle\" x=\"3390.5\" y=\"-171.8\" font-family=\"Times,serif\" font-size=\"14.00\" fill=\"#000000\">SibSp &lt;= 0.5</text>\n<text text-anchor=\"middle\" x=\"3390.5\" y=\"-156.8\" font-family=\"Times,serif\" font-size=\"14.00\" fill=\"#000000\">entropy = 0.971</text>\n<text text-anchor=\"middle\" x=\"3390.5\" y=\"-141.8\" font-family=\"Times,serif\" font-size=\"14.00\" fill=\"#000000\">samples = 5</text>\n<text text-anchor=\"middle\" x=\"3390.5\" y=\"-126.8\" font-family=\"Times,serif\" font-size=\"14.00\" fill=\"#000000\">value = [3, 2]</text>\n<text text-anchor=\"middle\" x=\"3390.5\" y=\"-111.8\" font-family=\"Times,serif\" font-size=\"14.00\" fill=\"#000000\">class = survived_false</text>\n</g>\n<!-- 79&#45;&gt;83 -->\n<g id=\"edge83\" class=\"edge\">\n<title>79&#45;&gt;83</title>\n<path fill=\"none\" stroke=\"#000000\" d=\"M3400.904,-222.8796C3399.7899,-214.5938 3398.6073,-205.798 3397.4542,-197.2216\"/>\n<polygon fill=\"#000000\" stroke=\"#000000\" points=\"3400.9213,-196.7425 3396.1199,-187.2981 3393.9838,-197.6753 3400.9213,-196.7425\"/>\n</g>\n<!-- 81 -->\n<g id=\"node82\" class=\"node\">\n<title>81</title>\n<polygon fill=\"#bddef6\" stroke=\"#000000\" points=\"2988,-68 2851,-68 2851,0 2988,0 2988,-68\"/>\n<text text-anchor=\"middle\" x=\"2919.5\" y=\"-52.8\" font-family=\"Times,serif\" font-size=\"14.00\" fill=\"#000000\">entropy = 0.971</text>\n<text text-anchor=\"middle\" x=\"2919.5\" y=\"-37.8\" font-family=\"Times,serif\" font-size=\"14.00\" fill=\"#000000\">samples = 10</text>\n<text text-anchor=\"middle\" x=\"2919.5\" y=\"-22.8\" font-family=\"Times,serif\" font-size=\"14.00\" fill=\"#000000\">value = [4, 6]</text>\n<text text-anchor=\"middle\" x=\"2919.5\" y=\"-7.8\" font-family=\"Times,serif\" font-size=\"14.00\" fill=\"#000000\">class = survived_true</text>\n</g>\n<!-- 80&#45;&gt;81 -->\n<g id=\"edge81\" class=\"edge\">\n<title>80&#45;&gt;81</title>\n<path fill=\"none\" stroke=\"#000000\" d=\"M3018.039,-103.9815C3004.2492,-94.1881 2989.5753,-83.7668 2975.8795,-74.0402\"/>\n<polygon fill=\"#000000\" stroke=\"#000000\" points=\"2977.6747,-71.0223 2967.495,-68.0856 2973.6215,-76.7295 2977.6747,-71.0223\"/>\n</g>\n<!-- 82 -->\n<g id=\"node83\" class=\"node\">\n<title>82</title>\n<polygon fill=\"#ffffff\" stroke=\"#000000\" points=\"3147,-68 3006,-68 3006,0 3147,0 3147,-68\"/>\n<text text-anchor=\"middle\" x=\"3076.5\" y=\"-52.8\" font-family=\"Times,serif\" font-size=\"14.00\" fill=\"#000000\">entropy = 1.0</text>\n<text text-anchor=\"middle\" x=\"3076.5\" y=\"-37.8\" font-family=\"Times,serif\" font-size=\"14.00\" fill=\"#000000\">samples = 2</text>\n<text text-anchor=\"middle\" x=\"3076.5\" y=\"-22.8\" font-family=\"Times,serif\" font-size=\"14.00\" fill=\"#000000\">value = [1, 1]</text>\n<text text-anchor=\"middle\" x=\"3076.5\" y=\"-7.8\" font-family=\"Times,serif\" font-size=\"14.00\" fill=\"#000000\">class = survived_false</text>\n</g>\n<!-- 80&#45;&gt;82 -->\n<g id=\"edge82\" class=\"edge\">\n<title>80&#45;&gt;82</title>\n<path fill=\"none\" stroke=\"#000000\" d=\"M3076.5,-103.9815C3076.5,-95.618 3076.5,-86.7965 3076.5,-78.3409\"/>\n<polygon fill=\"#000000\" stroke=\"#000000\" points=\"3080.0001,-78.2636 3076.5,-68.2637 3073.0001,-78.2637 3080.0001,-78.2636\"/>\n</g>\n<!-- 84 -->\n<g id=\"node85\" class=\"node\">\n<title>84</title>\n<polygon fill=\"#9ccef2\" stroke=\"#000000\" points=\"3302,-68 3165,-68 3165,0 3302,0 3302,-68\"/>\n<text text-anchor=\"middle\" x=\"3233.5\" y=\"-52.8\" font-family=\"Times,serif\" font-size=\"14.00\" fill=\"#000000\">entropy = 0.918</text>\n<text text-anchor=\"middle\" x=\"3233.5\" y=\"-37.8\" font-family=\"Times,serif\" font-size=\"14.00\" fill=\"#000000\">samples = 3</text>\n<text text-anchor=\"middle\" x=\"3233.5\" y=\"-22.8\" font-family=\"Times,serif\" font-size=\"14.00\" fill=\"#000000\">value = [1, 2]</text>\n<text text-anchor=\"middle\" x=\"3233.5\" y=\"-7.8\" font-family=\"Times,serif\" font-size=\"14.00\" fill=\"#000000\">class = survived_true</text>\n</g>\n<!-- 83&#45;&gt;84 -->\n<g id=\"edge84\" class=\"edge\">\n<title>83&#45;&gt;84</title>\n<path fill=\"none\" stroke=\"#000000\" d=\"M3332.039,-103.9815C3318.2492,-94.1881 3303.5753,-83.7668 3289.8795,-74.0402\"/>\n<polygon fill=\"#000000\" stroke=\"#000000\" points=\"3291.6747,-71.0223 3281.495,-68.0856 3287.6215,-76.7295 3291.6747,-71.0223\"/>\n</g>\n<!-- 85 -->\n<g id=\"node86\" class=\"node\">\n<title>85</title>\n<polygon fill=\"#e58139\" stroke=\"#000000\" points=\"3461,-68 3320,-68 3320,0 3461,0 3461,-68\"/>\n<text text-anchor=\"middle\" x=\"3390.5\" y=\"-52.8\" font-family=\"Times,serif\" font-size=\"14.00\" fill=\"#000000\">entropy = 0.0</text>\n<text text-anchor=\"middle\" x=\"3390.5\" y=\"-37.8\" font-family=\"Times,serif\" font-size=\"14.00\" fill=\"#000000\">samples = 2</text>\n<text text-anchor=\"middle\" x=\"3390.5\" y=\"-22.8\" font-family=\"Times,serif\" font-size=\"14.00\" fill=\"#000000\">value = [2, 0]</text>\n<text text-anchor=\"middle\" x=\"3390.5\" y=\"-7.8\" font-family=\"Times,serif\" font-size=\"14.00\" fill=\"#000000\">class = survived_false</text>\n</g>\n<!-- 83&#45;&gt;85 -->\n<g id=\"edge85\" class=\"edge\">\n<title>83&#45;&gt;85</title>\n<path fill=\"none\" stroke=\"#000000\" d=\"M3390.5,-103.9815C3390.5,-95.618 3390.5,-86.7965 3390.5,-78.3409\"/>\n<polygon fill=\"#000000\" stroke=\"#000000\" points=\"3394.0001,-78.2636 3390.5,-68.2637 3387.0001,-78.2637 3394.0001,-78.2636\"/>\n</g>\n<!-- 87 -->\n<g id=\"node88\" class=\"node\">\n<title>87</title>\n<polygon fill=\"#f3c6a5\" stroke=\"#000000\" points=\"3635,-187 3494,-187 3494,-104 3635,-104 3635,-187\"/>\n<text text-anchor=\"middle\" x=\"3564.5\" y=\"-171.8\" font-family=\"Times,serif\" font-size=\"14.00\" fill=\"#000000\">SibSp &lt;= 0.5</text>\n<text text-anchor=\"middle\" x=\"3564.5\" y=\"-156.8\" font-family=\"Times,serif\" font-size=\"14.00\" fill=\"#000000\">entropy = 0.937</text>\n<text text-anchor=\"middle\" x=\"3564.5\" y=\"-141.8\" font-family=\"Times,serif\" font-size=\"14.00\" fill=\"#000000\">samples = 17</text>\n<text text-anchor=\"middle\" x=\"3564.5\" y=\"-126.8\" font-family=\"Times,serif\" font-size=\"14.00\" fill=\"#000000\">value = [11, 6]</text>\n<text text-anchor=\"middle\" x=\"3564.5\" y=\"-111.8\" font-family=\"Times,serif\" font-size=\"14.00\" fill=\"#000000\">class = survived_false</text>\n</g>\n<!-- 86&#45;&gt;87 -->\n<g id=\"edge87\" class=\"edge\">\n<title>86&#45;&gt;87</title>\n<path fill=\"none\" stroke=\"#000000\" d=\"M3564.5,-222.8796C3564.5,-214.6838 3564.5,-205.9891 3564.5,-197.5013\"/>\n<polygon fill=\"#000000\" stroke=\"#000000\" points=\"3568.0001,-197.298 3564.5,-187.2981 3561.0001,-197.2981 3568.0001,-197.298\"/>\n</g>\n<!-- 90 -->\n<g id=\"node91\" class=\"node\">\n<title>90</title>\n<polygon fill=\"#f6d5bd\" stroke=\"#000000\" points=\"3923,-187 3782,-187 3782,-104 3923,-104 3923,-187\"/>\n<text text-anchor=\"middle\" x=\"3852.5\" y=\"-171.8\" font-family=\"Times,serif\" font-size=\"14.00\" fill=\"#000000\">SibSp &lt;= 0.5</text>\n<text text-anchor=\"middle\" x=\"3852.5\" y=\"-156.8\" font-family=\"Times,serif\" font-size=\"14.00\" fill=\"#000000\">entropy = 0.971</text>\n<text text-anchor=\"middle\" x=\"3852.5\" y=\"-141.8\" font-family=\"Times,serif\" font-size=\"14.00\" fill=\"#000000\">samples = 5</text>\n<text text-anchor=\"middle\" x=\"3852.5\" y=\"-126.8\" font-family=\"Times,serif\" font-size=\"14.00\" fill=\"#000000\">value = [3, 2]</text>\n<text text-anchor=\"middle\" x=\"3852.5\" y=\"-111.8\" font-family=\"Times,serif\" font-size=\"14.00\" fill=\"#000000\">class = survived_false</text>\n</g>\n<!-- 86&#45;&gt;90 -->\n<g id=\"edge90\" class=\"edge\">\n<title>86&#45;&gt;90</title>\n<path fill=\"none\" stroke=\"#000000\" d=\"M3635.3216,-235.2369C3676.906,-218.0545 3729.5794,-196.2901 3772.6375,-178.4987\"/>\n<polygon fill=\"#000000\" stroke=\"#000000\" points=\"3774.0467,-181.7035 3781.9522,-174.6499 3771.3735,-175.2341 3774.0467,-181.7035\"/>\n</g>\n<!-- 88 -->\n<g id=\"node89\" class=\"node\">\n<title>88</title>\n<polygon fill=\"#f2c09c\" stroke=\"#000000\" points=\"3620,-68 3479,-68 3479,0 3620,0 3620,-68\"/>\n<text text-anchor=\"middle\" x=\"3549.5\" y=\"-52.8\" font-family=\"Times,serif\" font-size=\"14.00\" fill=\"#000000\">entropy = 0.918</text>\n<text text-anchor=\"middle\" x=\"3549.5\" y=\"-37.8\" font-family=\"Times,serif\" font-size=\"14.00\" fill=\"#000000\">samples = 3</text>\n<text text-anchor=\"middle\" x=\"3549.5\" y=\"-22.8\" font-family=\"Times,serif\" font-size=\"14.00\" fill=\"#000000\">value = [2, 1]</text>\n<text text-anchor=\"middle\" x=\"3549.5\" y=\"-7.8\" font-family=\"Times,serif\" font-size=\"14.00\" fill=\"#000000\">class = survived_false</text>\n</g>\n<!-- 87&#45;&gt;88 -->\n<g id=\"edge88\" class=\"edge\">\n<title>87&#45;&gt;88</title>\n<path fill=\"none\" stroke=\"#000000\" d=\"M3558.9146,-103.9815C3557.7894,-95.618 3556.6027,-86.7965 3555.4651,-78.3409\"/>\n<polygon fill=\"#000000\" stroke=\"#000000\" points=\"3558.9116,-77.7077 3554.1095,-68.2637 3551.9741,-78.6411 3558.9116,-77.7077\"/>\n</g>\n<!-- 89 -->\n<g id=\"node90\" class=\"node\">\n<title>89</title>\n<polygon fill=\"#f3c7a7\" stroke=\"#000000\" points=\"3779,-68 3638,-68 3638,0 3779,0 3779,-68\"/>\n<text text-anchor=\"middle\" x=\"3708.5\" y=\"-52.8\" font-family=\"Times,serif\" font-size=\"14.00\" fill=\"#000000\">entropy = 0.94</text>\n<text text-anchor=\"middle\" x=\"3708.5\" y=\"-37.8\" font-family=\"Times,serif\" font-size=\"14.00\" fill=\"#000000\">samples = 14</text>\n<text text-anchor=\"middle\" x=\"3708.5\" y=\"-22.8\" font-family=\"Times,serif\" font-size=\"14.00\" fill=\"#000000\">value = [9, 5]</text>\n<text text-anchor=\"middle\" x=\"3708.5\" y=\"-7.8\" font-family=\"Times,serif\" font-size=\"14.00\" fill=\"#000000\">class = survived_false</text>\n</g>\n<!-- 87&#45;&gt;89 -->\n<g id=\"edge89\" class=\"edge\">\n<title>87&#45;&gt;89</title>\n<path fill=\"none\" stroke=\"#000000\" d=\"M3618.1203,-103.9815C3630.5833,-94.3313 3643.8338,-84.0714 3656.2373,-74.4673\"/>\n<polygon fill=\"#000000\" stroke=\"#000000\" points=\"3658.4851,-77.1534 3664.2492,-68.2637 3654.1995,-71.6186 3658.4851,-77.1534\"/>\n</g>\n<!-- 91 -->\n<g id=\"node92\" class=\"node\">\n<title>91</title>\n<polygon fill=\"#ffffff\" stroke=\"#000000\" points=\"3938,-68 3797,-68 3797,0 3938,0 3938,-68\"/>\n<text text-anchor=\"middle\" x=\"3867.5\" y=\"-52.8\" font-family=\"Times,serif\" font-size=\"14.00\" fill=\"#000000\">entropy = 1.0</text>\n<text text-anchor=\"middle\" x=\"3867.5\" y=\"-37.8\" font-family=\"Times,serif\" font-size=\"14.00\" fill=\"#000000\">samples = 2</text>\n<text text-anchor=\"middle\" x=\"3867.5\" y=\"-22.8\" font-family=\"Times,serif\" font-size=\"14.00\" fill=\"#000000\">value = [1, 1]</text>\n<text text-anchor=\"middle\" x=\"3867.5\" y=\"-7.8\" font-family=\"Times,serif\" font-size=\"14.00\" fill=\"#000000\">class = survived_false</text>\n</g>\n<!-- 90&#45;&gt;91 -->\n<g id=\"edge91\" class=\"edge\">\n<title>90&#45;&gt;91</title>\n<path fill=\"none\" stroke=\"#000000\" d=\"M3858.0854,-103.9815C3859.2106,-95.618 3860.3973,-86.7965 3861.5349,-78.3409\"/>\n<polygon fill=\"#000000\" stroke=\"#000000\" points=\"3865.0259,-78.6411 3862.8905,-68.2637 3858.0884,-77.7077 3865.0259,-78.6411\"/>\n</g>\n<!-- 92 -->\n<g id=\"node93\" class=\"node\">\n<title>92</title>\n<polygon fill=\"#f2c09c\" stroke=\"#000000\" points=\"4097,-68 3956,-68 3956,0 4097,0 4097,-68\"/>\n<text text-anchor=\"middle\" x=\"4026.5\" y=\"-52.8\" font-family=\"Times,serif\" font-size=\"14.00\" fill=\"#000000\">entropy = 0.918</text>\n<text text-anchor=\"middle\" x=\"4026.5\" y=\"-37.8\" font-family=\"Times,serif\" font-size=\"14.00\" fill=\"#000000\">samples = 3</text>\n<text text-anchor=\"middle\" x=\"4026.5\" y=\"-22.8\" font-family=\"Times,serif\" font-size=\"14.00\" fill=\"#000000\">value = [2, 1]</text>\n<text text-anchor=\"middle\" x=\"4026.5\" y=\"-7.8\" font-family=\"Times,serif\" font-size=\"14.00\" fill=\"#000000\">class = survived_false</text>\n</g>\n<!-- 90&#45;&gt;92 -->\n<g id=\"edge92\" class=\"edge\">\n<title>90&#45;&gt;92</title>\n<path fill=\"none\" stroke=\"#000000\" d=\"M3917.2912,-103.9815C3932.8625,-94.0034 3949.451,-83.3733 3964.8737,-73.4904\"/>\n<polygon fill=\"#000000\" stroke=\"#000000\" points=\"3966.7768,-76.4279 3973.3081,-68.0856 3963,-70.5341 3966.7768,-76.4279\"/>\n</g>\n<!-- 95 -->\n<g id=\"node96\" class=\"node\">\n<title>95</title>\n<polygon fill=\"#e58139\" stroke=\"#000000\" points=\"3864,-417.5 3723,-417.5 3723,-349.5 3864,-349.5 3864,-417.5\"/>\n<text text-anchor=\"middle\" x=\"3793.5\" y=\"-402.3\" font-family=\"Times,serif\" font-size=\"14.00\" fill=\"#000000\">entropy = 0.0</text>\n<text text-anchor=\"middle\" x=\"3793.5\" y=\"-387.3\" font-family=\"Times,serif\" font-size=\"14.00\" fill=\"#000000\">samples = 9</text>\n<text text-anchor=\"middle\" x=\"3793.5\" y=\"-372.3\" font-family=\"Times,serif\" font-size=\"14.00\" fill=\"#000000\">value = [9, 0]</text>\n<text text-anchor=\"middle\" x=\"3793.5\" y=\"-357.3\" font-family=\"Times,serif\" font-size=\"14.00\" fill=\"#000000\">class = survived_false</text>\n</g>\n<!-- 94&#45;&gt;95 -->\n<g id=\"edge95\" class=\"edge\">\n<title>94&#45;&gt;95</title>\n<path fill=\"none\" stroke=\"#000000\" d=\"M3793.5,-460.8796C3793.5,-450.2134 3793.5,-438.7021 3793.5,-427.9015\"/>\n<polygon fill=\"#000000\" stroke=\"#000000\" points=\"3797.0001,-427.8149 3793.5,-417.8149 3790.0001,-427.815 3797.0001,-427.8149\"/>\n</g>\n<!-- 96 -->\n<g id=\"node97\" class=\"node\">\n<title>96</title>\n<polygon fill=\"#e78c4b\" stroke=\"#000000\" points=\"4082,-425 3941,-425 3941,-342 4082,-342 4082,-425\"/>\n<text text-anchor=\"middle\" x=\"4011.5\" y=\"-409.8\" font-family=\"Times,serif\" font-size=\"14.00\" fill=\"#000000\">SibSp &lt;= 4.5</text>\n<text text-anchor=\"middle\" x=\"4011.5\" y=\"-394.8\" font-family=\"Times,serif\" font-size=\"14.00\" fill=\"#000000\">entropy = 0.414</text>\n<text text-anchor=\"middle\" x=\"4011.5\" y=\"-379.8\" font-family=\"Times,serif\" font-size=\"14.00\" fill=\"#000000\">samples = 12</text>\n<text text-anchor=\"middle\" x=\"4011.5\" y=\"-364.8\" font-family=\"Times,serif\" font-size=\"14.00\" fill=\"#000000\">value = [11, 1]</text>\n<text text-anchor=\"middle\" x=\"4011.5\" y=\"-349.8\" font-family=\"Times,serif\" font-size=\"14.00\" fill=\"#000000\">class = survived_false</text>\n</g>\n<!-- 94&#45;&gt;96 -->\n<g id=\"edge96\" class=\"edge\">\n<title>94&#45;&gt;96</title>\n<path fill=\"none\" stroke=\"#000000\" d=\"M3864.2784,-463.8641C3885.8046,-452.1135 3909.6081,-439.1199 3931.6868,-427.0678\"/>\n<polygon fill=\"#000000\" stroke=\"#000000\" points=\"3933.6036,-430.009 3940.704,-422.1455 3930.2496,-423.8648 3933.6036,-430.009\"/>\n</g>\n<!-- 97 -->\n<g id=\"node98\" class=\"node\">\n<title>97</title>\n<polygon fill=\"#eeab7b\" stroke=\"#000000\" points=\"4082,-306 3941,-306 3941,-223 4082,-223 4082,-306\"/>\n<text text-anchor=\"middle\" x=\"4011.5\" y=\"-290.8\" font-family=\"Times,serif\" font-size=\"14.00\" fill=\"#000000\">SibSp &lt;= 3.5</text>\n<text text-anchor=\"middle\" x=\"4011.5\" y=\"-275.8\" font-family=\"Times,serif\" font-size=\"14.00\" fill=\"#000000\">entropy = 0.811</text>\n<text text-anchor=\"middle\" x=\"4011.5\" y=\"-260.8\" font-family=\"Times,serif\" font-size=\"14.00\" fill=\"#000000\">samples = 4</text>\n<text text-anchor=\"middle\" x=\"4011.5\" y=\"-245.8\" font-family=\"Times,serif\" font-size=\"14.00\" fill=\"#000000\">value = [3, 1]</text>\n<text text-anchor=\"middle\" x=\"4011.5\" y=\"-230.8\" font-family=\"Times,serif\" font-size=\"14.00\" fill=\"#000000\">class = survived_false</text>\n</g>\n<!-- 96&#45;&gt;97 -->\n<g id=\"edge97\" class=\"edge\">\n<title>96&#45;&gt;97</title>\n<path fill=\"none\" stroke=\"#000000\" d=\"M4011.5,-341.8796C4011.5,-333.6838 4011.5,-324.9891 4011.5,-316.5013\"/>\n<polygon fill=\"#000000\" stroke=\"#000000\" points=\"4015.0001,-316.298 4011.5,-306.2981 4008.0001,-316.2981 4015.0001,-316.298\"/>\n</g>\n<!-- 100 -->\n<g id=\"node101\" class=\"node\">\n<title>100</title>\n<polygon fill=\"#e58139\" stroke=\"#000000\" points=\"4241,-298.5 4100,-298.5 4100,-230.5 4241,-230.5 4241,-298.5\"/>\n<text text-anchor=\"middle\" x=\"4170.5\" y=\"-283.3\" font-family=\"Times,serif\" font-size=\"14.00\" fill=\"#000000\">entropy = 0.0</text>\n<text text-anchor=\"middle\" x=\"4170.5\" y=\"-268.3\" font-family=\"Times,serif\" font-size=\"14.00\" fill=\"#000000\">samples = 8</text>\n<text text-anchor=\"middle\" x=\"4170.5\" y=\"-253.3\" font-family=\"Times,serif\" font-size=\"14.00\" fill=\"#000000\">value = [8, 0]</text>\n<text text-anchor=\"middle\" x=\"4170.5\" y=\"-238.3\" font-family=\"Times,serif\" font-size=\"14.00\" fill=\"#000000\">class = survived_false</text>\n</g>\n<!-- 96&#45;&gt;100 -->\n<g id=\"edge100\" class=\"edge\">\n<title>96&#45;&gt;100</title>\n<path fill=\"none\" stroke=\"#000000\" d=\"M4067.1105,-341.8796C4083.2013,-329.8368 4100.7315,-316.7167 4116.7091,-304.7586\"/>\n<polygon fill=\"#000000\" stroke=\"#000000\" points=\"4118.9982,-307.4171 4124.907,-298.623 4114.8038,-301.8129 4118.9982,-307.4171\"/>\n</g>\n<!-- 98 -->\n<g id=\"node99\" class=\"node\">\n<title>98</title>\n<polygon fill=\"#e58139\" stroke=\"#000000\" points=\"4082,-179.5 3941,-179.5 3941,-111.5 4082,-111.5 4082,-179.5\"/>\n<text text-anchor=\"middle\" x=\"4011.5\" y=\"-164.3\" font-family=\"Times,serif\" font-size=\"14.00\" fill=\"#000000\">entropy = 0.0</text>\n<text text-anchor=\"middle\" x=\"4011.5\" y=\"-149.3\" font-family=\"Times,serif\" font-size=\"14.00\" fill=\"#000000\">samples = 1</text>\n<text text-anchor=\"middle\" x=\"4011.5\" y=\"-134.3\" font-family=\"Times,serif\" font-size=\"14.00\" fill=\"#000000\">value = [1, 0]</text>\n<text text-anchor=\"middle\" x=\"4011.5\" y=\"-119.3\" font-family=\"Times,serif\" font-size=\"14.00\" fill=\"#000000\">class = survived_false</text>\n</g>\n<!-- 97&#45;&gt;98 -->\n<g id=\"edge98\" class=\"edge\">\n<title>97&#45;&gt;98</title>\n<path fill=\"none\" stroke=\"#000000\" d=\"M4011.5,-222.8796C4011.5,-212.2134 4011.5,-200.7021 4011.5,-189.9015\"/>\n<polygon fill=\"#000000\" stroke=\"#000000\" points=\"4015.0001,-189.8149 4011.5,-179.8149 4008.0001,-189.815 4015.0001,-189.8149\"/>\n</g>\n<!-- 99 -->\n<g id=\"node100\" class=\"node\">\n<title>99</title>\n<polygon fill=\"#f2c09c\" stroke=\"#000000\" points=\"4241,-179.5 4100,-179.5 4100,-111.5 4241,-111.5 4241,-179.5\"/>\n<text text-anchor=\"middle\" x=\"4170.5\" y=\"-164.3\" font-family=\"Times,serif\" font-size=\"14.00\" fill=\"#000000\">entropy = 0.918</text>\n<text text-anchor=\"middle\" x=\"4170.5\" y=\"-149.3\" font-family=\"Times,serif\" font-size=\"14.00\" fill=\"#000000\">samples = 3</text>\n<text text-anchor=\"middle\" x=\"4170.5\" y=\"-134.3\" font-family=\"Times,serif\" font-size=\"14.00\" fill=\"#000000\">value = [2, 1]</text>\n<text text-anchor=\"middle\" x=\"4170.5\" y=\"-119.3\" font-family=\"Times,serif\" font-size=\"14.00\" fill=\"#000000\">class = survived_false</text>\n</g>\n<!-- 97&#45;&gt;99 -->\n<g id=\"edge99\" class=\"edge\">\n<title>97&#45;&gt;99</title>\n<path fill=\"none\" stroke=\"#000000\" d=\"M4067.1105,-222.8796C4083.2013,-210.8368 4100.7315,-197.7167 4116.7091,-185.7586\"/>\n<polygon fill=\"#000000\" stroke=\"#000000\" points=\"4118.9982,-188.4171 4124.907,-179.623 4114.8038,-182.8129 4118.9982,-188.4171\"/>\n</g>\n</g>\n</svg>\n"
          },
          "metadata": {
            "tags": []
          },
          "execution_count": 8
        }
      ]
    },
    {
      "cell_type": "markdown",
      "metadata": {
        "id": "iMdqypDSqWC6"
      },
      "source": [
        "## Interpreting the tree\n",
        "The top node splits on the sex attribute, suggesting that this is an important attribute to predict whether a passenger survived.\n",
        "\n",
        "The leaf node with the largest number of samples and 0 entropy includes 33 passengers who survived. These passengers had no siblings or spouses aboard and less than 1.5 parents or children. They were in first class and female.\n"
      ]
    },
    {
      "cell_type": "markdown",
      "metadata": {
        "id": "bxA_OnglpZwQ"
      },
      "source": [
        "### How well does the model predict the training data?"
      ]
    },
    {
      "cell_type": "code",
      "metadata": {
        "colab": {
          "base_uri": "https://localhost:8080/"
        },
        "id": "X4Gem4SX00Rq",
        "outputId": "3326522f-835a-4201-c322-594993354703"
      },
      "source": [
        "from sklearn.metrics import classification_report\n",
        "\n",
        "print('Training accuracy:')\n",
        "ypred = clf.predict(Xtrain)\n",
        "print(classification_report(ytrain, ypred))"
      ],
      "execution_count": 9,
      "outputs": [
        {
          "output_type": "stream",
          "text": [
            "Training accuracy:\n",
            "              precision    recall  f1-score   support\n",
            "\n",
            "           0       0.81      0.93      0.86       498\n",
            "           1       0.85      0.63      0.72       303\n",
            "\n",
            "    accuracy                           0.82       801\n",
            "   macro avg       0.83      0.78      0.79       801\n",
            "weighted avg       0.82      0.82      0.81       801\n",
            "\n"
          ],
          "name": "stdout"
        }
      ]
    },
    {
      "cell_type": "markdown",
      "metadata": {
        "id": "RvTRVLkSpoVm"
      },
      "source": [
        "### How well does the model predict the test data?"
      ]
    },
    {
      "cell_type": "code",
      "metadata": {
        "colab": {
          "base_uri": "https://localhost:8080/"
        },
        "id": "8LWZiRRf00Rr",
        "outputId": "ccbc8fd7-7c09-473d-8570-f96f6202325f"
      },
      "source": [
        "\n",
        "ypred = clf.predict(Xtest)\n",
        "print(classification_report(ytest, ypred))"
      ],
      "execution_count": 10,
      "outputs": [
        {
          "output_type": "stream",
          "text": [
            "              precision    recall  f1-score   support\n",
            "\n",
            "           0       0.76      0.86      0.81        51\n",
            "           1       0.78      0.64      0.70        39\n",
            "\n",
            "    accuracy                           0.77        90\n",
            "   macro avg       0.77      0.75      0.76        90\n",
            "weighted avg       0.77      0.77      0.76        90\n",
            "\n"
          ],
          "name": "stdout"
        }
      ]
    },
    {
      "cell_type": "markdown",
      "metadata": {
        "id": "g379S4l-pt9c"
      },
      "source": [
        "### The accuracy on the training data is only a bit better than on the test data, so the model is overfitting, but not too badly."
      ]
    },
    {
      "cell_type": "markdown",
      "metadata": {
        "id": "s4lXVsJZ00Rs"
      },
      "source": [
        "## Confusion Matrix"
      ]
    },
    {
      "cell_type": "code",
      "metadata": {
        "colab": {
          "base_uri": "https://localhost:8080/",
          "height": 295
        },
        "id": "SYuHQ92100Rs",
        "outputId": "69f27ccc-27ff-4d32-c05b-be0a2c72c724"
      },
      "source": [
        "from sklearn.metrics import confusion_matrix\n",
        "\n",
        "cm = confusion_matrix(ytest, ypred)\n",
        "\n",
        "sns.heatmap(cm, square=True, annot=True, fmt='d', cbar=True, cmap=\"PuBu\",\n",
        "                    xticklabels=clf.classes_,\n",
        "                    yticklabels=clf.classes_)\n",
        "\n",
        "plt.xlabel('Predicted Label');\n",
        "plt.ylabel('True Label')\n",
        "plt.title('Classification Confusion Matrix')\n",
        "plt.show()"
      ],
      "execution_count": 11,
      "outputs": [
        {
          "output_type": "display_data",
          "data": {
            "image/png": "[encoded data removed]",
            "text/plain": [
              "<Figure size 432x288 with 2 Axes>"
            ]
          },
          "metadata": {
            "tags": [],
            "needs_background": "light"
          }
        }
      ]
    },
    {
      "cell_type": "markdown",
      "metadata": {
        "id": "gIXRnZCfsCGE"
      },
      "source": [
        "## Mistakes\n",
        "The model is worst when the true label is 1 (pasenger survived), with a recall of 64%."
      ]
    },
    {
      "cell_type": "markdown",
      "metadata": {
        "id": "-VwqUPoY--PC"
      },
      "source": [
        "## Random Forest"
      ]
    },
    {
      "cell_type": "code",
      "metadata": {
        "colab": {
          "base_uri": "https://localhost:8080/"
        },
        "id": "nfUSXOAXiDFa",
        "outputId": "ed930d0e-4352-465f-e989-387db52b0cad"
      },
      "source": [
        "from sklearn.ensemble import RandomForestClassifier\n",
        "model = RandomForestClassifier(n_estimators=100, random_state=0, criterion='entropy')\n",
        "model.fit(Xtrain, ytrain)\n",
        "ypred = model.predict(Xtest)\n",
        "print(classification_report(ytest, ypred))\n"
      ],
      "execution_count": 12,
      "outputs": [
        {
          "output_type": "stream",
          "text": [
            "              precision    recall  f1-score   support\n",
            "\n",
            "           0       0.79      0.90      0.84        51\n",
            "           1       0.84      0.69      0.76        39\n",
            "\n",
            "    accuracy                           0.81        90\n",
            "   macro avg       0.82      0.80      0.80        90\n",
            "weighted avg       0.82      0.81      0.81        90\n",
            "\n"
          ],
          "name": "stdout"
        }
      ]
    },
    {
      "cell_type": "markdown",
      "metadata": {
        "id": "65QYOM0Vst8s"
      },
      "source": [
        "## Grid search to identify best hyperparameters for n_estimators and max_depth."
      ]
    },
    {
      "cell_type": "code",
      "metadata": {
        "colab": {
          "base_uri": "https://localhost:8080/"
        },
        "id": "fczy5voq_A1J",
        "outputId": "0d577427-1379-4a70-9ae1-867840888401"
      },
      "source": [
        "from sklearn.model_selection import GridSearchCV\n",
        "param_grid = {'n_estimators': np.arange(10, 110, 20),\n",
        "              'max_depth': np.arange(1, 8)}\n",
        "\n",
        "# We can incorporate cross-validation into the grid search by specifying cv=5.\n",
        "model = RandomForestClassifier(criterion='entropy', max_depth=5)\n",
        "grid = GridSearchCV(model, param_grid, cv=5, verbose=1)\n",
        "grid.fit(Xtrain, ytrain)"
      ],
      "execution_count": 13,
      "outputs": [
        {
          "output_type": "stream",
          "text": [
            "Fitting 5 folds for each of 35 candidates, totalling 175 fits\n"
          ],
          "name": "stdout"
        },
        {
          "output_type": "stream",
          "text": [
            "[Parallel(n_jobs=1)]: Using backend SequentialBackend with 1 concurrent workers.\n",
            "[Parallel(n_jobs=1)]: Done 175 out of 175 | elapsed:   13.2s finished\n"
          ],
          "name": "stderr"
        },
        {
          "output_type": "execute_result",
          "data": {
            "text/plain": [
              "GridSearchCV(cv=5, error_score=nan,\n",
              "             estimator=RandomForestClassifier(bootstrap=True, ccp_alpha=0.0,\n",
              "                                              class_weight=None,\n",
              "                                              criterion='entropy', max_depth=5,\n",
              "                                              max_features='auto',\n",
              "                                              max_leaf_nodes=None,\n",
              "                                              max_samples=None,\n",
              "                                              min_impurity_decrease=0.0,\n",
              "                                              min_impurity_split=None,\n",
              "                                              min_samples_leaf=1,\n",
              "                                              min_samples_split=2,\n",
              "                                              min_weight_fraction_leaf=0.0,\n",
              "                                              n_estimators=100, n_jobs=None,\n",
              "                                              oob_score=False,\n",
              "                                              random_state=None, verbose=0,\n",
              "                                              warm_start=False),\n",
              "             iid='deprecated', n_jobs=None,\n",
              "             param_grid={'max_depth': array([1, 2, 3, 4, 5, 6, 7]),\n",
              "                         'n_estimators': array([10, 30, 50, 70, 90])},\n",
              "             pre_dispatch='2*n_jobs', refit=True, return_train_score=False,\n",
              "             scoring=None, verbose=1)"
            ]
          },
          "metadata": {
            "tags": []
          },
          "execution_count": 13
        }
      ]
    },
    {
      "cell_type": "code",
      "metadata": {
        "colab": {
          "base_uri": "https://localhost:8080/"
        },
        "id": "k5KqhFJgIUxX",
        "outputId": "9faefe64-376f-4b4a-d9f7-9344a9a0a598"
      },
      "source": [
        "grid.best_params_"
      ],
      "execution_count": 14,
      "outputs": [
        {
          "output_type": "execute_result",
          "data": {
            "text/plain": [
              "{'max_depth': 3, 'n_estimators': 70}"
            ]
          },
          "metadata": {
            "tags": []
          },
          "execution_count": 14
        }
      ]
    },
    {
      "cell_type": "code",
      "metadata": {
        "colab": {
          "base_uri": "https://localhost:8080/"
        },
        "id": "5GHdKYcUIn__",
        "outputId": "590ae9d5-8b56-4b18-8d61-b9f75a7a1196"
      },
      "source": [
        "model = grid.best_estimator_\n",
        "model.fit(Xtrain, ytrain)\n",
        "ypred = model.predict(Xtest)\n",
        "print(classification_report(ytest, ypred))\n"
      ],
      "execution_count": 15,
      "outputs": [
        {
          "output_type": "stream",
          "text": [
            "              precision    recall  f1-score   support\n",
            "\n",
            "           0       0.80      0.94      0.86        51\n",
            "           1       0.90      0.69      0.78        39\n",
            "\n",
            "    accuracy                           0.83        90\n",
            "   macro avg       0.85      0.82      0.82        90\n",
            "weighted avg       0.84      0.83      0.83        90\n",
            "\n"
          ],
          "name": "stdout"
        }
      ]
    },
    {
      "cell_type": "code",
      "metadata": {
        "colab": {
          "base_uri": "https://localhost:8080/",
          "height": 295
        },
        "id": "4thYSyWdIr-5",
        "outputId": "f9753489-eb48-4e85-d3c4-48ccab277eb9"
      },
      "source": [
        "cm = confusion_matrix(ytest, ypred)\n",
        "\n",
        "sns.heatmap(cm, square=True, annot=True, fmt='d', cbar=True, cmap=\"PuBu\",\n",
        "                    xticklabels=model.classes_,\n",
        "                    yticklabels=model.classes_)\n",
        "\n",
        "plt.xlabel('Predicted Label');\n",
        "plt.ylabel('True Label')\n",
        "plt.title('Classification Confusion Matrix')\n",
        "plt.show()"
      ],
      "execution_count": 16,
      "outputs": [
        {
          "output_type": "display_data",
          "data": {
            "image/png": "[encoded data removed]",
            "text/plain": [
              "<Figure size 432x288 with 2 Axes>"
            ]
          },
          "metadata": {
            "tags": [],
            "needs_background": "light"
          }
        }
      ]
    },
    {
      "cell_type": "code",
      "metadata": {
        "id": "mgv3NCuIJUEg"
      },
      "source": [
        ""
      ],
      "execution_count": 16,
      "outputs": []
    }
  ]
}