{
  "nbformat": 4,
  "nbformat_minor": 0,
  "metadata": {
    "colab": {
      "name": "lab04_srs.ipynb",
      "provenance": [],
      "collapsed_sections": [],
      "authorship_tag": "ABX9TyNmkKLZJq1kOLVYUIsKnTKU",
      "include_colab_link": true
    },
    "kernelspec": {
      "name": "python3",
      "display_name": "Python 3"
    }
  },
  "cells": [
    {
      "cell_type": "markdown",
      "metadata": {
        "id": "view-in-github",
        "colab_type": "text"
      },
      "source": [
        "<a href=\"https://colab.research.google.com/github/scottspurlock/csc401-2021s/blob/main/labs/lab04_srs.ipynb\" target=\"_parent\"><img src=\"https://colab.research.google.com/assets/colab-badge.svg\" alt=\"Open In Colab\"/></a>"
      ]
    },
    {
      "cell_type": "markdown",
      "metadata": {
        "id": "188q7dsDCmzL"
      },
      "source": [
        "# Lab 4 KNN\n",
        "## Scott Spurlock\n",
        "### 2/22/2021"
      ]
    },
    {
      "cell_type": "code",
      "metadata": {
        "id": "0k7kCrSAC-vC"
      },
      "source": [
        "import numpy as np\n",
        "import pandas as pd\n",
        "import matplotlib.pyplot as plt\n",
        "import seaborn as sns\n",
        "from sklearn.model_selection import train_test_split\n",
        "from sklearn.neighbors import KNeighborsClassifier\n",
        "from sklearn.metrics import accuracy_score\n",
        "from sklearn.metrics import confusion_matrix\n",
        "\n",
        "%matplotlib inline"
      ],
      "execution_count": 1,
      "outputs": []
    },
    {
      "cell_type": "code",
      "metadata": {
        "colab": {
          "base_uri": "https://localhost:8080/",
          "height": 235
        },
        "id": "obdApVv7Ddw8",
        "outputId": "570bb006-a0cf-486f-b4fb-29efb2866363"
      },
      "source": [
        "file_link = 'https://drive.google.com/uc?export=download&id=1872WZovmmIRvyAra5AENBfUuVetA77ag'\n",
        "df = pd.read_csv(file_link)\n",
        "df.head(6)"
      ],
      "execution_count": 2,
      "outputs": [
        {
          "output_type": "execute_result",
          "data": {
            "text/html": [
              "<div>\n",
              "<style scoped>\n",
              "    .dataframe tbody tr th:only-of-type {\n",
              "        vertical-align: middle;\n",
              "    }\n",
              "\n",
              "    .dataframe tbody tr th {\n",
              "        vertical-align: top;\n",
              "    }\n",
              "\n",
              "    .dataframe thead th {\n",
              "        text-align: right;\n",
              "    }\n",
              "</style>\n",
              "<table border=\"1\" class=\"dataframe\">\n",
              "  <thead>\n",
              "    <tr style=\"text-align: right;\">\n",
              "      <th></th>\n",
              "      <th>ID</th>\n",
              "      <th>Textbook</th>\n",
              "      <th>Videos</th>\n",
              "      <th>Lecture</th>\n",
              "      <th>Discussion</th>\n",
              "      <th>Problems</th>\n",
              "      <th>Proactive</th>\n",
              "      <th>CodeExperience</th>\n",
              "      <th>MotivatedByFun</th>\n",
              "      <th>MotivatedByChallenge</th>\n",
              "      <th>MotivatedByGrades</th>\n",
              "      <th>MotivatedByJob</th>\n",
              "      <th>Grade</th>\n",
              "    </tr>\n",
              "  </thead>\n",
              "  <tbody>\n",
              "    <tr>\n",
              "      <th>0</th>\n",
              "      <td>1</td>\n",
              "      <td>3</td>\n",
              "      <td>4</td>\n",
              "      <td>3</td>\n",
              "      <td>1</td>\n",
              "      <td>2</td>\n",
              "      <td>4</td>\n",
              "      <td>1</td>\n",
              "      <td>4</td>\n",
              "      <td>3</td>\n",
              "      <td>4</td>\n",
              "      <td>4</td>\n",
              "      <td>D</td>\n",
              "    </tr>\n",
              "    <tr>\n",
              "      <th>1</th>\n",
              "      <td>2</td>\n",
              "      <td>2</td>\n",
              "      <td>3</td>\n",
              "      <td>5</td>\n",
              "      <td>4</td>\n",
              "      <td>3</td>\n",
              "      <td>5</td>\n",
              "      <td>1</td>\n",
              "      <td>4</td>\n",
              "      <td>4</td>\n",
              "      <td>4</td>\n",
              "      <td>4</td>\n",
              "      <td>B</td>\n",
              "    </tr>\n",
              "    <tr>\n",
              "      <th>2</th>\n",
              "      <td>3</td>\n",
              "      <td>4</td>\n",
              "      <td>5</td>\n",
              "      <td>5</td>\n",
              "      <td>3</td>\n",
              "      <td>5</td>\n",
              "      <td>3</td>\n",
              "      <td>1</td>\n",
              "      <td>5</td>\n",
              "      <td>4</td>\n",
              "      <td>5</td>\n",
              "      <td>5</td>\n",
              "      <td>C</td>\n",
              "    </tr>\n",
              "    <tr>\n",
              "      <th>3</th>\n",
              "      <td>4</td>\n",
              "      <td>1</td>\n",
              "      <td>5</td>\n",
              "      <td>3</td>\n",
              "      <td>4</td>\n",
              "      <td>3</td>\n",
              "      <td>1</td>\n",
              "      <td>1</td>\n",
              "      <td>4</td>\n",
              "      <td>3</td>\n",
              "      <td>1</td>\n",
              "      <td>3</td>\n",
              "      <td>F</td>\n",
              "    </tr>\n",
              "    <tr>\n",
              "      <th>4</th>\n",
              "      <td>5</td>\n",
              "      <td>4</td>\n",
              "      <td>3</td>\n",
              "      <td>3</td>\n",
              "      <td>2</td>\n",
              "      <td>2</td>\n",
              "      <td>4</td>\n",
              "      <td>2</td>\n",
              "      <td>5</td>\n",
              "      <td>4</td>\n",
              "      <td>5</td>\n",
              "      <td>5</td>\n",
              "      <td>B</td>\n",
              "    </tr>\n",
              "    <tr>\n",
              "      <th>5</th>\n",
              "      <td>6</td>\n",
              "      <td>2</td>\n",
              "      <td>3</td>\n",
              "      <td>4</td>\n",
              "      <td>3</td>\n",
              "      <td>4</td>\n",
              "      <td>3</td>\n",
              "      <td>1</td>\n",
              "      <td>4</td>\n",
              "      <td>4</td>\n",
              "      <td>4</td>\n",
              "      <td>3</td>\n",
              "      <td>D</td>\n",
              "    </tr>\n",
              "  </tbody>\n",
              "</table>\n",
              "</div>"
            ],
            "text/plain": [
              "   ID  Textbook  Videos  ...  MotivatedByGrades  MotivatedByJob  Grade\n",
              "0   1         3       4  ...                  4               4      D\n",
              "1   2         2       3  ...                  4               4      B\n",
              "2   3         4       5  ...                  5               5      C\n",
              "3   4         1       5  ...                  1               3      F\n",
              "4   5         4       3  ...                  5               5      B\n",
              "5   6         2       3  ...                  4               3      D\n",
              "\n",
              "[6 rows x 13 columns]"
            ]
          },
          "metadata": {
            "tags": []
          },
          "execution_count": 2
        }
      ]
    },
    {
      "cell_type": "code",
      "metadata": {
        "colab": {
          "base_uri": "https://localhost:8080/"
        },
        "id": "IfBOSIEmDkpz",
        "outputId": "42e21eb4-19c7-4b64-d952-2046b2443579"
      },
      "source": [
        "df['Grade'].value_counts()"
      ],
      "execution_count": 3,
      "outputs": [
        {
          "output_type": "execute_result",
          "data": {
            "text/plain": [
              "B    18\n",
              "C    16\n",
              "D     9\n",
              "A     8\n",
              "F     4\n",
              "Name: Grade, dtype: int64"
            ]
          },
          "metadata": {
            "tags": []
          },
          "execution_count": 3
        }
      ]
    },
    {
      "cell_type": "code",
      "metadata": {
        "colab": {
          "base_uri": "https://localhost:8080/"
        },
        "id": "Oj0k8wXKD7IX",
        "outputId": "9299e733-f1b4-4197-e429-bf9fcf3819cd"
      },
      "source": [
        "# Convert the numeric data into a numpy array\n",
        "X = df[df.columns[1:-1]].values\n",
        "print('data:', X.shape)\n",
        "print(X)\n",
        "\n",
        "# Convert the class labels into numbers\n",
        "y = df['Grade'].astype('category').cat.codes.values\n",
        "print('\\nlabels:', y.shape)\n",
        "y"
      ],
      "execution_count": 4,
      "outputs": [
        {
          "output_type": "stream",
          "text": [
            "data: (55, 11)\n",
            "[[3 4 3 1 2 4 1 4 3 4 4]\n",
            " [2 3 5 4 3 5 1 4 4 4 4]\n",
            " [4 5 5 3 5 3 1 5 4 5 5]\n",
            " [1 5 3 4 3 1 1 4 3 1 3]\n",
            " [4 3 3 2 2 4 2 5 4 5 5]\n",
            " [2 3 4 3 4 3 1 4 4 4 3]\n",
            " [2 4 3 5 2 5 1 5 4 3 4]\n",
            " [3 2 1 2 3 3 1 3 3 2 2]\n",
            " [3 4 4 5 3 4 1 5 5 5 5]\n",
            " [3 3 4 4 1 5 2 5 3 5 5]\n",
            " [2 4 3 4 3 4 1 5 4 4 4]\n",
            " [2 3 4 3 2 4 2 3 3 3 2]\n",
            " [3 4 4 4 3 5 2 5 5 4 3]\n",
            " [5 4 5 2 3 5 1 5 4 5 5]\n",
            " [3 3 3 3 3 2 1 3 2 3 3]\n",
            " [3 5 5 4 4 3 1 5 5 5 3]\n",
            " [4 5 5 3 5 5 1 5 4 5 4]\n",
            " [2 5 3 4 2 4 1 4 5 4 4]\n",
            " [3 4 4 2 1 2 2 4 2 3 2]\n",
            " [1 4 5 5 4 4 2 5 4 5 5]\n",
            " [1 4 2 3 5 2 5 5 5 4 5]\n",
            " [4 5 4 4 2 2 2 5 3 3 5]\n",
            " [2 3 4 2 4 5 4 5 5 5 4]\n",
            " [4 3 4 5 2 5 1 5 3 5 4]\n",
            " [2 3 1 3 3 3 1 4 3 3 4]\n",
            " [3 5 2 5 3 5 4 5 4 5 4]\n",
            " [3 4 3 4 4 3 1 4 4 4 4]\n",
            " [4 4 1 4 4 3 1 5 3 2 5]\n",
            " [2 5 2 4 4 1 3 4 4 5 4]\n",
            " [2 5 4 3 4 3 1 5 4 5 4]\n",
            " [3 4 2 3 5 3 2 5 5 3 4]\n",
            " [1 5 3 5 5 3 2 5 4 4 4]\n",
            " [4 4 3 5 5 5 4 5 4 4 4]\n",
            " [4 4 3 2 4 1 1 5 5 5 4]\n",
            " [2 4 2 4 4 4 4 4 4 2 3]\n",
            " [1 5 2 3 5 4 1 5 2 5 5]\n",
            " [2 4 4 3 1 4 1 5 3 4 5]\n",
            " [3 4 2 4 5 3 1 5 4 3 4]\n",
            " [2 4 3 4 3 2 2 4 3 3 4]\n",
            " [4 4 5 3 1 4 1 5 3 3 4]\n",
            " [2 2 3 4 4 3 2 5 4 5 5]\n",
            " [2 5 5 4 1 5 1 4 4 5 4]\n",
            " [2 5 2 3 3 3 1 5 4 5 4]\n",
            " [4 5 4 2 1 3 1 5 4 5 4]\n",
            " [3 3 4 4 3 3 1 5 4 5 4]\n",
            " [1 4 4 1 1 4 1 5 3 4 4]\n",
            " [1 5 3 1 1 4 1 5 5 5 5]\n",
            " [3 5 3 2 4 4 3 4 4 3 4]\n",
            " [4 4 1 2 3 2 1 4 3 3 4]\n",
            " [3 4 4 4 2 3 3 4 4 4 4]\n",
            " [3 4 4 5 5 4 5 5 4 5 5]\n",
            " [1 5 4 4 5 3 5 5 4 4 5]\n",
            " [3 4 4 3 2 4 1 4 4 5 5]\n",
            " [2 3 4 3 4 2 1 4 4 3 3]\n",
            " [2 5 4 2 2 4 1 5 3 5 5]]\n",
            "\n",
            "labels: (55,)\n"
          ],
          "name": "stdout"
        },
        {
          "output_type": "execute_result",
          "data": {
            "text/plain": [
              "array([3, 1, 2, 4, 1, 3, 1, 4, 1, 1, 2, 1, 1, 1, 4, 2, 1, 2, 3, 1, 0, 1,\n",
              "       0, 1, 3, 0, 2, 2, 1, 2, 1, 1, 0, 4, 0, 2, 2, 2, 2, 2, 1, 1, 3, 3,\n",
              "       2, 3, 2, 0, 3, 1, 0, 0, 2, 3, 2], dtype=int8)"
            ]
          },
          "metadata": {
            "tags": []
          },
          "execution_count": 4
        }
      ]
    },
    {
      "cell_type": "markdown",
      "metadata": {
        "id": "weA_YaBvEZEL"
      },
      "source": [
        "## Split out train/test sets"
      ]
    },
    {
      "cell_type": "code",
      "metadata": {
        "colab": {
          "base_uri": "https://localhost:8080/"
        },
        "id": "r8IXSeI0ELoj",
        "outputId": "e4e47ff0-9c86-4c27-de04-f514004f35ec"
      },
      "source": [
        "Xtrain, Xtest, ytrain, ytest = train_test_split(X, y, test_size=0.5, random_state=0)\n",
        "print('Xtrain.shape:', Xtrain.shape)\n",
        "print('ytrain.shape:', ytrain.shape)\n",
        "print('Xtest.shape:', Xtest.shape)\n",
        "print('ytest.shape:', ytest.shape)"
      ],
      "execution_count": 5,
      "outputs": [
        {
          "output_type": "stream",
          "text": [
            "Xtrain.shape: (27, 11)\n",
            "ytrain.shape: (27,)\n",
            "Xtest.shape: (28, 11)\n",
            "ytest.shape: (28,)\n"
          ],
          "name": "stdout"
        }
      ]
    },
    {
      "cell_type": "code",
      "metadata": {
        "colab": {
          "base_uri": "https://localhost:8080/"
        },
        "id": "0Jx7eOy-EjC1",
        "outputId": "8c406d16-c387-4e5c-b58d-b9ca0077c091"
      },
      "source": [
        "model = KNeighborsClassifier(n_neighbors=1, metric='euclidean')\n",
        "model.fit(Xtrain, ytrain)\n"
      ],
      "execution_count": 6,
      "outputs": [
        {
          "output_type": "execute_result",
          "data": {
            "text/plain": [
              "KNeighborsClassifier(algorithm='auto', leaf_size=30, metric='euclidean',\n",
              "                     metric_params=None, n_jobs=None, n_neighbors=1, p=2,\n",
              "                     weights='uniform')"
            ]
          },
          "metadata": {
            "tags": []
          },
          "execution_count": 6
        }
      ]
    },
    {
      "cell_type": "code",
      "metadata": {
        "colab": {
          "base_uri": "https://localhost:8080/"
        },
        "id": "Fg3BE5rHErl4",
        "outputId": "9213511f-5369-4f7f-9f4d-f3251bcf94fe"
      },
      "source": [
        "preds = model.predict(Xtest)\n",
        "accuracy_score(ytest, preds)\n"
      ],
      "execution_count": 7,
      "outputs": [
        {
          "output_type": "execute_result",
          "data": {
            "text/plain": [
              "0.39285714285714285"
            ]
          },
          "metadata": {
            "tags": []
          },
          "execution_count": 7
        }
      ]
    },
    {
      "cell_type": "markdown",
      "metadata": {
        "id": "tqnUK_lKhUzk"
      },
      "source": [
        "## Testing a range of values for K using a loop"
      ]
    },
    {
      "cell_type": "code",
      "metadata": {
        "colab": {
          "base_uri": "https://localhost:8080/"
        },
        "id": "oJfEHqNSExTT",
        "outputId": "3d9053d6-3416-4f2f-db71-047c647164b1"
      },
      "source": [
        "k_vals = np.arange(1, 21)\n",
        "acc_vals = []\n",
        "\n",
        "for k in k_vals:\n",
        "  model = KNeighborsClassifier(n_neighbors=k, metric='euclidean')\n",
        "  model.fit(Xtrain, ytrain)\n",
        "  preds = model.predict(Xtest)\n",
        "  acc = accuracy_score(ytest, preds)\n",
        "  acc_vals.append(acc)\n",
        "  print('K = {:02d}: Acc = {:.2f}'.format(k, acc))\n",
        "\n",
        "best_idx = np.argmax(acc_vals)\n",
        "best_k = k_vals[best_idx]\n",
        "print('Best k =', best_k)"
      ],
      "execution_count": 8,
      "outputs": [
        {
          "output_type": "stream",
          "text": [
            "K = 01: Acc = 0.39\n",
            "K = 02: Acc = 0.54\n",
            "K = 03: Acc = 0.39\n",
            "K = 04: Acc = 0.43\n",
            "K = 05: Acc = 0.43\n",
            "K = 06: Acc = 0.46\n",
            "K = 07: Acc = 0.29\n",
            "K = 08: Acc = 0.29\n",
            "K = 09: Acc = 0.39\n",
            "K = 10: Acc = 0.32\n",
            "K = 11: Acc = 0.29\n",
            "K = 12: Acc = 0.21\n",
            "K = 13: Acc = 0.21\n",
            "K = 14: Acc = 0.25\n",
            "K = 15: Acc = 0.29\n",
            "K = 16: Acc = 0.29\n",
            "K = 17: Acc = 0.25\n",
            "K = 18: Acc = 0.21\n",
            "K = 19: Acc = 0.25\n",
            "K = 20: Acc = 0.25\n",
            "Best k = 2\n"
          ],
          "name": "stdout"
        }
      ]
    },
    {
      "cell_type": "code",
      "metadata": {
        "colab": {
          "base_uri": "https://localhost:8080/",
          "height": 295
        },
        "id": "FFcshdRSGGn5",
        "outputId": "42216ec1-c93a-4211-d80f-62edebd79b9b"
      },
      "source": [
        "plt.plot(k_vals, acc_vals, '.b:')\n",
        "plt.plot(k_vals[best_idx], acc_vals[best_idx], 'o', color='orange', markerSize=8)\n",
        "plt.annotate('Best accuracy', (k_vals[best_idx], acc_vals[best_idx]), (k_vals[best_idx] + 0.5, acc_vals[best_idx]))\n",
        "plt.xlabel('K')\n",
        "plt.ylabel('Accuracy')\n",
        "plt.title('Accuracy vs. K')\n",
        "plt.show()"
      ],
      "execution_count": 9,
      "outputs": [
        {
          "output_type": "display_data",
          "data": {
            "image/png": "[encoded data removed]",
            "text/plain": [
              "<Figure size 432x288 with 1 Axes>"
            ]
          },
          "metadata": {
            "tags": [],
            "needs_background": "light"
          }
        }
      ]
    },
    {
      "cell_type": "markdown",
      "metadata": {
        "id": "6SScrfd8IZAN"
      },
      "source": [
        "## Show accuracy and a confusion matrix for the best K value."
      ]
    },
    {
      "cell_type": "code",
      "metadata": {
        "colab": {
          "base_uri": "https://localhost:8080/"
        },
        "id": "df33axp4GW-F",
        "outputId": "9856ba03-8c5b-4380-bd2c-bc245bc2a0f3"
      },
      "source": [
        "model = KNeighborsClassifier(n_neighbors=best_k, metric='euclidean')\n",
        "model.fit(Xtrain, ytrain)\n",
        "preds = model.predict(Xtest)\n",
        "acc = accuracy_score(ytest, preds)\n",
        "print('Best accuracy:', acc)"
      ],
      "execution_count": 10,
      "outputs": [
        {
          "output_type": "stream",
          "text": [
            "Best accuracy: 0.5357142857142857\n"
          ],
          "name": "stdout"
        }
      ]
    },
    {
      "cell_type": "code",
      "metadata": {
        "colab": {
          "base_uri": "https://localhost:8080/",
          "height": 380
        },
        "id": "McatgnvaIntE",
        "outputId": "a87f7d4c-ee27-4e7b-a606-2d4ee394d23d"
      },
      "source": [
        "cm = confusion_matrix(ytest, preds)\n",
        "print(cm)\n",
        "\n",
        "sns.heatmap(cm, square=True, annot=True, fmt='d', cbar=True, cmap=\"PuBu\",\n",
        "                    xticklabels=model.classes_,\n",
        "                    yticklabels=model.classes_)\n",
        "\n",
        "plt.xlabel('Predicted Label');\n",
        "plt.ylabel('True Label')\n",
        "plt.title('Iris Classification Confusion Matrix')\n",
        "plt.show()"
      ],
      "execution_count": 11,
      "outputs": [
        {
          "output_type": "stream",
          "text": [
            "[[4 0 0 0 0]\n",
            " [1 5 1 0 0]\n",
            " [0 3 6 1 0]\n",
            " [0 0 4 0 0]\n",
            " [0 0 2 1 0]]\n"
          ],
          "name": "stdout"
        },
        {
          "output_type": "display_data",
          "data": {
            "image/png": "[encoded data removed]",
            "text/plain": [
              "<Figure size 432x288 with 2 Axes>"
            ]
          },
          "metadata": {
            "tags": [],
            "needs_background": "light"
          }
        }
      ]
    },
    {
      "cell_type": "markdown",
      "metadata": {
        "id": "-ErxQweCJWH3"
      },
      "source": [
        "## In a text cell, answer these questions:\n",
        "- Is your accuracy good? How does it compare to random chance?\n",
        "  - Since there are 5 possible values for the target value, random chance would be 20%. So, an accuracy of 54% is actually pretty good.\n",
        "- Based on the confusion matrix, what is your model best/worst at?\n",
        "  - The model is good at class 0 (A), correctly predicting every actual example. It also incorrectly predicts 0 once when the actual label is 1.\n",
        "  - The model is not good at predicting classes 3 and 4, which are always incorrect."
      ]
    },
    {
      "cell_type": "markdown",
      "metadata": {
        "id": "5n0WhBtlK0CW"
      },
      "source": [
        "--------------------------\n",
        "# Challenges\n",
        "Try using a regression model to predict grade."
      ]
    },
    {
      "cell_type": "code",
      "metadata": {
        "colab": {
          "base_uri": "https://localhost:8080/"
        },
        "id": "p3gCF1sQNJBD",
        "outputId": "ffe2f4d9-6e76-489a-ebd2-fdc9b3544587"
      },
      "source": [
        "from sklearn.neighbors import KNeighborsRegressor\n",
        "model = KNeighborsRegressor(n_neighbors=4, metric='euclidean')\n",
        "model.fit(Xtrain, ytrain)"
      ],
      "execution_count": 12,
      "outputs": [
        {
          "output_type": "execute_result",
          "data": {
            "text/plain": [
              "KNeighborsRegressor(algorithm='auto', leaf_size=30, metric='euclidean',\n",
              "                    metric_params=None, n_jobs=None, n_neighbors=4, p=2,\n",
              "                    weights='uniform')"
            ]
          },
          "metadata": {
            "tags": []
          },
          "execution_count": 12
        }
      ]
    },
    {
      "cell_type": "code",
      "metadata": {
        "colab": {
          "base_uri": "https://localhost:8080/"
        },
        "id": "RI83WVr_NsaQ",
        "outputId": "5823ee47-73fe-41f9-b71e-f6133f03e496"
      },
      "source": [
        "preds = model.predict(Xtest)\n",
        "preds"
      ],
      "execution_count": 13,
      "outputs": [
        {
          "output_type": "execute_result",
          "data": {
            "text/plain": [
              "array([2.25, 2.75, 1.5 , 2.5 , 2.25, 1.25, 0.25, 2.25, 2.5 , 2.  , 1.75,\n",
              "       2.  , 1.25, 0.5 , 1.5 , 1.75, 2.75, 3.  , 2.75, 2.25, 2.5 , 0.25,\n",
              "       2.  , 1.75, 0.75, 1.25, 2.  , 2.  ])"
            ]
          },
          "metadata": {
            "tags": []
          },
          "execution_count": 13
        }
      ]
    },
    {
      "cell_type": "code",
      "metadata": {
        "colab": {
          "base_uri": "https://localhost:8080/"
        },
        "id": "T-1AYp_6N0gf",
        "outputId": "1fa2ad02-e1bc-4a4f-8ef1-68815463442c"
      },
      "source": [
        "error = np.abs(preds - ytest)\n",
        "error"
      ],
      "execution_count": 14,
      "outputs": [
        {
          "output_type": "execute_result",
          "data": {
            "text/plain": [
              "array([0.75, 1.25, 0.5 , 0.5 , 1.25, 0.75, 0.25, 0.75, 0.5 , 1.  , 0.75,\n",
              "       0.  , 0.25, 0.5 , 0.5 , 0.75, 0.75, 1.  , 1.25, 0.25, 0.5 , 0.25,\n",
              "       1.  , 0.25, 0.75, 0.75, 1.  , 0.  ])"
            ]
          },
          "metadata": {
            "tags": []
          },
          "execution_count": 14
        }
      ]
    },
    {
      "cell_type": "code",
      "metadata": {
        "colab": {
          "base_uri": "https://localhost:8080/"
        },
        "id": "qc9dQhW1N8ct",
        "outputId": "07dbc00d-6563-4b67-cadb-322efff487c9"
      },
      "source": [
        "# Mean Absolute Error\n",
        "mae = error.mean()\n",
        "mae"
      ],
      "execution_count": 15,
      "outputs": [
        {
          "output_type": "execute_result",
          "data": {
            "text/plain": [
              "0.6428571428571429"
            ]
          },
          "metadata": {
            "tags": []
          },
          "execution_count": 15
        }
      ]
    },
    {
      "cell_type": "code",
      "metadata": {
        "id": "B_pJimIlOCcc"
      },
      "source": [
        ""
      ],
      "execution_count": 15,
      "outputs": []
    }
  ]
}