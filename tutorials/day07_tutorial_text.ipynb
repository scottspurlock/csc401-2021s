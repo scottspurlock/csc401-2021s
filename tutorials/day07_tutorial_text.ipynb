{
  "nbformat": 4,
  "nbformat_minor": 0,
  "metadata": {
    "colab": {
      "name": "day07_tutorial_text.ipynb",
      "provenance": [],
      "toc_visible": true,
      "authorship_tag": "ABX9TyNXUylEHjSuRVyIiQ5/Yssl",
      "include_colab_link": true
    },
    "kernelspec": {
      "name": "python3",
      "display_name": "Python 3"
    }
  },
  "cells": [
    {
      "cell_type": "markdown",
      "metadata": {
        "id": "view-in-github",
        "colab_type": "text"
      },
      "source": [
        "<a href=\"https://colab.research.google.com/github/scottspurlock/csc401-2021s/blob/main/tutorials/day07_tutorial_text.ipynb\" target=\"_parent\"><img src=\"https://colab.research.google.com/assets/colab-badge.svg\" alt=\"Open In Colab\"/></a>"
      ]
    },
    {
      "cell_type": "markdown",
      "metadata": {
        "id": "JzWO9zd6akCv"
      },
      "source": [
        "# Day 7 Tutorial: Text Mining\n",
        "- Cosine distance\n",
        "- Preprocessing\n",
        "- Feature extraction (TF-IDF)\n",
        "- Finding similar documents\n"
      ]
    },
    {
      "cell_type": "code",
      "metadata": {
        "id": "X-QN9j3gbcsu"
      },
      "source": [
        "import numpy as np\n",
        "import matplotlib.pyplot as plt\n",
        "import pandas as pd\n",
        "\n",
        "import seaborn as sns;\n",
        "from sklearn.model_selection import train_test_split\n",
        "from sklearn.neighbors import KNeighborsClassifier\n",
        "from sklearn.metrics import confusion_matrix\n"
      ],
      "execution_count": 1,
      "outputs": []
    },
    {
      "cell_type": "markdown",
      "metadata": {
        "id": "IOllp3fKJyy_"
      },
      "source": [
        "## Cosine Distance\n",
        "Euclidean or manhattan distance may not be as effective with sparse data (i.e., lots of zeros). Because text feature vectors are generally sparse (most documents contain only a small subset of the possible words), cosine distance is often used."
      ]
    },
    {
      "cell_type": "code",
      "metadata": {
        "colab": {
          "base_uri": "https://localhost:8080/"
        },
        "id": "H0Fn4X94a9oD",
        "outputId": "f8d5bb07-8802-44de-9ca4-0c7a6de67c76"
      },
      "source": [
        "doc1 = np.array([1, 1, 0, 0, 0, 0, 0])\n",
        "doc2 = np.array([1, 0, 0, 0, 0, 0, 0])\n",
        "doc3 = np.array([0, 0, 1, 1, 1, 1, 1])\n",
        "print(doc1)\n",
        "print(doc2)\n",
        "print(doc3)"
      ],
      "execution_count": 2,
      "outputs": [
        {
          "output_type": "stream",
          "text": [
            "[1 1 0 0 0 0 0]\n",
            "[1 0 0 0 0 0 0]\n",
            "[0 0 1 1 1 1 1]\n"
          ],
          "name": "stdout"
        }
      ]
    },
    {
      "cell_type": "code",
      "metadata": {
        "colab": {
          "base_uri": "https://localhost:8080/"
        },
        "id": "cdP9M6PeIxZX",
        "outputId": "0bcd0e33-cf92-4010-f722-b5e2feae8c3d"
      },
      "source": [
        "from scipy.spatial import distance\n",
        "\n",
        "print('Cosine Distance:')\n",
        "print(distance.cosine(doc1, doc1))\n",
        "print(distance.cosine(doc1, doc2))\n",
        "print(distance.cosine(doc1, doc3))\n"
      ],
      "execution_count": 3,
      "outputs": [
        {
          "output_type": "stream",
          "text": [
            "Cosine Distance:\n",
            "0.0\n",
            "0.2928932188134524\n",
            "1.0\n"
          ],
          "name": "stdout"
        }
      ]
    },
    {
      "cell_type": "markdown",
      "metadata": {
        "id": "ICwk0o6SeDZm"
      },
      "source": [
        "## Data"
      ]
    },
    {
      "cell_type": "code",
      "metadata": {
        "colab": {
          "base_uri": "https://localhost:8080/",
          "height": 142
        },
        "id": "iI8qDKY6rwHC",
        "outputId": "c647e0f4-5f07-4067-ae99-8c8c890ac065"
      },
      "source": [
        "# Create a corpus (collection of documents) with some simple text data.\n",
        "data = [\n",
        "        [\"Mr. Green killed Colonel Mustard in the study with the candlestick. Mr. Green is not a very nice fellow.\"], \n",
        "        [\"Professor Plum has a green plant in his study.\"], \n",
        "        [\"Miss Scarlett watered Professor Plum's green plant while he was away from his office last week.\"]\n",
        "       ] \n",
        "  \n",
        "df = pd.DataFrame(data, columns=['doc_text'])\n",
        "\n",
        "# Force Pandas to show the full column of text\n",
        "pd.set_option('display.max_colwidth', None)\n",
        "\n",
        "df"
      ],
      "execution_count": 4,
      "outputs": [
        {
          "output_type": "execute_result",
          "data": {
            "text/html": [
              "<div>\n",
              "<style scoped>\n",
              "    .dataframe tbody tr th:only-of-type {\n",
              "        vertical-align: middle;\n",
              "    }\n",
              "\n",
              "    .dataframe tbody tr th {\n",
              "        vertical-align: top;\n",
              "    }\n",
              "\n",
              "    .dataframe thead th {\n",
              "        text-align: right;\n",
              "    }\n",
              "</style>\n",
              "<table border=\"1\" class=\"dataframe\">\n",
              "  <thead>\n",
              "    <tr style=\"text-align: right;\">\n",
              "      <th></th>\n",
              "      <th>doc_text</th>\n",
              "    </tr>\n",
              "  </thead>\n",
              "  <tbody>\n",
              "    <tr>\n",
              "      <th>0</th>\n",
              "      <td>Mr. Green killed Colonel Mustard in the study with the candlestick. Mr. Green is not a very nice fellow.</td>\n",
              "    </tr>\n",
              "    <tr>\n",
              "      <th>1</th>\n",
              "      <td>Professor Plum has a green plant in his study.</td>\n",
              "    </tr>\n",
              "    <tr>\n",
              "      <th>2</th>\n",
              "      <td>Miss Scarlett watered Professor Plum's green plant while he was away from his office last week.</td>\n",
              "    </tr>\n",
              "  </tbody>\n",
              "</table>\n",
              "</div>"
            ],
            "text/plain": [
              "                                                                                                   doc_text\n",
              "0  Mr. Green killed Colonel Mustard in the study with the candlestick. Mr. Green is not a very nice fellow.\n",
              "1                                                            Professor Plum has a green plant in his study.\n",
              "2           Miss Scarlett watered Professor Plum's green plant while he was away from his office last week."
            ]
          },
          "metadata": {
            "tags": []
          },
          "execution_count": 4
        }
      ]
    },
    {
      "cell_type": "markdown",
      "metadata": {
        "id": "Gz8_IrEILwPx"
      },
      "source": [
        "## Pre-processing and feature extraction"
      ]
    },
    {
      "cell_type": "markdown",
      "metadata": {
        "id": "EfOyCwUfNgPZ"
      },
      "source": [
        "### Extract terms and count occurrences"
      ]
    },
    {
      "cell_type": "code",
      "metadata": {
        "colab": {
          "base_uri": "https://localhost:8080/"
        },
        "id": "KjZ2SJb7MquH",
        "outputId": "6e365825-3f66-4abc-de32-d0e78ce773b8"
      },
      "source": [
        "from sklearn.feature_extraction.text import CountVectorizer\n",
        "\n",
        "# Specify stop words that should be ignored.\n",
        "stop_list = ['a', 'an', 'the']\n",
        "\n",
        "# The next 2 lines accomplish several steps:\n",
        "# - makes everything lowercase (optional)\n",
        "# - removes stop words\n",
        "# - removes punctuation\n",
        "# - tokenization\n",
        "# Note that there is no easy way to do stemming without another library, nltk.\n",
        "count_vect = CountVectorizer(lowercase=True, stop_words=stop_list)\n",
        "sparse_counts = count_vect.fit_transform(df['doc_text'])\n",
        "\n",
        "count_vect.get_feature_names()"
      ],
      "execution_count": 5,
      "outputs": [
        {
          "output_type": "execute_result",
          "data": {
            "text/plain": [
              "['away',\n",
              " 'candlestick',\n",
              " 'colonel',\n",
              " 'fellow',\n",
              " 'from',\n",
              " 'green',\n",
              " 'has',\n",
              " 'he',\n",
              " 'his',\n",
              " 'in',\n",
              " 'is',\n",
              " 'killed',\n",
              " 'last',\n",
              " 'miss',\n",
              " 'mr',\n",
              " 'mustard',\n",
              " 'nice',\n",
              " 'not',\n",
              " 'office',\n",
              " 'plant',\n",
              " 'plum',\n",
              " 'professor',\n",
              " 'scarlett',\n",
              " 'study',\n",
              " 'very',\n",
              " 'was',\n",
              " 'watered',\n",
              " 'week',\n",
              " 'while',\n",
              " 'with']"
            ]
          },
          "metadata": {
            "tags": []
          },
          "execution_count": 5
        }
      ]
    },
    {
      "cell_type": "code",
      "metadata": {
        "colab": {
          "base_uri": "https://localhost:8080/"
        },
        "id": "qRHccH4SPayE",
        "outputId": "7fe08037-b5e3-4d7c-f86a-fcd34d25c6cb"
      },
      "source": [
        "sparse_counts"
      ],
      "execution_count": 6,
      "outputs": [
        {
          "output_type": "execute_result",
          "data": {
            "text/plain": [
              "<3x30 sparse matrix of type '<class 'numpy.int64'>'\n",
              "\twith 38 stored elements in Compressed Sparse Row format>"
            ]
          },
          "metadata": {
            "tags": []
          },
          "execution_count": 6
        }
      ]
    },
    {
      "cell_type": "markdown",
      "metadata": {
        "id": "yR8O5x8_O62M"
      },
      "source": [
        "The CountVectorizer returns a sparse matrix, a specialized data structure that is more efficient than a regular matrix for sparse data. We can convert it for ease of use."
      ]
    },
    {
      "cell_type": "code",
      "metadata": {
        "colab": {
          "base_uri": "https://localhost:8080/"
        },
        "id": "nSmJEjmGO1lt",
        "outputId": "dc7b5f93-4700-4721-8ed9-72fe325d4a31"
      },
      "source": [
        "counts = sparse_counts.todense()\n",
        "counts"
      ],
      "execution_count": 7,
      "outputs": [
        {
          "output_type": "execute_result",
          "data": {
            "text/plain": [
              "matrix([[0, 1, 1, 1, 0, 2, 0, 0, 0, 1, 1, 1, 0, 0, 2, 1, 1, 1, 0, 0, 0,\n",
              "         0, 0, 1, 1, 0, 0, 0, 0, 1],\n",
              "        [0, 0, 0, 0, 0, 1, 1, 0, 1, 1, 0, 0, 0, 0, 0, 0, 0, 0, 0, 1, 1,\n",
              "         1, 0, 1, 0, 0, 0, 0, 0, 0],\n",
              "        [1, 0, 0, 0, 1, 1, 0, 1, 1, 0, 0, 0, 1, 1, 0, 0, 0, 0, 1, 1, 1,\n",
              "         1, 1, 0, 0, 1, 1, 1, 1, 0]])"
            ]
          },
          "metadata": {
            "tags": []
          },
          "execution_count": 7
        }
      ]
    },
    {
      "cell_type": "code",
      "metadata": {
        "colab": {
          "base_uri": "https://localhost:8080/"
        },
        "id": "LPq9omg7Pkjc",
        "outputId": "a755b3dd-7711-4ad5-e1ba-6bd668c27cc7"
      },
      "source": [
        "feat_idx = 5\n",
        "feat_name = count_vect.get_feature_names()[feat_idx]\n",
        "print('Counts for feature:', feat_name)\n",
        "\n",
        "counts[:, feat_idx]"
      ],
      "execution_count": 8,
      "outputs": [
        {
          "output_type": "stream",
          "text": [
            "Counts for feature: green\n"
          ],
          "name": "stdout"
        },
        {
          "output_type": "execute_result",
          "data": {
            "text/plain": [
              "matrix([[2],\n",
              "        [1],\n",
              "        [1]])"
            ]
          },
          "metadata": {
            "tags": []
          },
          "execution_count": 8
        }
      ]
    },
    {
      "cell_type": "markdown",
      "metadata": {
        "id": "AzvEjKphQwyB"
      },
      "source": [
        "### TF-IDF Scores\n",
        "We generally get better results using TF-IDF scores than using simple counts as features."
      ]
    },
    {
      "cell_type": "code",
      "metadata": {
        "colab": {
          "base_uri": "https://localhost:8080/"
        },
        "id": "d-MZrd5wQVHt",
        "outputId": "fd09fd26-e5ef-4abb-ee61-d04ba65c8c18"
      },
      "source": [
        "from sklearn.feature_extraction.text import TfidfTransformer\n",
        "\n",
        "tfidf_transformer = TfidfTransformer()\n",
        "sparse_tfidf = tfidf_transformer.fit_transform(counts)\n",
        "tfidf = sparse_tfidf.todense()\n",
        "tfidf"
      ],
      "execution_count": 9,
      "outputs": [
        {
          "output_type": "execute_result",
          "data": {
            "text/plain": [
              "matrix([[0.        , 0.24579517, 0.24579517, 0.24579517, 0.        ,\n",
              "         0.29034117, 0.        , 0.        , 0.        , 0.18693356,\n",
              "         0.24579517, 0.24579517, 0.        , 0.        , 0.49159033,\n",
              "         0.24579517, 0.24579517, 0.24579517, 0.        , 0.        ,\n",
              "         0.        , 0.        , 0.        , 0.18693356, 0.24579517,\n",
              "         0.        , 0.        , 0.        , 0.        , 0.24579517],\n",
              "        [0.        , 0.        , 0.        , 0.        , 0.        ,\n",
              "         0.26903992, 0.45552418, 0.        , 0.34643788, 0.34643788,\n",
              "         0.        , 0.        , 0.        , 0.        , 0.        ,\n",
              "         0.        , 0.        , 0.        , 0.        , 0.34643788,\n",
              "         0.34643788, 0.34643788, 0.        , 0.34643788, 0.        ,\n",
              "         0.        , 0.        , 0.        , 0.        , 0.        ],\n",
              "        [0.27054288, 0.        , 0.        , 0.        , 0.27054288,\n",
              "         0.15978698, 0.        , 0.27054288, 0.20575483, 0.        ,\n",
              "         0.        , 0.        , 0.27054288, 0.27054288, 0.        ,\n",
              "         0.        , 0.        , 0.        , 0.27054288, 0.20575483,\n",
              "         0.20575483, 0.20575483, 0.27054288, 0.        , 0.        ,\n",
              "         0.27054288, 0.27054288, 0.27054288, 0.27054288, 0.        ]])"
            ]
          },
          "metadata": {
            "tags": []
          },
          "execution_count": 9
        }
      ]
    },
    {
      "cell_type": "code",
      "metadata": {
        "colab": {
          "base_uri": "https://localhost:8080/"
        },
        "id": "Izl2RM6sRaTJ",
        "outputId": "b3addf5f-8264-4eab-8176-1927f14deb7a"
      },
      "source": [
        "feat_idx = 5\n",
        "feat_name = count_vect.get_feature_names()[feat_idx]\n",
        "print('TFIDF for feature:', feat_name)\n",
        "\n",
        "tfidf[:, feat_idx]"
      ],
      "execution_count": 10,
      "outputs": [
        {
          "output_type": "stream",
          "text": [
            "TFIDF for feature: green\n"
          ],
          "name": "stdout"
        },
        {
          "output_type": "execute_result",
          "data": {
            "text/plain": [
              "matrix([[0.29034117],\n",
              "        [0.26903992],\n",
              "        [0.15978698]])"
            ]
          },
          "metadata": {
            "tags": []
          },
          "execution_count": 10
        }
      ]
    },
    {
      "cell_type": "markdown",
      "metadata": {
        "id": "QFpjdNA0SnI7"
      },
      "source": [
        "We can display the TF-IDF feature vectors as a heatmap to get a feel for patterns in the data."
      ]
    },
    {
      "cell_type": "code",
      "metadata": {
        "colab": {
          "base_uri": "https://localhost:8080/",
          "height": 179
        },
        "id": "utKmoQYyRymo",
        "outputId": "fd573f4b-88cd-45d2-90ac-2b5068087554"
      },
      "source": [
        "# Display feature vectors as a heatmap\n",
        "plt.figure(figsize=(10, 1))\n",
        "sns.heatmap(tfidf, square=False, annot=False, cbar=True, cmap=\"Purples\",\n",
        "            xticklabels=count_vect.get_feature_names())\n",
        "\n",
        "plt.xticks(rotation=90) \n",
        "plt.xlabel('Features')\n",
        "plt.ylabel('Examples')\n",
        "plt.title('TF-IDF Feature Vectors')\n",
        "plt.show()"
      ],
      "execution_count": 11,
      "outputs": [
        {
          "output_type": "display_data",
          "data": {
            "image/png": "[encoded data removed]",
            "text/plain": [
              "<Figure size 720x72 with 2 Axes>"
            ]
          },
          "metadata": {
            "tags": [],
            "needs_background": "light"
          }
        }
      ]
    },
    {
      "cell_type": "markdown",
      "metadata": {
        "id": "5mjRpf5WUOeJ"
      },
      "source": [
        "## Finding similar documents\n",
        "We can build a nearest neighbors model (NOT a classifier) to find similar documents among the training examples for a given new example."
      ]
    },
    {
      "cell_type": "code",
      "metadata": {
        "colab": {
          "base_uri": "https://localhost:8080/"
        },
        "id": "vCyHoJJ7UtwK",
        "outputId": "0a64fbc0-5a84-4186-f10e-33c04c312df8"
      },
      "source": [
        "# Let's make up a new example. (Note that wrapping the string in square brackets\n",
        "# makes it a Python list of size 1.)\n",
        "new_example = [\"Miss Scarlett and Colonel Mustard have a son named Mr. Orange. He likes to study in the study.\"]\n",
        "new_example"
      ],
      "execution_count": 12,
      "outputs": [
        {
          "output_type": "execute_result",
          "data": {
            "text/plain": [
              "['Miss Scarlett and Colonel Mustard have a son named Mr. Orange. He likes to study in the study.']"
            ]
          },
          "metadata": {
            "tags": []
          },
          "execution_count": 12
        }
      ]
    },
    {
      "cell_type": "code",
      "metadata": {
        "colab": {
          "base_uri": "https://localhost:8080/"
        },
        "id": "2RczxLILVhAu",
        "outputId": "717c122b-8533-4e6a-acc9-19392bf63eeb"
      },
      "source": [
        "# We use our same transformers that have been fit to the data.\n",
        "# This is important because the tfidf scores in a feature vector need to refer\n",
        "# to the same terms in order to compare two vectors (documents).\n",
        "new_counts = count_vect.transform(new_example)\n",
        "print('New feature counts:\\n', new_counts.todense())\n",
        "new_tfidf = tfidf_transformer.transform(new_counts)\n",
        "new_tfidf = new_tfidf.todense()\n",
        "print('\\nNew TF-IDF scores:')\n",
        "new_tfidf"
      ],
      "execution_count": 13,
      "outputs": [
        {
          "output_type": "stream",
          "text": [
            "New feature counts:\n",
            " [[0 0 1 0 0 0 0 1 0 1 0 0 0 1 1 1 0 0 0 0 0 0 1 2 0 0 0 0 0 0]]\n",
            "\n",
            "New TF-IDF scores:\n"
          ],
          "name": "stdout"
        },
        {
          "output_type": "execute_result",
          "data": {
            "text/plain": [
              "matrix([[0.        , 0.        , 0.33535157, 0.        , 0.        ,\n",
              "         0.        , 0.        , 0.33535157, 0.        , 0.25504351,\n",
              "         0.        , 0.        , 0.        , 0.33535157, 0.33535157,\n",
              "         0.33535157, 0.        , 0.        , 0.        , 0.        ,\n",
              "         0.        , 0.        , 0.33535157, 0.51008702, 0.        ,\n",
              "         0.        , 0.        , 0.        , 0.        , 0.        ]])"
            ]
          },
          "metadata": {
            "tags": []
          },
          "execution_count": 13
        }
      ]
    },
    {
      "cell_type": "code",
      "metadata": {
        "colab": {
          "base_uri": "https://localhost:8080/"
        },
        "id": "c7GWHudQWjvV",
        "outputId": "66e2ec65-5b34-459d-e075-cf8cb5af6860"
      },
      "source": [
        "# Find the highest valued feature\n",
        "idx = np.argmax(new_tfidf)\n",
        "feat = count_vect.get_feature_names()[idx]\n",
        "print('Highest valued feature: {}, TF-IDF score: {:.2f}'.format(feat, new_tfidf[0, idx]))"
      ],
      "execution_count": 14,
      "outputs": [
        {
          "output_type": "stream",
          "text": [
            "Highest valued feature: study, TF-IDF score: 0.51\n"
          ],
          "name": "stdout"
        }
      ]
    },
    {
      "cell_type": "code",
      "metadata": {
        "colab": {
          "base_uri": "https://localhost:8080/"
        },
        "id": "M9tT7xS_TuS1",
        "outputId": "3e356ee6-bfdc-4d6e-e972-520e16986120"
      },
      "source": [
        "# Build model to return nearest neighbors\n",
        "# (Not a classifier)\n",
        "from sklearn.neighbors import NearestNeighbors\n",
        "\n",
        "# Create the KNN model\n",
        "# Since we want to compare sparse feature vectors, we use cosine distance.\n",
        "knn = NearestNeighbors(n_neighbors=3, algorithm='brute', metric=distance.cosine)\n",
        "\n",
        "# Fit the model to the TF-IDF feature vectors\n",
        "model = knn.fit(tfidf)\n",
        "model"
      ],
      "execution_count": 15,
      "outputs": [
        {
          "output_type": "execute_result",
          "data": {
            "text/plain": [
              "NearestNeighbors(algorithm='brute', leaf_size=30,\n",
              "                 metric=<function cosine at 0x7f67ffb8e0e0>, metric_params=None,\n",
              "                 n_jobs=None, n_neighbors=3, p=2, radius=1.0)"
            ]
          },
          "metadata": {
            "tags": []
          },
          "execution_count": 15
        }
      ]
    },
    {
      "cell_type": "code",
      "metadata": {
        "colab": {
          "base_uri": "https://localhost:8080/"
        },
        "id": "lJnm3RKRXwQx",
        "outputId": "96e645e4-be73-4cba-cb2d-61c802af7d2f"
      },
      "source": [
        "distance, neighbor_idx = model.kneighbors(new_tfidf)\n",
        "\n",
        "print('Distances to neighbors:\\n', distance)\n",
        "\n",
        "print('\\nNeighbor index:')\n",
        "neighbor_idx"
      ],
      "execution_count": 16,
      "outputs": [
        {
          "output_type": "stream",
          "text": [
            "Distances to neighbors:\n",
            " [[0.52726025 0.72781907 0.7349298 ]]\n",
            "\n",
            "Neighbor index:\n"
          ],
          "name": "stdout"
        },
        {
          "output_type": "execute_result",
          "data": {
            "text/plain": [
              "array([[0, 2, 1]])"
            ]
          },
          "metadata": {
            "tags": []
          },
          "execution_count": 16
        }
      ]
    },
    {
      "cell_type": "code",
      "metadata": {
        "colab": {
          "base_uri": "https://localhost:8080/"
        },
        "id": "sZybBFE1YnT8",
        "outputId": "1ab04fdc-bc61-4d89-c514-563b4de3b82a"
      },
      "source": [
        "# Notice that the distances are a list of lists (two sets of square brackets).\n",
        "# We can iterate through the neighbors like this (using [0] to get rid of the \n",
        "# outer set of brackets):\n",
        "for i in neighbor_idx[0]:\n",
        "  print(i, df['doc_text'].iloc[i])"
      ],
      "execution_count": 17,
      "outputs": [
        {
          "output_type": "stream",
          "text": [
            "0 Mr. Green killed Colonel Mustard in the study with the candlestick. Mr. Green is not a very nice fellow.\n",
            "2 Miss Scarlett watered Professor Plum's green plant while he was away from his office last week.\n",
            "1 Professor Plum has a green plant in his study.\n"
          ],
          "name": "stdout"
        }
      ]
    },
    {
      "cell_type": "code",
      "metadata": {
        "id": "EHW87kUwY18Z"
      },
      "source": [
        ""
      ],
      "execution_count": 17,
      "outputs": []
    }
  ]
}