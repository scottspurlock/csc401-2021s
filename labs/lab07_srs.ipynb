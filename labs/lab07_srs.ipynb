{
  "nbformat": 4,
  "nbformat_minor": 0,
  "metadata": {
    "kernelspec": {
      "display_name": "Python 3.7.6 64-bit ('dmml': conda)",
      "language": "python",
      "name": "python37664bitdmmlconda7d4afbff5b404228ba9f7a4defc4d22f"
    },
    "language_info": {
      "codemirror_mode": {
        "name": "ipython",
        "version": 3
      },
      "file_extension": ".py",
      "mimetype": "text/x-python",
      "name": "python",
      "nbconvert_exporter": "python",
      "pygments_lexer": "ipython3",
      "version": "3.7.6"
    },
    "colab": {
      "name": "lab07_srs.ipynb",
      "provenance": [],
      "include_colab_link": true
    }
  },
  "cells": [
    {
      "cell_type": "markdown",
      "metadata": {
        "id": "view-in-github",
        "colab_type": "text"
      },
      "source": [
        "<a href=\"https://colab.research.google.com/github/scottspurlock/csc401-2021s/blob/main/labs/lab07_srs.ipynb\" target=\"_parent\"><img src=\"https://colab.research.google.com/assets/colab-badge.svg\" alt=\"Open In Colab\"/></a>"
      ]
    },
    {
      "cell_type": "markdown",
      "metadata": {
        "id": "_Gp4ytJ91pUJ"
      },
      "source": [
        "# Lab 7: KNN\n",
        "## Scott Spurlock\n",
        "### 3/3/2021"
      ]
    },
    {
      "cell_type": "code",
      "metadata": {
        "id": "BRDPhfYb1pUO"
      },
      "source": [
        "import numpy as np\n",
        "import pandas as pd\n",
        "import matplotlib.pyplot as plt\n",
        "import seaborn as sns"
      ],
      "execution_count": 1,
      "outputs": []
    },
    {
      "cell_type": "code",
      "metadata": {
        "colab": {
          "base_uri": "https://localhost:8080/",
          "height": 376
        },
        "id": "rxGN-s2_1pUP",
        "outputId": "bc2b401b-db93-4bf3-e295-ce33f894a99b"
      },
      "source": [
        "# Read in the data\n",
        "df = pd.read_csv(\"https://drive.google.com/uc?export=download&id=1jsazLeOrMKG4IJJ6-KpoGmxUdex6qPoJ\")\n",
        "df = df.dropna()\n",
        "print(df.shape)\n",
        "df.head(10)"
      ],
      "execution_count": 2,
      "outputs": [
        {
          "output_type": "stream",
          "text": [
            "(15, 8)\n"
          ],
          "name": "stdout"
        },
        {
          "output_type": "execute_result",
          "data": {
            "text/html": [
              "<div>\n",
              "<style scoped>\n",
              "    .dataframe tbody tr th:only-of-type {\n",
              "        vertical-align: middle;\n",
              "    }\n",
              "\n",
              "    .dataframe tbody tr th {\n",
              "        vertical-align: top;\n",
              "    }\n",
              "\n",
              "    .dataframe thead th {\n",
              "        text-align: right;\n",
              "    }\n",
              "</style>\n",
              "<table border=\"1\" class=\"dataframe\">\n",
              "  <thead>\n",
              "    <tr style=\"text-align: right;\">\n",
              "      <th></th>\n",
              "      <th>Name</th>\n",
              "      <th>Warm-blooded</th>\n",
              "      <th>Gives Birth</th>\n",
              "      <th>Aquatic Creature</th>\n",
              "      <th>Aerial Creature</th>\n",
              "      <th>Has Legs</th>\n",
              "      <th>Hibernates</th>\n",
              "      <th>Class</th>\n",
              "    </tr>\n",
              "  </thead>\n",
              "  <tbody>\n",
              "    <tr>\n",
              "      <th>0</th>\n",
              "      <td>human</td>\n",
              "      <td>1</td>\n",
              "      <td>1</td>\n",
              "      <td>0</td>\n",
              "      <td>0</td>\n",
              "      <td>1</td>\n",
              "      <td>0</td>\n",
              "      <td>mammals</td>\n",
              "    </tr>\n",
              "    <tr>\n",
              "      <th>1</th>\n",
              "      <td>python</td>\n",
              "      <td>0</td>\n",
              "      <td>0</td>\n",
              "      <td>0</td>\n",
              "      <td>0</td>\n",
              "      <td>0</td>\n",
              "      <td>1</td>\n",
              "      <td>non-mammals</td>\n",
              "    </tr>\n",
              "    <tr>\n",
              "      <th>2</th>\n",
              "      <td>salmon</td>\n",
              "      <td>0</td>\n",
              "      <td>0</td>\n",
              "      <td>1</td>\n",
              "      <td>0</td>\n",
              "      <td>0</td>\n",
              "      <td>0</td>\n",
              "      <td>non-mammals</td>\n",
              "    </tr>\n",
              "    <tr>\n",
              "      <th>3</th>\n",
              "      <td>whale</td>\n",
              "      <td>1</td>\n",
              "      <td>1</td>\n",
              "      <td>1</td>\n",
              "      <td>0</td>\n",
              "      <td>0</td>\n",
              "      <td>0</td>\n",
              "      <td>mammals</td>\n",
              "    </tr>\n",
              "    <tr>\n",
              "      <th>4</th>\n",
              "      <td>frog</td>\n",
              "      <td>0</td>\n",
              "      <td>0</td>\n",
              "      <td>1</td>\n",
              "      <td>0</td>\n",
              "      <td>1</td>\n",
              "      <td>1</td>\n",
              "      <td>non-mammals</td>\n",
              "    </tr>\n",
              "    <tr>\n",
              "      <th>5</th>\n",
              "      <td>komodo</td>\n",
              "      <td>0</td>\n",
              "      <td>0</td>\n",
              "      <td>0</td>\n",
              "      <td>0</td>\n",
              "      <td>1</td>\n",
              "      <td>0</td>\n",
              "      <td>non-mammals</td>\n",
              "    </tr>\n",
              "    <tr>\n",
              "      <th>6</th>\n",
              "      <td>bat</td>\n",
              "      <td>1</td>\n",
              "      <td>1</td>\n",
              "      <td>0</td>\n",
              "      <td>1</td>\n",
              "      <td>1</td>\n",
              "      <td>1</td>\n",
              "      <td>mammals</td>\n",
              "    </tr>\n",
              "    <tr>\n",
              "      <th>7</th>\n",
              "      <td>pigeon</td>\n",
              "      <td>1</td>\n",
              "      <td>0</td>\n",
              "      <td>0</td>\n",
              "      <td>1</td>\n",
              "      <td>1</td>\n",
              "      <td>0</td>\n",
              "      <td>non-mammals</td>\n",
              "    </tr>\n",
              "    <tr>\n",
              "      <th>8</th>\n",
              "      <td>cat</td>\n",
              "      <td>1</td>\n",
              "      <td>1</td>\n",
              "      <td>0</td>\n",
              "      <td>0</td>\n",
              "      <td>1</td>\n",
              "      <td>0</td>\n",
              "      <td>mammals</td>\n",
              "    </tr>\n",
              "    <tr>\n",
              "      <th>9</th>\n",
              "      <td>leopard shark</td>\n",
              "      <td>0</td>\n",
              "      <td>1</td>\n",
              "      <td>1</td>\n",
              "      <td>0</td>\n",
              "      <td>0</td>\n",
              "      <td>0</td>\n",
              "      <td>non-mammals</td>\n",
              "    </tr>\n",
              "  </tbody>\n",
              "</table>\n",
              "</div>"
            ],
            "text/plain": [
              "            Name  Warm-blooded  Gives Birth  ...  Has Legs  Hibernates        Class\n",
              "0          human             1            1  ...         1           0      mammals\n",
              "1         python             0            0  ...         0           1  non-mammals\n",
              "2         salmon             0            0  ...         0           0  non-mammals\n",
              "3          whale             1            1  ...         0           0      mammals\n",
              "4           frog             0            0  ...         1           1  non-mammals\n",
              "5         komodo             0            0  ...         1           0  non-mammals\n",
              "6            bat             1            1  ...         1           1      mammals\n",
              "7         pigeon             1            0  ...         1           0  non-mammals\n",
              "8            cat             1            1  ...         1           0      mammals\n",
              "9  leopard shark             0            1  ...         0           0  non-mammals\n",
              "\n",
              "[10 rows x 8 columns]"
            ]
          },
          "metadata": {
            "tags": []
          },
          "execution_count": 2
        }
      ]
    },
    {
      "cell_type": "code",
      "metadata": {
        "colab": {
          "base_uri": "https://localhost:8080/"
        },
        "id": "ImIjuS6q2XHK",
        "outputId": "fe798806-8e87-4e0a-9e2c-e7f95023d8ad"
      },
      "source": [
        "print('P(Class = Mammal):', df[df['Class'] == 'mammals'].Class.count() )"
      ],
      "execution_count": 3,
      "outputs": [
        {
          "output_type": "stream",
          "text": [
            "P(Class = Mammal): 5\n"
          ],
          "name": "stdout"
        }
      ]
    },
    {
      "cell_type": "markdown",
      "metadata": {
        "id": "oLDn_CTk2YGB"
      },
      "source": [
        "Let's figure out which way a flying squirrel would be classified. Assume that attribute values would be:\n",
        "\n",
        "Warm-blooded: 1\n",
        "Gives Birth: 1\n",
        "Aquatic Creature: 0\n",
        "Aerial Creature: 1\n",
        "Has Legs: 1\n",
        "Hibernates: 0\n",
        "We want to find P(M | A) and P(N | A), and check which is larger.\n",
        "\n",
        "P(M | 1,1,0,1,1,0) = P(M) P(WB=1 | M) P(GB=1 | M) P(AqC=0 | M) P(AeC=1 | M) P(HL=1 | M) P(H=0 | M) ... = 5/15 5/5 5/5 4/5 1/5 4/5 3/5 = 0.0256\n",
        "\n",
        "P(N | 1,1,0,1,1,0) = P(N) P(WB=1 | N) P(GB=1 | N) P(AqC=0 | N) P(AeC=1 | M) P(HL=1 | N) P(H=0 | N) ... = 10/15 2/10 1/10 3/10 1/10 6/10 7/10 = 0.000168\n",
        "\n",
        "Predict Mammal"
      ]
    },
    {
      "cell_type": "code",
      "metadata": {
        "colab": {
          "base_uri": "https://localhost:8080/"
        },
        "id": "k9paiBhT2hcE",
        "outputId": "368bfcfc-33d1-4f84-eb02-97b20cc2e08b"
      },
      "source": [
        "# Mammal\n",
        "5/15 * 5/5 * 5/5 * 4/5 * 1/5 * 4/5 * 3/5"
      ],
      "execution_count": 4,
      "outputs": [
        {
          "output_type": "execute_result",
          "data": {
            "text/plain": [
              "0.0256"
            ]
          },
          "metadata": {
            "tags": []
          },
          "execution_count": 4
        }
      ]
    },
    {
      "cell_type": "code",
      "metadata": {
        "colab": {
          "base_uri": "https://localhost:8080/"
        },
        "id": "Aa39i9nY2nvf",
        "outputId": "bb26c984-84d8-4eea-c77d-4bc37dd57b0c"
      },
      "source": [
        "# Non-mammal\n",
        "10/15 * 2/10 * 1/10 * 3/10 * 1/10 * 6/10 * 7/10\n"
      ],
      "execution_count": 5,
      "outputs": [
        {
          "output_type": "execute_result",
          "data": {
            "text/plain": [
              "0.00016799999999999994"
            ]
          },
          "metadata": {
            "tags": []
          },
          "execution_count": 5
        }
      ]
    },
    {
      "cell_type": "markdown",
      "metadata": {
        "id": "9zx7YwRn2-iH"
      },
      "source": [
        "## Build a classifier"
      ]
    },
    {
      "cell_type": "markdown",
      "metadata": {
        "id": "KqHrsCr-3AJY"
      },
      "source": [
        "### Separate out class label (target variable) into y and data into X, make a Naive Bayes classifier, and fit (learn) a model."
      ]
    },
    {
      "cell_type": "code",
      "metadata": {
        "colab": {
          "base_uri": "https://localhost:8080/"
        },
        "id": "AWShCkoV3DXI",
        "outputId": "c900d2a2-cb6a-4e7e-8c3a-ad8cc9e21ad5"
      },
      "source": [
        "ytrain = df['Class']\n",
        "Xtrain = df.drop(['Name','Class'], axis=1)\n",
        "\n",
        "from sklearn.naive_bayes import GaussianNB\n",
        "clf = GaussianNB()\n",
        "clf.fit(Xtrain, ytrain)"
      ],
      "execution_count": 6,
      "outputs": [
        {
          "output_type": "execute_result",
          "data": {
            "text/plain": [
              "GaussianNB(priors=None, var_smoothing=1e-09)"
            ]
          },
          "metadata": {
            "tags": []
          },
          "execution_count": 6
        }
      ]
    },
    {
      "cell_type": "code",
      "metadata": {
        "colab": {
          "base_uri": "https://localhost:8080/"
        },
        "id": "eytJm0nL3K4v",
        "outputId": "5f8fb7e6-e5c7-43c9-af50-1d19dade7929"
      },
      "source": [
        "print('Class names:', clf.classes_)\n",
        "print('Prior probabilities:', clf.class_prior_)\n",
        "print('Class count:', clf.class_count_)\n"
      ],
      "execution_count": 7,
      "outputs": [
        {
          "output_type": "stream",
          "text": [
            "Class names: ['mammals' 'non-mammals']\n",
            "Prior probabilities: [0.33333333 0.66666667]\n",
            "Class count: [ 5. 10.]\n"
          ],
          "name": "stdout"
        }
      ]
    },
    {
      "cell_type": "code",
      "metadata": {
        "colab": {
          "base_uri": "https://localhost:8080/",
          "height": 173
        },
        "id": "LIVm1_EZ3Ru8",
        "outputId": "172f80af-56f6-40eb-e0d7-54548ec7ba8a"
      },
      "source": [
        "testData = [\n",
        "            ['gila monster',0,0,0,0,1,1,'non-mammals'],\n",
        "            ['platypus',1,0,0,0,1,1,'mammals'],\n",
        "            ['owl',1,0,0,1,1,0,'non-mammals'],\n",
        "            ['dolphin',1,1,1,0,0,0,'mammals']\n",
        "           ]\n",
        "testData = pd.DataFrame(testData, columns=df.columns)\n",
        "testData"
      ],
      "execution_count": 8,
      "outputs": [
        {
          "output_type": "execute_result",
          "data": {
            "text/html": [
              "<div>\n",
              "<style scoped>\n",
              "    .dataframe tbody tr th:only-of-type {\n",
              "        vertical-align: middle;\n",
              "    }\n",
              "\n",
              "    .dataframe tbody tr th {\n",
              "        vertical-align: top;\n",
              "    }\n",
              "\n",
              "    .dataframe thead th {\n",
              "        text-align: right;\n",
              "    }\n",
              "</style>\n",
              "<table border=\"1\" class=\"dataframe\">\n",
              "  <thead>\n",
              "    <tr style=\"text-align: right;\">\n",
              "      <th></th>\n",
              "      <th>Name</th>\n",
              "      <th>Warm-blooded</th>\n",
              "      <th>Gives Birth</th>\n",
              "      <th>Aquatic Creature</th>\n",
              "      <th>Aerial Creature</th>\n",
              "      <th>Has Legs</th>\n",
              "      <th>Hibernates</th>\n",
              "      <th>Class</th>\n",
              "    </tr>\n",
              "  </thead>\n",
              "  <tbody>\n",
              "    <tr>\n",
              "      <th>0</th>\n",
              "      <td>gila monster</td>\n",
              "      <td>0</td>\n",
              "      <td>0</td>\n",
              "      <td>0</td>\n",
              "      <td>0</td>\n",
              "      <td>1</td>\n",
              "      <td>1</td>\n",
              "      <td>non-mammals</td>\n",
              "    </tr>\n",
              "    <tr>\n",
              "      <th>1</th>\n",
              "      <td>platypus</td>\n",
              "      <td>1</td>\n",
              "      <td>0</td>\n",
              "      <td>0</td>\n",
              "      <td>0</td>\n",
              "      <td>1</td>\n",
              "      <td>1</td>\n",
              "      <td>mammals</td>\n",
              "    </tr>\n",
              "    <tr>\n",
              "      <th>2</th>\n",
              "      <td>owl</td>\n",
              "      <td>1</td>\n",
              "      <td>0</td>\n",
              "      <td>0</td>\n",
              "      <td>1</td>\n",
              "      <td>1</td>\n",
              "      <td>0</td>\n",
              "      <td>non-mammals</td>\n",
              "    </tr>\n",
              "    <tr>\n",
              "      <th>3</th>\n",
              "      <td>dolphin</td>\n",
              "      <td>1</td>\n",
              "      <td>1</td>\n",
              "      <td>1</td>\n",
              "      <td>0</td>\n",
              "      <td>0</td>\n",
              "      <td>0</td>\n",
              "      <td>mammals</td>\n",
              "    </tr>\n",
              "  </tbody>\n",
              "</table>\n",
              "</div>"
            ],
            "text/plain": [
              "           Name  Warm-blooded  Gives Birth  ...  Has Legs  Hibernates        Class\n",
              "0  gila monster             0            0  ...         1           1  non-mammals\n",
              "1      platypus             1            0  ...         1           1      mammals\n",
              "2           owl             1            0  ...         1           0  non-mammals\n",
              "3       dolphin             1            1  ...         0           0      mammals\n",
              "\n",
              "[4 rows x 8 columns]"
            ]
          },
          "metadata": {
            "tags": []
          },
          "execution_count": 8
        }
      ]
    },
    {
      "cell_type": "markdown",
      "metadata": {
        "id": "ho1pH_lc3c3c"
      },
      "source": [
        "We first extract the predictor and target class attributes from the test data and then apply the classifier to predict their classes."
      ]
    },
    {
      "cell_type": "code",
      "metadata": {
        "colab": {
          "base_uri": "https://localhost:8080/",
          "height": 173
        },
        "id": "v4H4qvaX3ntO",
        "outputId": "effc979f-0ac9-4cff-f51b-5543c129cddd"
      },
      "source": [
        "ytest = testData['Class']\n",
        "Xtest = testData.drop(['Name','Class'], axis=1)\n",
        "\n",
        "ypred = clf.predict(Xtest)\n",
        "predictions = pd.concat([testData['Name'], pd.Series(ypred, name='Predicted Class')], axis=1)\n",
        "predictions"
      ],
      "execution_count": 9,
      "outputs": [
        {
          "output_type": "execute_result",
          "data": {
            "text/html": [
              "<div>\n",
              "<style scoped>\n",
              "    .dataframe tbody tr th:only-of-type {\n",
              "        vertical-align: middle;\n",
              "    }\n",
              "\n",
              "    .dataframe tbody tr th {\n",
              "        vertical-align: top;\n",
              "    }\n",
              "\n",
              "    .dataframe thead th {\n",
              "        text-align: right;\n",
              "    }\n",
              "</style>\n",
              "<table border=\"1\" class=\"dataframe\">\n",
              "  <thead>\n",
              "    <tr style=\"text-align: right;\">\n",
              "      <th></th>\n",
              "      <th>Name</th>\n",
              "      <th>Predicted Class</th>\n",
              "    </tr>\n",
              "  </thead>\n",
              "  <tbody>\n",
              "    <tr>\n",
              "      <th>0</th>\n",
              "      <td>gila monster</td>\n",
              "      <td>non-mammals</td>\n",
              "    </tr>\n",
              "    <tr>\n",
              "      <th>1</th>\n",
              "      <td>platypus</td>\n",
              "      <td>non-mammals</td>\n",
              "    </tr>\n",
              "    <tr>\n",
              "      <th>2</th>\n",
              "      <td>owl</td>\n",
              "      <td>non-mammals</td>\n",
              "    </tr>\n",
              "    <tr>\n",
              "      <th>3</th>\n",
              "      <td>dolphin</td>\n",
              "      <td>mammals</td>\n",
              "    </tr>\n",
              "  </tbody>\n",
              "</table>\n",
              "</div>"
            ],
            "text/plain": [
              "           Name Predicted Class\n",
              "0  gila monster     non-mammals\n",
              "1      platypus     non-mammals\n",
              "2           owl     non-mammals\n",
              "3       dolphin         mammals"
            ]
          },
          "metadata": {
            "tags": []
          },
          "execution_count": 9
        }
      ]
    },
    {
      "cell_type": "markdown",
      "metadata": {
        "id": "gqARJz9b36Fd"
      },
      "source": [
        "Except for platypus, which is an egg-laying mammal, the classifier correctly predicts the class label of the test examples."
      ]
    },
    {
      "cell_type": "code",
      "metadata": {
        "colab": {
          "base_uri": "https://localhost:8080/"
        },
        "id": "IC5DUvVH4B5G",
        "outputId": "83063d61-ee10-4e60-bf15-d9427c9d514b"
      },
      "source": [
        "from sklearn.metrics import accuracy_score\n",
        "acc = accuracy_score(ytest, ypred)\n",
        "print('Accuracy on test data is {:.2f}'.format(acc))\n"
      ],
      "execution_count": 10,
      "outputs": [
        {
          "output_type": "stream",
          "text": [
            "Accuracy on test data is 0.75\n"
          ],
          "name": "stdout"
        }
      ]
    },
    {
      "cell_type": "code",
      "metadata": {
        "colab": {
          "base_uri": "https://localhost:8080/"
        },
        "id": "KfuDPLkcw0qx",
        "outputId": "dafbe00d-1acc-48aa-8b99-edddadf4f3aa"
      },
      "source": [
        "from sklearn.metrics import classification_report\n",
        "print(classification_report(ytest, ypred))"
      ],
      "execution_count": 11,
      "outputs": [
        {
          "output_type": "stream",
          "text": [
            "              precision    recall  f1-score   support\n",
            "\n",
            "     mammals       1.00      0.50      0.67         2\n",
            " non-mammals       0.67      1.00      0.80         2\n",
            "\n",
            "    accuracy                           0.75         4\n",
            "   macro avg       0.83      0.75      0.73         4\n",
            "weighted avg       0.83      0.75      0.73         4\n",
            "\n"
          ],
          "name": "stdout"
        }
      ]
    },
    {
      "cell_type": "code",
      "metadata": {
        "colab": {
          "base_uri": "https://localhost:8080/",
          "height": 283
        },
        "id": "9TEB_1rAwHiD",
        "outputId": "dee2f981-dd67-4155-b628-ec7375f8b5e6"
      },
      "source": [
        "from sklearn.metrics import confusion_matrix\n",
        "cm = confusion_matrix(ytest, ypred)\n",
        "sns.heatmap(cm, square=True, annot=True, fmt='d', cbar=True, cmap='Reds')\n",
        "plt.xlabel('predicted label')\n",
        "plt.ylabel('actual label');"
      ],
      "execution_count": 12,
      "outputs": [
        {
          "output_type": "display_data",
          "data": {
            "image/png": "[encoded data removed]",
            "text/plain": [
              "<Figure size 432x288 with 2 Axes>"
            ]
          },
          "metadata": {
            "tags": [],
            "needs_background": "light"
          }
        }
      ]
    },
    {
      "cell_type": "markdown",
      "metadata": {
        "id": "ZhiXJ-Vx4ITW"
      },
      "source": [
        "## Challenge"
      ]
    },
    {
      "cell_type": "code",
      "metadata": {
        "colab": {
          "base_uri": "https://localhost:8080/",
          "height": 295
        },
        "id": "xhRhnNEA4OdR",
        "outputId": "9d5e9aa9-637c-4f54-98b6-5fc072baf336"
      },
      "source": [
        "# Using KNN Classifier from the Scikit Learn library\n",
        "from sklearn.neighbors import KNeighborsClassifier\n",
        "acc = []\n",
        "k_vals = np.arange(1, 16)\n",
        "\n",
        "for k in k_vals:\n",
        "    neighbor = KNeighborsClassifier(n_neighbors=k)\n",
        "    neighbor.fit(Xtrain, ytrain)\n",
        "    ypred = neighbor.predict(Xtest)\n",
        "    acc.append(neighbor.score(Xtest, ytest))\n",
        "\n",
        "plt.plot(k_vals, acc, ':b.')\n",
        "plt.xlabel('K')\n",
        "plt.ylabel('Accuracy')\n",
        "plt.title('Accuracy vs K for KNN classifier')\n",
        "plt.show()"
      ],
      "execution_count": 13,
      "outputs": [
        {
          "output_type": "display_data",
          "data": {
            "image/png": "[encoded data removed]",
            "text/plain": [
              "<Figure size 432x288 with 1 Axes>"
            ]
          },
          "metadata": {
            "tags": [],
            "needs_background": "light"
          }
        }
      ]
    },
    {
      "cell_type": "code",
      "metadata": {
        "id": "TZcTjDRL4aNM"
      },
      "source": [
        ""
      ],
      "execution_count": 13,
      "outputs": []
    }
  ]
}